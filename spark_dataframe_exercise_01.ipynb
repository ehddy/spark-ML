{
 "cells": [
  {
   "cell_type": "markdown",
   "metadata": {
    "application/vnd.databricks.v1+cell": {
     "inputWidgets": {},
     "nuid": "50f87cac-0a22-4a0c-a24e-e83757063089",
     "showTitle": false,
     "title": ""
    }
   },
   "source": [
    "### titanic_train.csv 파일을 로드하고, 이를 DataFrame으로 변환"
   ]
  },
  {
   "cell_type": "code",
   "execution_count": 22,
   "metadata": {
    "application/vnd.databricks.v1+cell": {
     "inputWidgets": {},
     "nuid": "19d39034-1d83-4d88-b9d7-d29ef5e3e8dc",
     "showTitle": false,
     "title": ""
    }
   },
   "outputs": [
    {
     "name": "stdout",
     "output_type": "stream",
     "text": [
      "stock sdf type: <class 'pyspark.sql.dataframe.DataFrame'>\n",
      "+--------+------------+-----+------+------------+----------+------+-----+-------+-------+--------+----+----------+----------+--------------+------------+--------------+----------------+-----+-----+-----+------+----------+------------+--------+--------+--------------+--------+\n",
      "|종목코드|      종목명| 종가|등락률|    시가총액|    기준일|   eps|  per|선행eps|선행per|     bps| pbr|주당배당금|배당수익률|외국인보유수량|외국인지분율|외국인한도수량|외국인한도소진율| 시가| 고가| 저가|거래량|  거래대금|기업고유번호|시장구분|종목구분|          섹터|  업종명|\n",
      "+--------+------------+-----+------+------------+----------+------+-----+-------+-------+--------+----+----------+----------+--------------+------------+--------------+----------------+-----+-----+-----+------+----------+------------+--------+--------+--------------+--------+\n",
      "|  000020|    동화약품| 9350| -0.85|261159244500|2024-03-15| 736.0| 12.7|   null|   null| 13165.0|0.71|     180.0|      1.93|       1681856|        6.02|      27931470|            6.02| 9450| 9450| 9300| 72206| 674278570|      119195|   KOSPI|  보통주|      건강관리|  의약품|\n",
      "|  000040|    KR모터스|  465|   0.0| 44704386225|2024-03-15|  null| null|   null|   null|   345.0|1.35|       0.0|       0.0|      43963412|       45.73|      96138465|           45.73|    0|    0|    0|     0|         0|      112378|   KOSPI|  보통주|경기관련소비재|운수장비|\n",
      "|  000050|        경방| 8470| -1.63|232207336900|2024-03-15| 177.0|47.85|   null|   null| 30304.0|0.28|     125.0|      1.48|        270629|        0.99|      27415270|            0.99| 8610| 8690| 8270| 11024|  93485040|      101628|   KOSPI|  보통주|경기관련소비재|  유통업|\n",
      "|  000070|  삼양홀딩스|71300| -1.93|610632522300|2024-03-15|9173.0| 7.77|   null|   null|240995.0| 0.3|    3500.0|      4.91|        767205|        8.96|       8564271|            8.96|73000|74500|71300| 32624|2341408000|      126937|   KOSPI|  보통주|          소재|기타금융|\n",
      "|  000075|삼양홀딩스우|54900| -0.18| 16692784200|2024-03-15|  null| null|   null|   null|    null|null|    3550.0|      6.47|          4017|        1.32|        304058|            1.32|55400|55400|54800|    96|   5264000|        null|   KOSPI|  우선주|          null|기타금융|\n",
      "+--------+------------+-----+------+------------+----------+------+-----+-------+-------+--------+----+----------+----------+--------------+------------+--------------+----------------+-----+-----+-----+------+----------+------------+--------+--------+--------------+--------+\n",
      "only showing top 5 rows\n",
      "\n"
     ]
    }
   ],
   "source": [
    "from pyspark.sql import SparkSession\n",
    "\n",
    "# SparkSession 객체 생성\n",
    "spark = SparkSession.builder \\\n",
    "    .appName(\"stock\") \\\n",
    "    .getOrCreate()\n",
    "\n",
    "\n",
    "\n",
    "# pandas 버전\n",
    "# pandas_df = pd.read_csv('titanic_train.csv', header='infer')\n",
    "\n",
    "#spark.read.csv() 메소드를 이용하여 csv 파일을 로드하고 DataFrame으로 변환. \n",
    "# CSV 파일을 pandas 데이터프레임으로 불러올 때, 'NULL' 문자열을 NaN 값으로 대체하도록 설정\n",
    "stock_sdf = spark.read.csv('./data/stock_info_0315.csv', header=True, inferSchema=True,  nullValue='NULL')\n",
    "print('stock sdf type:', type(stock_sdf))\n",
    "\n",
    "stock_sdf.show(5)\n",
    "\n",
    "# spark DataFrame을 메모리에 cache\n",
    "stock_sdf = stock_sdf.cache()"
   ]
  },
  {
   "cell_type": "code",
   "execution_count": 23,
   "metadata": {
    "application/vnd.databricks.v1+cell": {
     "inputWidgets": {},
     "nuid": "e794dfc5-86ad-4eff-b1cf-58d913053289",
     "showTitle": false,
     "title": ""
    }
   },
   "outputs": [
    {
     "data": {
      "text/html": [
       "<div>\n",
       "<style scoped>\n",
       "    .dataframe tbody tr th:only-of-type {\n",
       "        vertical-align: middle;\n",
       "    }\n",
       "\n",
       "    .dataframe tbody tr th {\n",
       "        vertical-align: top;\n",
       "    }\n",
       "\n",
       "    .dataframe thead th {\n",
       "        text-align: right;\n",
       "    }\n",
       "</style>\n",
       "<table border=\"1\" class=\"dataframe\">\n",
       "  <thead>\n",
       "    <tr style=\"text-align: right;\">\n",
       "      <th></th>\n",
       "      <th>종목코드</th>\n",
       "      <th>종목명</th>\n",
       "      <th>종가</th>\n",
       "      <th>등락률</th>\n",
       "      <th>시가총액</th>\n",
       "      <th>기준일</th>\n",
       "      <th>eps</th>\n",
       "      <th>per</th>\n",
       "      <th>선행eps</th>\n",
       "      <th>선행per</th>\n",
       "      <th>...</th>\n",
       "      <th>시가</th>\n",
       "      <th>고가</th>\n",
       "      <th>저가</th>\n",
       "      <th>거래량</th>\n",
       "      <th>거래대금</th>\n",
       "      <th>기업고유번호</th>\n",
       "      <th>시장구분</th>\n",
       "      <th>종목구분</th>\n",
       "      <th>섹터</th>\n",
       "      <th>업종명</th>\n",
       "    </tr>\n",
       "  </thead>\n",
       "  <tbody>\n",
       "    <tr>\n",
       "      <th>0</th>\n",
       "      <td>000020</td>\n",
       "      <td>동화약품</td>\n",
       "      <td>9350</td>\n",
       "      <td>-0.85</td>\n",
       "      <td>261159244500</td>\n",
       "      <td>2024-03-15</td>\n",
       "      <td>736.0</td>\n",
       "      <td>12.70</td>\n",
       "      <td>NaN</td>\n",
       "      <td>NaN</td>\n",
       "      <td>...</td>\n",
       "      <td>9450</td>\n",
       "      <td>9450</td>\n",
       "      <td>9300</td>\n",
       "      <td>72206</td>\n",
       "      <td>674278570</td>\n",
       "      <td>119195.0</td>\n",
       "      <td>KOSPI</td>\n",
       "      <td>보통주</td>\n",
       "      <td>건강관리</td>\n",
       "      <td>의약품</td>\n",
       "    </tr>\n",
       "    <tr>\n",
       "      <th>1</th>\n",
       "      <td>000040</td>\n",
       "      <td>KR모터스</td>\n",
       "      <td>465</td>\n",
       "      <td>0.00</td>\n",
       "      <td>44704386225</td>\n",
       "      <td>2024-03-15</td>\n",
       "      <td>NaN</td>\n",
       "      <td>NaN</td>\n",
       "      <td>NaN</td>\n",
       "      <td>NaN</td>\n",
       "      <td>...</td>\n",
       "      <td>0</td>\n",
       "      <td>0</td>\n",
       "      <td>0</td>\n",
       "      <td>0</td>\n",
       "      <td>0</td>\n",
       "      <td>112378.0</td>\n",
       "      <td>KOSPI</td>\n",
       "      <td>보통주</td>\n",
       "      <td>경기관련소비재</td>\n",
       "      <td>운수장비</td>\n",
       "    </tr>\n",
       "    <tr>\n",
       "      <th>2</th>\n",
       "      <td>000050</td>\n",
       "      <td>경방</td>\n",
       "      <td>8470</td>\n",
       "      <td>-1.63</td>\n",
       "      <td>232207336900</td>\n",
       "      <td>2024-03-15</td>\n",
       "      <td>177.0</td>\n",
       "      <td>47.85</td>\n",
       "      <td>NaN</td>\n",
       "      <td>NaN</td>\n",
       "      <td>...</td>\n",
       "      <td>8610</td>\n",
       "      <td>8690</td>\n",
       "      <td>8270</td>\n",
       "      <td>11024</td>\n",
       "      <td>93485040</td>\n",
       "      <td>101628.0</td>\n",
       "      <td>KOSPI</td>\n",
       "      <td>보통주</td>\n",
       "      <td>경기관련소비재</td>\n",
       "      <td>유통업</td>\n",
       "    </tr>\n",
       "    <tr>\n",
       "      <th>3</th>\n",
       "      <td>000070</td>\n",
       "      <td>삼양홀딩스</td>\n",
       "      <td>71300</td>\n",
       "      <td>-1.93</td>\n",
       "      <td>610632522300</td>\n",
       "      <td>2024-03-15</td>\n",
       "      <td>9173.0</td>\n",
       "      <td>7.77</td>\n",
       "      <td>NaN</td>\n",
       "      <td>NaN</td>\n",
       "      <td>...</td>\n",
       "      <td>73000</td>\n",
       "      <td>74500</td>\n",
       "      <td>71300</td>\n",
       "      <td>32624</td>\n",
       "      <td>2341408000</td>\n",
       "      <td>126937.0</td>\n",
       "      <td>KOSPI</td>\n",
       "      <td>보통주</td>\n",
       "      <td>소재</td>\n",
       "      <td>기타금융</td>\n",
       "    </tr>\n",
       "    <tr>\n",
       "      <th>4</th>\n",
       "      <td>000075</td>\n",
       "      <td>삼양홀딩스우</td>\n",
       "      <td>54900</td>\n",
       "      <td>-0.18</td>\n",
       "      <td>16692784200</td>\n",
       "      <td>2024-03-15</td>\n",
       "      <td>NaN</td>\n",
       "      <td>NaN</td>\n",
       "      <td>NaN</td>\n",
       "      <td>NaN</td>\n",
       "      <td>...</td>\n",
       "      <td>55400</td>\n",
       "      <td>55400</td>\n",
       "      <td>54800</td>\n",
       "      <td>96</td>\n",
       "      <td>5264000</td>\n",
       "      <td>NaN</td>\n",
       "      <td>KOSPI</td>\n",
       "      <td>우선주</td>\n",
       "      <td>NaN</td>\n",
       "      <td>기타금융</td>\n",
       "    </tr>\n",
       "  </tbody>\n",
       "</table>\n",
       "<p>5 rows × 28 columns</p>\n",
       "</div>"
      ],
      "text/plain": [
       "     종목코드     종목명     종가   등락률          시가총액         기준일     eps    per  \\\n",
       "0  000020    동화약품   9350 -0.85  261159244500  2024-03-15   736.0  12.70   \n",
       "1  000040   KR모터스    465  0.00   44704386225  2024-03-15     NaN    NaN   \n",
       "2  000050      경방   8470 -1.63  232207336900  2024-03-15   177.0  47.85   \n",
       "3  000070   삼양홀딩스  71300 -1.93  610632522300  2024-03-15  9173.0   7.77   \n",
       "4  000075  삼양홀딩스우  54900 -0.18   16692784200  2024-03-15     NaN    NaN   \n",
       "\n",
       "   선행eps  선행per  ...     시가     고가     저가    거래량        거래대금    기업고유번호   시장구분  \\\n",
       "0    NaN    NaN  ...   9450   9450   9300  72206   674278570  119195.0  KOSPI   \n",
       "1    NaN    NaN  ...      0      0      0      0           0  112378.0  KOSPI   \n",
       "2    NaN    NaN  ...   8610   8690   8270  11024    93485040  101628.0  KOSPI   \n",
       "3    NaN    NaN  ...  73000  74500  71300  32624  2341408000  126937.0  KOSPI   \n",
       "4    NaN    NaN  ...  55400  55400  54800     96     5264000       NaN  KOSPI   \n",
       "\n",
       "   종목구분       섹터   업종명  \n",
       "0   보통주     건강관리   의약품  \n",
       "1   보통주  경기관련소비재  운수장비  \n",
       "2   보통주  경기관련소비재   유통업  \n",
       "3   보통주       소재  기타금융  \n",
       "4   우선주      NaN  기타금융  \n",
       "\n",
       "[5 rows x 28 columns]"
      ]
     },
     "execution_count": 23,
     "metadata": {},
     "output_type": "execute_result"
    }
   ],
   "source": [
    "import pandas as pd\n",
    "\n",
    "na_values = ['NULL']\n",
    "stock_pdf = pd.read_csv('./data/stock_info_0315.csv', header='infer', na_values=na_values)\n",
    "\n",
    "stock_pdf.head(5)"
   ]
  },
  {
   "cell_type": "code",
   "execution_count": 41,
   "metadata": {
    "application/vnd.databricks.v1+cell": {
     "inputWidgets": {},
     "nuid": "768bcf4f-6a7f-442b-b712-48a8b7fc536f",
     "showTitle": false,
     "title": ""
    }
   },
   "outputs": [
    {
     "name": "stdout",
     "output_type": "stream",
     "text": [
      "<class 'pandas.core.frame.DataFrame'>\n",
      "<class 'pyspark.sql.dataframe.DataFrame'>\n"
     ]
    }
   ],
   "source": [
    "\n",
    "import pandas as pd\n",
    "\n",
    "# pandas DataFrame을 spark DataFrame으로 부터 생성. \n",
    "stock_pdf = stock_sdf.select('*').toPandas()\n",
    "print(type(stock_pdf))\n",
    "\n",
    "# pandas DataFrame은 spark DataFrame으로 변환\n",
    "stock_sdf = spark.createDataFrame(stock_pdf)\n",
    "print(type(stock_sdf))"
   ]
  },
  {
   "cell_type": "code",
   "execution_count": 15,
   "metadata": {
    "application/vnd.databricks.v1+cell": {
     "inputWidgets": {},
     "nuid": "7536d43d-7429-4b92-a396-1828eb493e4e",
     "showTitle": false,
     "title": ""
    }
   },
   "outputs": [],
   "source": [
    "# spark DataFrame을 메모리에 cache\n",
    "titianic_sdf = titanic_sdf.cache()"
   ]
  },
  {
   "cell_type": "markdown",
   "metadata": {
    "application/vnd.databricks.v1+cell": {
     "inputWidgets": {},
     "nuid": "4bef7733-f49c-49d1-87fa-517ff574ccd8",
     "showTitle": false,
     "title": ""
    }
   },
   "source": [
    "#### pandas DataFrame의 head()와 spark DataFrame head() 비교 및 print() 적용 시 차이\n",
    "* pandas DataFrame의 head(N)는 Dataframe의 선두 N개 Record를 가지는 DataFrame을 반환\n",
    "* spark DataFrame의 head(N)는 DataFrame의 선두 N개 Row Object를 list로 반환. \n",
    "* spark DataFrame의 limit(N)가 DataFrame의 선두 N개 Record를 가지는 DataFrame을 반환. \n",
    "* pandas DataFrame은 print() 적용 시 DataFrame의 내용을 출력하지만 spark DataFrame은 DataFrame의 schema만 출력"
   ]
  },
  {
   "cell_type": "code",
   "execution_count": 11,
   "metadata": {
    "application/vnd.databricks.v1+cell": {
     "inputWidgets": {},
     "nuid": "9c60145c-a9b1-44ce-89a4-f87e4c92c74d",
     "showTitle": false,
     "title": ""
    }
   },
   "outputs": [
    {
     "name": "stdout",
     "output_type": "stream",
     "text": [
      "<class 'pandas.core.frame.DataFrame'>\n"
     ]
    }
   ],
   "source": [
    "# pandas DataFrame.head(N)는 선두 N개 Record를 가지는 DataFrame 반환\n",
    "print(type(stock_pdf.head(10)))\n",
    "# Pandas DataFrame은 print()로 DataFrame의 내용을 출력. "
   ]
  },
  {
   "cell_type": "code",
   "execution_count": 12,
   "metadata": {
    "application/vnd.databricks.v1+cell": {
     "inputWidgets": {},
     "nuid": "60ecc4dc-d7d0-4d52-a6e1-c2a44f253795",
     "showTitle": false,
     "title": ""
    }
   },
   "outputs": [
    {
     "name": "stdout",
     "output_type": "stream",
     "text": [
      "<class 'list'>\n",
      "[Row(종목코드='000020', 종목명='동화약품', 종가=9350, 등락률=-0.85, 시가총액=261159244500, 기준일=datetime.date(2024, 3, 15), eps='736.0', per='12.7', 선행eps='NULL', 선행per='NULL', bps='13165.0', pbr='0.71', 주당배당금='180.0', 배당수익률='1.93', 외국인보유수량=1681856, 외국인지분율=6.02, 외국인한도수량=27931470, 외국인한도소진율=6.02, 시가=9450, 고가=9450, 저가=9300, 거래량=72206, 거래대금=674278570, 기업고유번호='00119195', 시장구분='KOSPI', 종목구분='보통주', 섹터='건강관리', 업종명='의약품'), Row(종목코드='000040', 종목명='KR모터스', 종가=465, 등락률=0.0, 시가총액=44704386225, 기준일=datetime.date(2024, 3, 15), eps='NULL', per='NULL', 선행eps='NULL', 선행per='NULL', bps='345.0', pbr='1.35', 주당배당금='0.0', 배당수익률='0.0', 외국인보유수량=43963412, 외국인지분율=45.73, 외국인한도수량=96138465, 외국인한도소진율=45.73, 시가=0, 고가=0, 저가=0, 거래량=0, 거래대금=0, 기업고유번호='00112378', 시장구분='KOSPI', 종목구분='보통주', 섹터='경기관련소비재', 업종명='운수장비'), Row(종목코드='000050', 종목명='경방', 종가=8470, 등락률=-1.63, 시가총액=232207336900, 기준일=datetime.date(2024, 3, 15), eps='177.0', per='47.85', 선행eps='NULL', 선행per='NULL', bps='30304.0', pbr='0.28', 주당배당금='125.0', 배당수익률='1.48', 외국인보유수량=270629, 외국인지분율=0.99, 외국인한도수량=27415270, 외국인한도소진율=0.99, 시가=8610, 고가=8690, 저가=8270, 거래량=11024, 거래대금=93485040, 기업고유번호='00101628', 시장구분='KOSPI', 종목구분='보통주', 섹터='경기관련소비재', 업종명='유통업'), Row(종목코드='000070', 종목명='삼양홀딩스', 종가=71300, 등락률=-1.93, 시가총액=610632522300, 기준일=datetime.date(2024, 3, 15), eps='9173.0', per='7.77', 선행eps='NULL', 선행per='NULL', bps='240995.0', pbr='0.3', 주당배당금='3500.0', 배당수익률='4.91', 외국인보유수량=767205, 외국인지분율=8.96, 외국인한도수량=8564271, 외국인한도소진율=8.96, 시가=73000, 고가=74500, 저가=71300, 거래량=32624, 거래대금=2341408000, 기업고유번호='00126937', 시장구분='KOSPI', 종목구분='보통주', 섹터='소재', 업종명='기타금융'), Row(종목코드='000075', 종목명='삼양홀딩스우', 종가=54900, 등락률=-0.18, 시가총액=16692784200, 기준일=datetime.date(2024, 3, 15), eps='NULL', per='NULL', 선행eps='NULL', 선행per='NULL', bps='NULL', pbr='NULL', 주당배당금='3550.0', 배당수익률='6.47', 외국인보유수량=4017, 외국인지분율=1.32, 외국인한도수량=304058, 외국인한도소진율=1.32, 시가=55400, 고가=55400, 저가=54800, 거래량=96, 거래대금=5264000, 기업고유번호='NULL', 시장구분='KOSPI', 종목구분='우선주', 섹터='NULL', 업종명='기타금융'), Row(종목코드='000080', 종목명='하이트진로', 종가=20300, 등락률=0.0, 시가총액=1423712303300, 기준일=datetime.date(2024, 3, 15), eps='1250.0', per='16.24', 선행eps='1265.0', 선행per='16.05', bps='16906.0', pbr='1.2', 주당배당금='950.0', 배당수익률='4.68', 외국인보유수량=7777084, 외국인지분율=11.09, 외국인한도수량=70133611, 외국인한도소진율=11.09, 시가=20300, 고가=20300, 저가=19960, 거래량=154102, 거래대금=3103992290, 기업고유번호='00150244', 시장구분='KOSPI', 종목구분='보통주', 섹터='필수소비재', 업종명='음식료품'), Row(종목코드='000087', 종목명='하이트진로2우B', 종가=15710, 등락률=0.58, 시가총액=17754467980, 기준일=datetime.date(2024, 3, 15), eps='NULL', per='NULL', 선행eps='NULL', 선행per='NULL', bps='NULL', pbr='NULL', 주당배당금='1000.0', 배당수익률='6.37', 외국인보유수량=4836, 외국인지분율=0.43, 외국인한도수량=1130138, 외국인한도소진율=0.43, 시가=15530, 고가=15720, 저가=15530, 거래량=508, 거래대금=7934080, 기업고유번호='NULL', 시장구분='KOSPI', 종목구분='우선주', 섹터='NULL', 업종명='음식료품'), Row(종목코드='000100', 종목명='유한양행', 종가=74000, 등락률=-1.6, 시가총액=5935470736000, 기준일=datetime.date(2024, 3, 15), eps='1272.0', per='58.18', 선행eps='2145.0', 선행per='34.5', bps='27137.0', pbr='2.73', 주당배당금='400.0', 배당수익률='0.54', 외국인보유수량=16063263, 외국인지분율=20.03, 외국인한도수량=80209064, 외국인한도소진율=20.03, 시가=76200, 고가=77800, 저가=73700, 거래량=634851, 거래대금=47632579300, 기업고유번호='00145109', 시장구분='KOSPI', 종목구분='보통주', 섹터='건강관리', 업종명='의약품'), Row(종목코드='000105', 종목명='유한양행우', 종가=63400, 등락률=-2.46, 시가총액=74871596000, 기준일=datetime.date(2024, 3, 15), eps='NULL', per='NULL', 선행eps='NULL', 선행per='NULL', bps='NULL', pbr='NULL', 주당배당금='410.0', 배당수익률='0.65', 외국인보유수량=0, 외국인지분율=0.0, 외국인한도수량=1180940, 외국인한도소진율=0.0, 시가=65000, 고가=65800, 저가=63200, 거래량=1952, 거래대금=125010900, 기업고유번호='NULL', 시장구분='KOSPI', 종목구분='우선주', 섹터='NULL', 업종명='의약품'), Row(종목코드='000120', 종목명='CJ대한통운', 종가=124600, 등락률=-1.19, 시가총액=2842418062400, 기준일=datetime.date(2024, 3, 15), eps='8190.0', per='15.21', 선행eps='12469.0', 선행per='9.99', bps='179031.0', pbr='0.7', 주당배당금='500.0', 배당수익률='0.4', 외국인보유수량=2998297, 외국인지분율=13.14, 외국인한도수량=22812344, 외국인한도소진율=13.14, 시가=122800, 고가=126200, 저가=120100, 거래량=100113, 거래대금=12413223600, 기업고유번호='00113410', 시장구분='KOSPI', 종목구분='보통주', 섹터='산업재', 업종명='운수창고업')]\n"
     ]
    }
   ],
   "source": [
    "# spark DataFrame의 head(N)는 DataFrame의 선두 N개 Row Object를 list로 반환.\n",
    "print(type(stock_sdf.head(10)))\n",
    "print(stock_sdf.head(10))"
   ]
  },
  {
   "cell_type": "code",
   "execution_count": 13,
   "metadata": {
    "application/vnd.databricks.v1+cell": {
     "inputWidgets": {},
     "nuid": "d87f1899-0882-4606-a51f-0b69d229aca4",
     "showTitle": false,
     "title": ""
    }
   },
   "outputs": [
    {
     "data": {
      "text/plain": [
       "DataFrame[종목코드: string, 종목명: string, 종가: int, 등락률: double, 시가총액: bigint, 기준일: date, eps: string, per: string, 선행eps: string, 선행per: string, bps: string, pbr: string, 주당배당금: string, 배당수익률: string, 외국인보유수량: bigint, 외국인지분율: double, 외국인한도수량: bigint, 외국인한도소진율: double, 시가: int, 고가: int, 저가: int, 거래량: int, 거래대금: bigint, 기업고유번호: string, 시장구분: string, 종목구분: string, 섹터: string, 업종명: string]"
      ]
     },
     "execution_count": 13,
     "metadata": {},
     "output_type": "execute_result"
    }
   ],
   "source": [
    "stock_sdf"
   ]
  },
  {
   "cell_type": "code",
   "execution_count": 15,
   "metadata": {
    "application/vnd.databricks.v1+cell": {
     "inputWidgets": {},
     "nuid": "b9d3e4c0-b93a-40be-9bd8-dad76ad10074",
     "showTitle": false,
     "title": ""
    }
   },
   "outputs": [
    {
     "name": "stdout",
     "output_type": "stream",
     "text": [
      "<class 'pyspark.sql.dataframe.DataFrame'>\n",
      "DataFrame[종목코드: string, 종목명: string, 종가: int, 등락률: double, 시가총액: bigint, 기준일: date, eps: string, per: string, 선행eps: string, 선행per: string, bps: string, pbr: string, 주당배당금: string, 배당수익률: string, 외국인보유수량: bigint, 외국인지분율: double, 외국인한도수량: bigint, 외국인한도소진율: double, 시가: int, 고가: int, 저가: int, 거래량: int, 거래대금: bigint, 기업고유번호: string, 시장구분: string, 종목구분: string, 섹터: string, 업종명: string]\n"
     ]
    }
   ],
   "source": [
    "# spark DataFrame의 limit(N)은 DataFrame의 선두 N개 Record를 가지는 DataFrame을 반환.\n",
    "print(type(stock_sdf.limit(10)))\n",
    "\n",
    "# spark DataFrame은 pandas와 다르게 print() 호출 시 값을 출력하지 않고 DataFrame의 schema만 출력.  \n",
    "print(stock_sdf.limit(10))"
   ]
  },
  {
   "cell_type": "code",
   "execution_count": 25,
   "metadata": {
    "application/vnd.databricks.v1+cell": {
     "inputWidgets": {},
     "nuid": "2f612dc4-b8c6-4039-bd14-8ed5b99411ef",
     "showTitle": false,
     "title": ""
    }
   },
   "outputs": [
    {
     "name": "stdout",
     "output_type": "stream",
     "text": [
      "+--------+------------+-----+------+------------+----------+------+-----+-------+-------+--------+----+----------+----------+--------------+------------+--------------+----------------+-----+-----+-----+------+----------+------------+--------+--------+--------------+--------+\n",
      "|종목코드|      종목명| 종가|등락률|    시가총액|    기준일|   eps|  per|선행eps|선행per|     bps| pbr|주당배당금|배당수익률|외국인보유수량|외국인지분율|외국인한도수량|외국인한도소진율| 시가| 고가| 저가|거래량|  거래대금|기업고유번호|시장구분|종목구분|          섹터|  업종명|\n",
      "+--------+------------+-----+------+------------+----------+------+-----+-------+-------+--------+----+----------+----------+--------------+------------+--------------+----------------+-----+-----+-----+------+----------+------------+--------+--------+--------------+--------+\n",
      "|  000020|    동화약품| 9350| -0.85|261159244500|2024-03-15| 736.0| 12.7|   null|   null| 13165.0|0.71|     180.0|      1.93|       1681856|        6.02|      27931470|            6.02| 9450| 9450| 9300| 72206| 674278570|      119195|   KOSPI|  보통주|      건강관리|  의약품|\n",
      "|  000040|    KR모터스|  465|   0.0| 44704386225|2024-03-15|  null| null|   null|   null|   345.0|1.35|       0.0|       0.0|      43963412|       45.73|      96138465|           45.73|    0|    0|    0|     0|         0|      112378|   KOSPI|  보통주|경기관련소비재|운수장비|\n",
      "|  000050|        경방| 8470| -1.63|232207336900|2024-03-15| 177.0|47.85|   null|   null| 30304.0|0.28|     125.0|      1.48|        270629|        0.99|      27415270|            0.99| 8610| 8690| 8270| 11024|  93485040|      101628|   KOSPI|  보통주|경기관련소비재|  유통업|\n",
      "|  000070|  삼양홀딩스|71300| -1.93|610632522300|2024-03-15|9173.0| 7.77|   null|   null|240995.0| 0.3|    3500.0|      4.91|        767205|        8.96|       8564271|            8.96|73000|74500|71300| 32624|2341408000|      126937|   KOSPI|  보통주|          소재|기타금융|\n",
      "|  000075|삼양홀딩스우|54900| -0.18| 16692784200|2024-03-15|  null| null|   null|   null|    null|null|    3550.0|      6.47|          4017|        1.32|        304058|            1.32|55400|55400|54800|    96|   5264000|        null|   KOSPI|  우선주|          null|기타금융|\n",
      "+--------+------------+-----+------+------------+----------+------+-----+-------+-------+--------+----+----------+----------+--------------+------------+--------------+----------------+-----+-----+-----+------+----------+------------+--------+--------+--------------+--------+\n",
      "\n"
     ]
    }
   ],
   "source": [
    "# spark DataFrame의 내용을 출력하기 위해서는 show() 메소드를 사용해야 함. \n",
    "stock_sdf.limit(5).show()"
   ]
  },
  {
   "cell_type": "code",
   "execution_count": 16,
   "metadata": {
    "application/vnd.databricks.v1+cell": {
     "inputWidgets": {},
     "nuid": "1843306c-a8b6-42e0-a897-d3e74779199a",
     "showTitle": false,
     "title": ""
    }
   },
   "outputs": [
    {
     "data": {
      "text/plain": [
       "DataFrame[종목코드: string, 종목명: string, 종가: int, 등락률: double, 시가총액: bigint, 기준일: date, eps: string, per: string, 선행eps: string, 선행per: string, bps: string, pbr: string, 주당배당금: string, 배당수익률: string, 외국인보유수량: bigint, 외국인지분율: double, 외국인한도수량: bigint, 외국인한도소진율: double, 시가: int, 고가: int, 저가: int, 거래량: int, 거래대금: bigint, 기업고유번호: string, 시장구분: string, 종목구분: string, 섹터: string, 업종명: string]"
      ]
     },
     "metadata": {},
     "output_type": "display_data"
    }
   ],
   "source": [
    "# Databricks의 display()는 spark DataFrame의 내용을 출력할 수 있음. \n",
    "# display(titanic_sdf)\n",
    "\n",
    "# 메모리 절약을 위해 limit() 사용이 바람직 \n",
    "display(stock_sdf.limit(10))"
   ]
  },
  {
   "cell_type": "markdown",
   "metadata": {
    "application/vnd.databricks.v1+cell": {
     "inputWidgets": {},
     "nuid": "9b2e6366-38b9-4fa6-819f-2293aa11c836",
     "showTitle": false,
     "title": ""
    }
   },
   "source": [
    "### pandas DataFrame의 info()에 대응하는 spark DataFrame 메소드와 로직.\n",
    "* pandas DataFrame의 info()는 컬럼명, data type과 not null 건수를 함께 출력\n",
    "* spark DataFrame의 info() 메소드가 없으며 대신 printSchema() 메소드로 스키마(컬럼명, data type)만 출력\n",
    "* not null 건수를 위해서는 별도의 SQL성 쿼리 작성 필요."
   ]
  },
  {
   "cell_type": "code",
   "execution_count": 26,
   "metadata": {
    "application/vnd.databricks.v1+cell": {
     "inputWidgets": {},
     "nuid": "f35657ae-49d2-43b8-807a-a720e57a3bff",
     "showTitle": false,
     "title": ""
    }
   },
   "outputs": [
    {
     "name": "stdout",
     "output_type": "stream",
     "text": [
      "<class 'pandas.core.frame.DataFrame'>\n",
      "RangeIndex: 2671 entries, 0 to 2670\n",
      "Data columns (total 28 columns):\n",
      " #   Column    Non-Null Count  Dtype  \n",
      "---  ------    --------------  -----  \n",
      " 0   종목코드      2671 non-null   object \n",
      " 1   종목명       2671 non-null   object \n",
      " 2   종가        2671 non-null   int32  \n",
      " 3   등락률       2671 non-null   float64\n",
      " 4   시가총액      2671 non-null   int64  \n",
      " 5   기준일       2671 non-null   object \n",
      " 6   eps       1600 non-null   float64\n",
      " 7   per       1600 non-null   float64\n",
      " 8   선행eps     511 non-null    float64\n",
      " 9   선행per     511 non-null    float64\n",
      " 10  bps       2381 non-null   float64\n",
      " 11  pbr       2381 non-null   float64\n",
      " 12  주당배당금     2622 non-null   float64\n",
      " 13  배당수익률     2622 non-null   float64\n",
      " 14  외국인보유수량   2671 non-null   int64  \n",
      " 15  외국인지분율    2671 non-null   float64\n",
      " 16  외국인한도수량   2671 non-null   int64  \n",
      " 17  외국인한도소진율  2671 non-null   float64\n",
      " 18  시가        2671 non-null   int32  \n",
      " 19  고가        2671 non-null   int32  \n",
      " 20  저가        2671 non-null   int32  \n",
      " 21  거래량       2671 non-null   int32  \n",
      " 22  거래대금      2671 non-null   int64  \n",
      " 23  기업고유번호    2554 non-null   float64\n",
      " 24  시장구분      2671 non-null   object \n",
      " 25  종목구분      2671 non-null   object \n",
      " 26  섹터        2276 non-null   object \n",
      " 27  업종명       2671 non-null   object \n",
      "dtypes: float64(12), int32(5), int64(4), object(7)\n",
      "memory usage: 532.2+ KB\n"
     ]
    }
   ],
   "source": [
    "stock_pdf.info()"
   ]
  },
  {
   "cell_type": "code",
   "execution_count": 27,
   "metadata": {
    "application/vnd.databricks.v1+cell": {
     "inputWidgets": {},
     "nuid": "5b531ee7-54d8-414c-8565-792a40cecdc7",
     "showTitle": false,
     "title": ""
    }
   },
   "outputs": [
    {
     "name": "stdout",
     "output_type": "stream",
     "text": [
      "root\n",
      " |-- 종목코드: string (nullable = true)\n",
      " |-- 종목명: string (nullable = true)\n",
      " |-- 종가: integer (nullable = true)\n",
      " |-- 등락률: double (nullable = true)\n",
      " |-- 시가총액: long (nullable = true)\n",
      " |-- 기준일: date (nullable = true)\n",
      " |-- eps: double (nullable = true)\n",
      " |-- per: double (nullable = true)\n",
      " |-- 선행eps: double (nullable = true)\n",
      " |-- 선행per: double (nullable = true)\n",
      " |-- bps: double (nullable = true)\n",
      " |-- pbr: double (nullable = true)\n",
      " |-- 주당배당금: double (nullable = true)\n",
      " |-- 배당수익률: double (nullable = true)\n",
      " |-- 외국인보유수량: long (nullable = true)\n",
      " |-- 외국인지분율: double (nullable = true)\n",
      " |-- 외국인한도수량: long (nullable = true)\n",
      " |-- 외국인한도소진율: double (nullable = true)\n",
      " |-- 시가: integer (nullable = true)\n",
      " |-- 고가: integer (nullable = true)\n",
      " |-- 저가: integer (nullable = true)\n",
      " |-- 거래량: integer (nullable = true)\n",
      " |-- 거래대금: long (nullable = true)\n",
      " |-- 기업고유번호: integer (nullable = true)\n",
      " |-- 시장구분: string (nullable = true)\n",
      " |-- 종목구분: string (nullable = true)\n",
      " |-- 섹터: string (nullable = true)\n",
      " |-- 업종명: string (nullable = true)\n",
      "\n"
     ]
    }
   ],
   "source": [
    "stock_sdf.printSchema()"
   ]
  },
  {
   "cell_type": "code",
   "execution_count": 31,
   "metadata": {
    "application/vnd.databricks.v1+cell": {
     "inputWidgets": {},
     "nuid": "e1063857-3009-47b2-a553-9c6dd27878bb",
     "showTitle": false,
     "title": ""
    }
   },
   "outputs": [
    {
     "name": "stdout",
     "output_type": "stream",
     "text": [
      "+--------+------+----+------+--------+----+----+-------+-------+---+---+----------+----------+--------------+------------+--------------+----------------+----+----+----+------+--------+------------+--------+--------+----+------+\n",
      "|종목코드|종목명|종가|등락률|시가총액| eps| per|선행eps|선행per|bps|pbr|주당배당금|배당수익률|외국인보유수량|외국인지분율|외국인한도수량|외국인한도소진율|시가|고가|저가|거래량|거래대금|기업고유번호|시장구분|종목구분|섹터|업종명|\n",
      "+--------+------+----+------+--------+----+----+-------+-------+---+---+----------+----------+--------------+------------+--------------+----------------+----+----+----+------+--------+------------+--------+--------+----+------+\n",
      "|       0|     0|   0|     0|       0|1071|1071|   2160|   2160|290|290|        49|        49|             0|           0|             0|               0|   0|   0|   0|     0|       0|         117|       0|       0| 395|     0|\n",
      "+--------+------+----+------+--------+----+----+-------+-------+---+---+----------+----------+--------------+------------+--------------+----------------+----+----+----+------+--------+------------+--------+--------+----+------+\n",
      "\n"
     ]
    }
   ],
   "source": [
    "# SQL의 count case when과 유사한 로직으로 null 값을 포함한 컬럼 확인하기 \n",
    "from pyspark.sql.functions import count, isnan, when, col\n",
    "\n",
    "# '기준일' 컬럼을 제외하고 NULL 값 확인\n",
    "stock_sdf.select([count(when((isnan(c) | col(c).isNull()), c)).alias(c) for c in stock_sdf.columns if c != '기준일']).show()"
   ]
  },
  {
   "cell_type": "markdown",
   "metadata": {
    "application/vnd.databricks.v1+cell": {
     "inputWidgets": {},
     "nuid": "a5a6c20c-7f74-4bd8-abf7-9cd802fcfd8f",
     "showTitle": false,
     "title": ""
    }
   },
   "source": [
    "### pandas DataFrame describe()와 spark DataFrame describe() 비교\n",
    "* spark dataframe은 pandas dataframe과 비슷하게 describe()를 통해 모든 컬럼값들의 건수/평균/표준편차/최소값/최대값 등의 정보를 확인할 수 있음. 다만 percentile값을 만들지 않음. \n",
    "* pandas dataframe과 다르게 describe()시 숫자형 컬럼 뿐만 아니라 문자형 컬럼에 대해서도 건수/평균/표준편차/최소값/최대값 조사"
   ]
  },
  {
   "cell_type": "code",
   "execution_count": 32,
   "metadata": {
    "application/vnd.databricks.v1+cell": {
     "inputWidgets": {},
     "nuid": "4719f227-7aca-49b1-9355-ac90215da034",
     "showTitle": false,
     "title": ""
    }
   },
   "outputs": [
    {
     "data": {
      "text/html": [
       "<div>\n",
       "<style scoped>\n",
       "    .dataframe tbody tr th:only-of-type {\n",
       "        vertical-align: middle;\n",
       "    }\n",
       "\n",
       "    .dataframe tbody tr th {\n",
       "        vertical-align: top;\n",
       "    }\n",
       "\n",
       "    .dataframe thead th {\n",
       "        text-align: right;\n",
       "    }\n",
       "</style>\n",
       "<table border=\"1\" class=\"dataframe\">\n",
       "  <thead>\n",
       "    <tr style=\"text-align: right;\">\n",
       "      <th></th>\n",
       "      <th>종가</th>\n",
       "      <th>등락률</th>\n",
       "      <th>시가총액</th>\n",
       "      <th>eps</th>\n",
       "      <th>per</th>\n",
       "      <th>선행eps</th>\n",
       "      <th>선행per</th>\n",
       "      <th>bps</th>\n",
       "      <th>pbr</th>\n",
       "      <th>주당배당금</th>\n",
       "      <th>...</th>\n",
       "      <th>외국인보유수량</th>\n",
       "      <th>외국인지분율</th>\n",
       "      <th>외국인한도수량</th>\n",
       "      <th>외국인한도소진율</th>\n",
       "      <th>시가</th>\n",
       "      <th>고가</th>\n",
       "      <th>저가</th>\n",
       "      <th>거래량</th>\n",
       "      <th>거래대금</th>\n",
       "      <th>기업고유번호</th>\n",
       "    </tr>\n",
       "  </thead>\n",
       "  <tbody>\n",
       "    <tr>\n",
       "      <th>count</th>\n",
       "      <td>2671.000000</td>\n",
       "      <td>2671.000000</td>\n",
       "      <td>2.671000e+03</td>\n",
       "      <td>1600.000000</td>\n",
       "      <td>1600.000000</td>\n",
       "      <td>511.000000</td>\n",
       "      <td>511.000000</td>\n",
       "      <td>2.381000e+03</td>\n",
       "      <td>2381.000000</td>\n",
       "      <td>2622.000000</td>\n",
       "      <td>...</td>\n",
       "      <td>2.671000e+03</td>\n",
       "      <td>2671.000000</td>\n",
       "      <td>2.671000e+03</td>\n",
       "      <td>2671.000000</td>\n",
       "      <td>2671.000000</td>\n",
       "      <td>2671.000000</td>\n",
       "      <td>2671.000000</td>\n",
       "      <td>2.671000e+03</td>\n",
       "      <td>2.671000e+03</td>\n",
       "      <td>2.554000e+03</td>\n",
       "    </tr>\n",
       "    <tr>\n",
       "      <th>mean</th>\n",
       "      <td>21148.824410</td>\n",
       "      <td>-0.365279</td>\n",
       "      <td>9.689956e+11</td>\n",
       "      <td>2816.378125</td>\n",
       "      <td>51.476894</td>\n",
       "      <td>4879.381605</td>\n",
       "      <td>24.679687</td>\n",
       "      <td>2.418203e+04</td>\n",
       "      <td>2.581033</td>\n",
       "      <td>343.768879</td>\n",
       "      <td>...</td>\n",
       "      <td>5.286946e+06</td>\n",
       "      <td>5.912029</td>\n",
       "      <td>4.268958e+07</td>\n",
       "      <td>6.012894</td>\n",
       "      <td>21096.535006</td>\n",
       "      <td>21493.001872</td>\n",
       "      <td>20686.351554</td>\n",
       "      <td>6.333656e+05</td>\n",
       "      <td>8.574878e+09</td>\n",
       "      <td>5.986314e+05</td>\n",
       "    </tr>\n",
       "    <tr>\n",
       "      <th>std</th>\n",
       "      <td>52048.083095</td>\n",
       "      <td>2.925279</td>\n",
       "      <td>9.389447e+12</td>\n",
       "      <td>12860.281121</td>\n",
       "      <td>338.576691</td>\n",
       "      <td>7325.466240</td>\n",
       "      <td>58.653900</td>\n",
       "      <td>1.262079e+05</td>\n",
       "      <td>12.185354</td>\n",
       "      <td>1160.520751</td>\n",
       "      <td>...</td>\n",
       "      <td>6.651611e+07</td>\n",
       "      <td>10.774651</td>\n",
       "      <td>1.359081e+08</td>\n",
       "      <td>11.103359</td>\n",
       "      <td>52288.363394</td>\n",
       "      <td>53247.629079</td>\n",
       "      <td>51425.813458</td>\n",
       "      <td>3.343919e+06</td>\n",
       "      <td>4.485740e+10</td>\n",
       "      <td>4.838963e+05</td>\n",
       "    </tr>\n",
       "    <tr>\n",
       "      <th>min</th>\n",
       "      <td>77.000000</td>\n",
       "      <td>-29.980000</td>\n",
       "      <td>3.530573e+09</td>\n",
       "      <td>1.000000</td>\n",
       "      <td>0.210000</td>\n",
       "      <td>18.000000</td>\n",
       "      <td>2.090000</td>\n",
       "      <td>3.400000e+01</td>\n",
       "      <td>0.030000</td>\n",
       "      <td>0.000000</td>\n",
       "      <td>...</td>\n",
       "      <td>0.000000e+00</td>\n",
       "      <td>0.000000</td>\n",
       "      <td>0.000000e+00</td>\n",
       "      <td>0.000000</td>\n",
       "      <td>0.000000</td>\n",
       "      <td>0.000000</td>\n",
       "      <td>0.000000</td>\n",
       "      <td>0.000000e+00</td>\n",
       "      <td>0.000000e+00</td>\n",
       "      <td>1.006010e+05</td>\n",
       "    </tr>\n",
       "    <tr>\n",
       "      <th>25%</th>\n",
       "      <td>2762.500000</td>\n",
       "      <td>-1.510000</td>\n",
       "      <td>5.962481e+10</td>\n",
       "      <td>200.750000</td>\n",
       "      <td>7.000000</td>\n",
       "      <td>874.000000</td>\n",
       "      <td>7.070000</td>\n",
       "      <td>2.123000e+03</td>\n",
       "      <td>0.580000</td>\n",
       "      <td>0.000000</td>\n",
       "      <td>...</td>\n",
       "      <td>1.029495e+05</td>\n",
       "      <td>0.650000</td>\n",
       "      <td>1.090727e+07</td>\n",
       "      <td>0.650000</td>\n",
       "      <td>2567.500000</td>\n",
       "      <td>2615.000000</td>\n",
       "      <td>2522.500000</td>\n",
       "      <td>2.134350e+04</td>\n",
       "      <td>1.077812e+08</td>\n",
       "      <td>1.613938e+05</td>\n",
       "    </tr>\n",
       "    <tr>\n",
       "      <th>50%</th>\n",
       "      <td>6390.000000</td>\n",
       "      <td>-0.300000</td>\n",
       "      <td>1.214701e+11</td>\n",
       "      <td>624.500000</td>\n",
       "      <td>13.205000</td>\n",
       "      <td>2138.000000</td>\n",
       "      <td>10.830000</td>\n",
       "      <td>5.511000e+03</td>\n",
       "      <td>1.070000</td>\n",
       "      <td>0.000000</td>\n",
       "      <td>...</td>\n",
       "      <td>3.847710e+05</td>\n",
       "      <td>1.740000</td>\n",
       "      <td>2.062685e+07</td>\n",
       "      <td>1.750000</td>\n",
       "      <td>6260.000000</td>\n",
       "      <td>6320.000000</td>\n",
       "      <td>6170.000000</td>\n",
       "      <td>8.436400e+04</td>\n",
       "      <td>4.698871e+08</td>\n",
       "      <td>4.156370e+05</td>\n",
       "    </tr>\n",
       "    <tr>\n",
       "      <th>75%</th>\n",
       "      <td>16745.000000</td>\n",
       "      <td>0.415000</td>\n",
       "      <td>3.049408e+11</td>\n",
       "      <td>1966.750000</td>\n",
       "      <td>29.270000</td>\n",
       "      <td>5528.500000</td>\n",
       "      <td>19.045000</td>\n",
       "      <td>1.384900e+04</td>\n",
       "      <td>2.160000</td>\n",
       "      <td>200.000000</td>\n",
       "      <td>...</td>\n",
       "      <td>1.601578e+06</td>\n",
       "      <td>6.015000</td>\n",
       "      <td>4.230224e+07</td>\n",
       "      <td>6.040000</td>\n",
       "      <td>16660.000000</td>\n",
       "      <td>17040.000000</td>\n",
       "      <td>16275.000000</td>\n",
       "      <td>2.805350e+05</td>\n",
       "      <td>2.615731e+09</td>\n",
       "      <td>9.922318e+05</td>\n",
       "    </tr>\n",
       "    <tr>\n",
       "      <th>max</th>\n",
       "      <td>826000.000000</td>\n",
       "      <td>29.950000</td>\n",
       "      <td>4.316153e+14</td>\n",
       "      <td>406090.000000</td>\n",
       "      <td>8700.000000</td>\n",
       "      <td>58014.000000</td>\n",
       "      <td>762.780000</td>\n",
       "      <td>4.906107e+06</td>\n",
       "      <td>522.350000</td>\n",
       "      <td>20000.000000</td>\n",
       "      <td>...</td>\n",
       "      <td>3.254505e+09</td>\n",
       "      <td>83.230000</td>\n",
       "      <td>5.969783e+09</td>\n",
       "      <td>92.280000</td>\n",
       "      <td>837000.000000</td>\n",
       "      <td>855000.000000</td>\n",
       "      <td>826000.000000</td>\n",
       "      <td>1.016378e+08</td>\n",
       "      <td>1.646273e+12</td>\n",
       "      <td>1.806951e+06</td>\n",
       "    </tr>\n",
       "  </tbody>\n",
       "</table>\n",
       "<p>8 rows × 21 columns</p>\n",
       "</div>"
      ],
      "text/plain": [
       "                  종가          등락률          시가총액            eps          per  \\\n",
       "count    2671.000000  2671.000000  2.671000e+03    1600.000000  1600.000000   \n",
       "mean    21148.824410    -0.365279  9.689956e+11    2816.378125    51.476894   \n",
       "std     52048.083095     2.925279  9.389447e+12   12860.281121   338.576691   \n",
       "min        77.000000   -29.980000  3.530573e+09       1.000000     0.210000   \n",
       "25%      2762.500000    -1.510000  5.962481e+10     200.750000     7.000000   \n",
       "50%      6390.000000    -0.300000  1.214701e+11     624.500000    13.205000   \n",
       "75%     16745.000000     0.415000  3.049408e+11    1966.750000    29.270000   \n",
       "max    826000.000000    29.950000  4.316153e+14  406090.000000  8700.000000   \n",
       "\n",
       "              선행eps       선행per           bps          pbr         주당배당금  ...  \\\n",
       "count    511.000000  511.000000  2.381000e+03  2381.000000   2622.000000  ...   \n",
       "mean    4879.381605   24.679687  2.418203e+04     2.581033    343.768879  ...   \n",
       "std     7325.466240   58.653900  1.262079e+05    12.185354   1160.520751  ...   \n",
       "min       18.000000    2.090000  3.400000e+01     0.030000      0.000000  ...   \n",
       "25%      874.000000    7.070000  2.123000e+03     0.580000      0.000000  ...   \n",
       "50%     2138.000000   10.830000  5.511000e+03     1.070000      0.000000  ...   \n",
       "75%     5528.500000   19.045000  1.384900e+04     2.160000    200.000000  ...   \n",
       "max    58014.000000  762.780000  4.906107e+06   522.350000  20000.000000  ...   \n",
       "\n",
       "            외국인보유수량       외국인지분율       외국인한도수량     외국인한도소진율             시가  \\\n",
       "count  2.671000e+03  2671.000000  2.671000e+03  2671.000000    2671.000000   \n",
       "mean   5.286946e+06     5.912029  4.268958e+07     6.012894   21096.535006   \n",
       "std    6.651611e+07    10.774651  1.359081e+08    11.103359   52288.363394   \n",
       "min    0.000000e+00     0.000000  0.000000e+00     0.000000       0.000000   \n",
       "25%    1.029495e+05     0.650000  1.090727e+07     0.650000    2567.500000   \n",
       "50%    3.847710e+05     1.740000  2.062685e+07     1.750000    6260.000000   \n",
       "75%    1.601578e+06     6.015000  4.230224e+07     6.040000   16660.000000   \n",
       "max    3.254505e+09    83.230000  5.969783e+09    92.280000  837000.000000   \n",
       "\n",
       "                  고가             저가           거래량          거래대금        기업고유번호  \n",
       "count    2671.000000    2671.000000  2.671000e+03  2.671000e+03  2.554000e+03  \n",
       "mean    21493.001872   20686.351554  6.333656e+05  8.574878e+09  5.986314e+05  \n",
       "std     53247.629079   51425.813458  3.343919e+06  4.485740e+10  4.838963e+05  \n",
       "min         0.000000       0.000000  0.000000e+00  0.000000e+00  1.006010e+05  \n",
       "25%      2615.000000    2522.500000  2.134350e+04  1.077812e+08  1.613938e+05  \n",
       "50%      6320.000000    6170.000000  8.436400e+04  4.698871e+08  4.156370e+05  \n",
       "75%     17040.000000   16275.000000  2.805350e+05  2.615731e+09  9.922318e+05  \n",
       "max    855000.000000  826000.000000  1.016378e+08  1.646273e+12  1.806951e+06  \n",
       "\n",
       "[8 rows x 21 columns]"
      ]
     },
     "execution_count": 32,
     "metadata": {},
     "output_type": "execute_result"
    }
   ],
   "source": [
    "stock_pdf.describe()"
   ]
  },
  {
   "cell_type": "code",
   "execution_count": 33,
   "metadata": {
    "application/vnd.databricks.v1+cell": {
     "inputWidgets": {},
     "nuid": "75bb4193-12cd-4d8d-b09a-7fc5d57cbd88",
     "showTitle": false,
     "title": ""
    }
   },
   "outputs": [
    {
     "name": "stdout",
     "output_type": "stream",
     "text": [
      "+-------+------------------+------+------------------+-------------------+--------------------+------------------+------------------+-----------------+------------------+------------------+------------------+------------------+------------------+-------------------+------------------+-------------------+------------------+------------------+-----------------+------------------+------------------+--------------------+-----------------+--------+--------+----------+------+\n",
      "|summary|          종목코드|종목명|              종가|             등락률|            시가총액|               eps|               per|          선행eps|           선행per|               bps|               pbr|        주당배당금|        배당수익률|     외국인보유수량|      외국인지분율|     외국인한도수량|  외국인한도소진율|              시가|             고가|              저가|            거래량|            거래대금|     기업고유번호|시장구분|종목구분|      섹터|업종명|\n",
      "+-------+------------------+------+------------------+-------------------+--------------------+------------------+------------------+-----------------+------------------+------------------+------------------+------------------+------------------+-------------------+------------------+-------------------+------------------+------------------+-----------------+------------------+------------------+--------------------+-----------------+--------+--------+----------+------+\n",
      "|  count|              2671|  2671|              2671|               2671|                2671|              1600|              1600|              511|               511|              2381|              2381|              2622|              2622|               2671|              2671|               2671|              2671|              2671|             2671|              2671|              2671|                2671|             2554|    2671|    2671|      2276|  2671|\n",
      "|   mean|140101.52890064224|  null|21148.824410333207|-0.3652789217521527|9.689956402913392E11|       2816.378125|51.476893750000045|4879.381604696673|24.679686888453993| 24182.02939941201|2.5810331793364116|343.76887871853546|1.2756178489702523| 5286945.5308873085| 5.912029202545862|4.268957765368776E7| 6.012894047173341|21096.535005615875|21493.00187195807|20686.351553725195| 633365.5945338825| 8.574878016995132E9|598631.4494909946|    null|    null|      null|  null|\n",
      "| stddev|152959.41709496282|  null| 52048.08309473271| 2.9252791644497416|9.389447060075287E12|12860.281121119324|338.57669120811005|7325.466239941568| 58.65389991129089|126207.86036262773|12.185353893930502| 1160.520751025117| 2.118813291231635|6.651610751062882E7|10.774651227038184|1.359081258714845E8|11.103358673441651|52288.363393896434|53247.62907856791| 51425.81345800539|3343918.9455028884|4.485740218707773...| 483896.269657761|    null|    null|      null|  null|\n",
      "|    min|            000020|    3S|                77|             -29.98|          3530573280|               1.0|              0.21|             18.0|              2.09|              34.0|              0.03|               0.0|               0.0|                  0|               0.0|                  0|               0.0|                 0|                0|                 0|                 0|                   0|           100601|  KOSDAQ|    기타|        IT|IT부품|\n",
      "|    max|            950220|  힘스|            826000|              29.95|     431615278365000|          406090.0|            8700.0|          58014.0|            762.78|         4906107.0|            522.35|           20000.0|             38.97|         3254505341|             83.23|         5969782550|             92.28|            837000|           855000|            826000|         101637815|       1646273148384|          1806951|   KOSPI|  우선주|필수소비재|  화학|\n",
      "+-------+------------------+------+------------------+-------------------+--------------------+------------------+------------------+-----------------+------------------+------------------+------------------+------------------+------------------+-------------------+------------------+-------------------+------------------+------------------+-----------------+------------------+------------------+--------------------+-----------------+--------+--------+----------+------+\n",
      "\n"
     ]
    }
   ],
   "source": [
    "# spark DataFrame의 describe() 역시 DataFrame을 반환하므로 내용 출력을 위해서는 show() 메소드를 호출하거나 Databricks의 display()로 감싸야 함. \n",
    "stock_sdf.describe().show()"
   ]
  },
  {
   "cell_type": "code",
   "execution_count": 34,
   "metadata": {
    "application/vnd.databricks.v1+cell": {
     "inputWidgets": {},
     "nuid": "db775dd7-1cdd-47dc-9e0e-aa0fb2d3aa17",
     "showTitle": false,
     "title": ""
    }
   },
   "outputs": [
    {
     "data": {
      "text/plain": [
       "[('종목코드', 'string'),\n",
       " ('종목명', 'string'),\n",
       " ('종가', 'int'),\n",
       " ('등락률', 'double'),\n",
       " ('시가총액', 'bigint'),\n",
       " ('기준일', 'date'),\n",
       " ('eps', 'double'),\n",
       " ('per', 'double'),\n",
       " ('선행eps', 'double'),\n",
       " ('선행per', 'double'),\n",
       " ('bps', 'double'),\n",
       " ('pbr', 'double'),\n",
       " ('주당배당금', 'double'),\n",
       " ('배당수익률', 'double'),\n",
       " ('외국인보유수량', 'bigint'),\n",
       " ('외국인지분율', 'double'),\n",
       " ('외국인한도수량', 'bigint'),\n",
       " ('외국인한도소진율', 'double'),\n",
       " ('시가', 'int'),\n",
       " ('고가', 'int'),\n",
       " ('저가', 'int'),\n",
       " ('거래량', 'int'),\n",
       " ('거래대금', 'bigint'),\n",
       " ('기업고유번호', 'int'),\n",
       " ('시장구분', 'string'),\n",
       " ('종목구분', 'string'),\n",
       " ('섹터', 'string'),\n",
       " ('업종명', 'string')]"
      ]
     },
     "execution_count": 34,
     "metadata": {},
     "output_type": "execute_result"
    }
   ],
   "source": [
    "stock_sdf.dtypes"
   ]
  },
  {
   "cell_type": "code",
   "execution_count": 35,
   "metadata": {
    "application/vnd.databricks.v1+cell": {
     "inputWidgets": {},
     "nuid": "c24899d7-7385-4913-92a1-e0b3e2ab4a2d",
     "showTitle": false,
     "title": ""
    }
   },
   "outputs": [
    {
     "name": "stdout",
     "output_type": "stream",
     "text": [
      "['종가', '등락률', '시가총액', '기준일', 'eps', 'per', '선행eps', '선행per', 'bps', 'pbr', '주당배당금', '배당수익률', '외국인보유수량', '외국인지분율', '외국인한도수량', '외국인한도소진율', '시가', '고가', '저가', '거래량', '거래대금', '기업고유번호']\n",
      "+-------+------------------+-------------------+--------------------+------------------+------------------+-----------------+------------------+------------------+------------------+------------------+------------------+-------------------+------------------+-------------------+------------------+------------------+-----------------+------------------+------------------+--------------------+-----------------+\n",
      "|summary|              종가|             등락률|            시가총액|               eps|               per|          선행eps|           선행per|               bps|               pbr|        주당배당금|        배당수익률|     외국인보유수량|      외국인지분율|     외국인한도수량|  외국인한도소진율|              시가|             고가|              저가|            거래량|            거래대금|     기업고유번호|\n",
      "+-------+------------------+-------------------+--------------------+------------------+------------------+-----------------+------------------+------------------+------------------+------------------+------------------+-------------------+------------------+-------------------+------------------+------------------+-----------------+------------------+------------------+--------------------+-----------------+\n",
      "|  count|              2671|               2671|                2671|              1600|              1600|              511|               511|              2381|              2381|              2622|              2622|               2671|              2671|               2671|              2671|              2671|             2671|              2671|              2671|                2671|             2554|\n",
      "|   mean|21148.824410333207|-0.3652789217521527|9.689956402913392E11|       2816.378125|51.476893750000045|4879.381604696673|24.679686888453993| 24182.02939941201|2.5810331793364116|343.76887871853546|1.2756178489702523| 5286945.5308873085| 5.912029202545862|4.268957765368776E7| 6.012894047173341|21096.535005615875|21493.00187195807|20686.351553725195| 633365.5945338825| 8.574878016995132E9|598631.4494909946|\n",
      "| stddev| 52048.08309473271| 2.9252791644497416|9.389447060075287E12|12860.281121119324|338.57669120811005|7325.466239941568| 58.65389991129089|126207.86036262773|12.185353893930502| 1160.520751025117| 2.118813291231635|6.651610751062882E7|10.774651227038184|1.359081258714845E8|11.103358673441651|52288.363393896434|53247.62907856791| 51425.81345800539|3343918.9455028884|4.485740218707773...| 483896.269657761|\n",
      "|    min|                77|             -29.98|          3530573280|               1.0|              0.21|             18.0|              2.09|              34.0|              0.03|               0.0|               0.0|                  0|               0.0|                  0|               0.0|                 0|                0|                 0|                 0|                   0|           100601|\n",
      "|    max|            826000|              29.95|     431615278365000|          406090.0|            8700.0|          58014.0|            762.78|         4906107.0|            522.35|           20000.0|             38.97|         3254505341|             83.23|         5969782550|             92.28|            837000|           855000|            826000|         101637815|       1646273148384|          1806951|\n",
      "+-------+------------------+-------------------+--------------------+------------------+------------------+-----------------+------------------+------------------+------------------+------------------+------------------+-------------------+------------------+-------------------+------------------+------------------+-----------------+------------------+------------------+--------------------+-----------------+\n",
      "\n"
     ]
    }
   ],
   "source": [
    "# number형 컬럼들에 대해서만 describe()수행할 수 있도록 select 컬럼 filtering 적용. \n",
    "number_columns = [column_name for column_name, dtype in stock_sdf.dtypes if dtype != 'string']\n",
    "print(number_columns)\n",
    "\n",
    "stock_sdf.select(number_columns).describe().show()"
   ]
  },
  {
   "cell_type": "code",
   "execution_count": 36,
   "metadata": {
    "application/vnd.databricks.v1+cell": {
     "inputWidgets": {},
     "nuid": "6399841b-aacc-4902-b88a-2714d42c912e",
     "showTitle": false,
     "title": ""
    }
   },
   "outputs": [
    {
     "data": {
      "text/plain": [
       "(2671, 28)"
      ]
     },
     "execution_count": 36,
     "metadata": {},
     "output_type": "execute_result"
    }
   ],
   "source": [
    "stock_pdf.shape"
   ]
  },
  {
   "cell_type": "markdown",
   "metadata": {
    "application/vnd.databricks.v1+cell": {
     "inputWidgets": {},
     "nuid": "08fd1432-95e8-4687-a090-122b0de69485",
     "showTitle": false,
     "title": ""
    }
   },
   "source": [
    "### pandas DataFrame의 shape에 이에 대응하는 spark Dataframe 로직\n",
    "* pandas DataFrame의 shape는 row건수와 column 개수를 매우 빠르게 제공.\n",
    "* spark DataFrame은 shape를 제공하지 않음. column 개수는 spark DataFrame의 columns로 확인. row건수는 count() 메소드(쿼리성)로 확인."
   ]
  },
  {
   "cell_type": "code",
   "execution_count": 37,
   "metadata": {
    "application/vnd.databricks.v1+cell": {
     "inputWidgets": {},
     "nuid": "a5bde027-7158-472d-bec2-87e5bfb7a89c",
     "showTitle": false,
     "title": ""
    }
   },
   "outputs": [
    {
     "name": "stdout",
     "output_type": "stream",
     "text": [
      "column들: ['종목코드', '종목명', '종가', '등락률', '시가총액', '기준일', 'eps', 'per', '선행eps', '선행per', 'bps', 'pbr', '주당배당금', '배당수익률', '외국인보유수량', '외국인지분율', '외국인한도수량', '외국인한도소진율', '시가', '고가', '저가', '거래량', '거래대금', '기업고유번호', '시장구분', '종목구분', '섹터', '업종명']\n",
      "column개수: 28\n"
     ]
    }
   ],
   "source": [
    "# spark DataFrame은 columns 속성으로 컬럼명을 list로 반환. \n",
    "print('column들:', stock_sdf.columns)\n",
    "print('column개수:', len(stock_sdf.columns))"
   ]
  },
  {
   "cell_type": "code",
   "execution_count": 38,
   "metadata": {
    "application/vnd.databricks.v1+cell": {
     "inputWidgets": {},
     "nuid": "1998618d-fe81-4879-9929-29adcff200a0",
     "showTitle": false,
     "title": ""
    }
   },
   "outputs": [
    {
     "name": "stdout",
     "output_type": "stream",
     "text": [
      "2671\n",
      "<class 'int'>\n"
     ]
    }
   ],
   "source": [
    "# spark DataFrame은 count() 메소드로 전체 row 건수를 제공. \n",
    "print(stock_sdf.count())\n",
    "print(type(stock_sdf.count()))"
   ]
  },
  {
   "cell_type": "code",
   "execution_count": 39,
   "metadata": {
    "application/vnd.databricks.v1+cell": {
     "inputWidgets": {},
     "nuid": "58e8c51f-1222-4d9a-bca7-441a677529bb",
     "showTitle": false,
     "title": ""
    }
   },
   "outputs": [
    {
     "name": "stdout",
     "output_type": "stream",
     "text": [
      "stock_sdf shape: (2671, 28)\n"
     ]
    }
   ],
   "source": [
    "print('stock_sdf shape:', (titanic_sdf.count(), len(titanic_sdf.columns)))"
   ]
  },
  {
   "cell_type": "markdown",
   "metadata": {
    "application/vnd.databricks.v1+cell": {
     "inputWidgets": {},
     "nuid": "6488c09f-27bf-4b28-b656-9de59443921d",
     "showTitle": false,
     "title": ""
    }
   },
   "source": [
    "### Spark DataFrame의 select() 메소드 알아보기\n",
    "* select() 메소드는 SQL의 Select 절과 유사하게 한개 이상의 컬럼들의 값을 DataFrame형태로 반환. \n",
    "* 한개의 컬럼명, 또는 여러개의 컬럼명을 인자로 입력할 수 있음.\n",
    "* 개별 컬럼명을 문자열 형태로 또는 DataFrame의 컬럼 속성으로 지정\n",
    "* DataFrame의 컬럼 속성으로 지정시에는 DataFrame.컬럼명, DataFrame[컬럼명], col(컬럼명) 으로 지정 가능."
   ]
  },
  {
   "cell_type": "code",
   "execution_count": 43,
   "metadata": {
    "application/vnd.databricks.v1+cell": {
     "inputWidgets": {},
     "nuid": "bb0eeb09-2a55-4f34-9a1f-0fce2ac4908f",
     "showTitle": false,
     "title": ""
    }
   },
   "outputs": [
    {
     "name": "stdout",
     "output_type": "stream",
     "text": [
      "pandas DataFrame의 단일 컬럼값을 출력\n",
      "0             동화약품\n",
      "1            KR모터스\n",
      "2               경방\n",
      "3            삼양홀딩스\n",
      "4           삼양홀딩스우\n",
      "           ...    \n",
      "2666           JTC\n",
      "2667       고스트스튜디오\n",
      "2668           소마젠\n",
      "2669    프레스티지바이오파마\n",
      "2670         네오이뮨텍\n",
      "Name: 종목명, Length: 2671, dtype: object\n",
      "\n",
      "pandas DataFrame의 여러개 컬럼값들을 출력\n",
      "             종목명    종목코드\n",
      "0           동화약품  000020\n",
      "1          KR모터스  000040\n",
      "2             경방  000050\n",
      "3          삼양홀딩스  000070\n",
      "4         삼양홀딩스우  000075\n",
      "...          ...     ...\n",
      "2666         JTC  950170\n",
      "2667     고스트스튜디오  950190\n",
      "2668         소마젠  950200\n",
      "2669  프레스티지바이오파마  950210\n",
      "2670       네오이뮨텍  950220\n",
      "\n",
      "[2671 rows x 2 columns]\n"
     ]
    }
   ],
   "source": [
    "print('pandas DataFrame의 단일 컬럼값을 출력')\n",
    "print(stock_pdf['종목명'])\n",
    "\n",
    "print('\\npandas DataFrame의 여러개 컬럼값들을 출력')\n",
    "print(stock_pdf[['종목명', '종목코드']])"
   ]
  },
  {
   "cell_type": "code",
   "execution_count": 44,
   "metadata": {
    "application/vnd.databricks.v1+cell": {
     "inputWidgets": {},
     "nuid": "2123f9c0-7513-4f38-b8f5-5bb7a71a971f",
     "showTitle": false,
     "title": ""
    }
   },
   "outputs": [
    {
     "name": "stdout",
     "output_type": "stream",
     "text": [
      "+------------------+\n",
      "|            종목명|\n",
      "+------------------+\n",
      "|          동화약품|\n",
      "|          KR모터스|\n",
      "|              경방|\n",
      "|        삼양홀딩스|\n",
      "|      삼양홀딩스우|\n",
      "|        하이트진로|\n",
      "|    하이트진로2우B|\n",
      "|          유한양행|\n",
      "|        유한양행우|\n",
      "|        CJ대한통운|\n",
      "|  하이트진로홀딩스|\n",
      "|하이트진로홀딩스우|\n",
      "|              두산|\n",
      "|            두산우|\n",
      "|          두산2우B|\n",
      "|      성창기업지주|\n",
      "|                DL|\n",
      "|              DL우|\n",
      "|          유유제약|\n",
      "|       유유제약1우|\n",
      "+------------------+\n",
      "only showing top 20 rows\n",
      "\n"
     ]
    }
   ],
   "source": [
    "# select() 메소드는 DataFrame을 반환. Name 컬럼을 가지는 DataFrame을 반환. \n",
    "stock_sdf.select('종목명').show() # select name from stock_sdf;"
   ]
  },
  {
   "cell_type": "code",
   "execution_count": 47,
   "metadata": {
    "application/vnd.databricks.v1+cell": {
     "inputWidgets": {},
     "nuid": "32679bac-f0a3-485d-947a-e33adcf220e8",
     "showTitle": false,
     "title": ""
    }
   },
   "outputs": [
    {
     "name": "stdout",
     "output_type": "stream",
     "text": [
      "+------------+-----+\n",
      "|      종목명| 종가|\n",
      "+------------+-----+\n",
      "|    동화약품| 9350|\n",
      "|    KR모터스|  465|\n",
      "|        경방| 8470|\n",
      "|  삼양홀딩스|71300|\n",
      "|삼양홀딩스우|54900|\n",
      "+------------+-----+\n",
      "only showing top 5 rows\n",
      "\n",
      "+--------+------------+-----+------+------------+----------+------+-----+-------+-------+--------+----+----------+----------+--------------+------------+--------------+----------------+-----+-----+-----+------+----------+------------+--------+--------+--------------+--------+\n",
      "|종목코드|      종목명| 종가|등락률|    시가총액|    기준일|   eps|  per|선행eps|선행per|     bps| pbr|주당배당금|배당수익률|외국인보유수량|외국인지분율|외국인한도수량|외국인한도소진율| 시가| 고가| 저가|거래량|  거래대금|기업고유번호|시장구분|종목구분|          섹터|  업종명|\n",
      "+--------+------------+-----+------+------------+----------+------+-----+-------+-------+--------+----+----------+----------+--------------+------------+--------------+----------------+-----+-----+-----+------+----------+------------+--------+--------+--------------+--------+\n",
      "|  000020|    동화약품| 9350| -0.85|261159244500|2024-03-15| 736.0| 12.7|    NaN|    NaN| 13165.0|0.71|     180.0|      1.93|       1681856|        6.02|      27931470|            6.02| 9450| 9450| 9300| 72206| 674278570|    119195.0|   KOSPI|  보통주|      건강관리|  의약품|\n",
      "|  000040|    KR모터스|  465|   0.0| 44704386225|2024-03-15|   NaN|  NaN|    NaN|    NaN|   345.0|1.35|       0.0|       0.0|      43963412|       45.73|      96138465|           45.73|    0|    0|    0|     0|         0|    112378.0|   KOSPI|  보통주|경기관련소비재|운수장비|\n",
      "|  000050|        경방| 8470| -1.63|232207336900|2024-03-15| 177.0|47.85|    NaN|    NaN| 30304.0|0.28|     125.0|      1.48|        270629|        0.99|      27415270|            0.99| 8610| 8690| 8270| 11024|  93485040|    101628.0|   KOSPI|  보통주|경기관련소비재|  유통업|\n",
      "|  000070|  삼양홀딩스|71300| -1.93|610632522300|2024-03-15|9173.0| 7.77|    NaN|    NaN|240995.0| 0.3|    3500.0|      4.91|        767205|        8.96|       8564271|            8.96|73000|74500|71300| 32624|2341408000|    126937.0|   KOSPI|  보통주|          소재|기타금융|\n",
      "|  000075|삼양홀딩스우|54900| -0.18| 16692784200|2024-03-15|   NaN|  NaN|    NaN|    NaN|     NaN| NaN|    3550.0|      6.47|          4017|        1.32|        304058|            1.32|55400|55400|54800|    96|   5264000|         NaN|   KOSPI|  우선주|          null|기타금융|\n",
      "+--------+------------+-----+------+------------+----------+------+-----+-------+-------+--------+----+----------+----------+--------------+------------+--------------+----------------+-----+-----+-----+------+----------+------------+--------+--------+--------------+--------+\n",
      "only showing top 5 rows\n",
      "\n"
     ]
    }
   ],
   "source": [
    "# 여러개의 컬럼명을 select 시에도 개별 컬럼명을 인자로 넣어줌. pandas와 다르게 list를 사용하지 않음. \n",
    "stock_sdf.select('종목명', '종가').show(5) # select 종목명, 종가 from data_sdf\n",
    "\n",
    "# 모든 컬럼을 선택시 SQL과 유사하게 '*' 사용 가능. \n",
    "stock_sdf.select('*').show(5) # select * from stock_sdf"
   ]
  },
  {
   "cell_type": "code",
   "execution_count": 48,
   "metadata": {
    "application/vnd.databricks.v1+cell": {
     "inputWidgets": {},
     "nuid": "3a5fd004-97aa-4766-8f4d-2b4ee227e7e5",
     "showTitle": false,
     "title": ""
    }
   },
   "outputs": [
    {
     "name": "stdout",
     "output_type": "stream",
     "text": [
      "select_columns: ['종목코드', '종목명', '종가', '등락률', '시가총액', '기준일', 'eps', 'per', '선행eps', '선행per', 'bps', 'pbr', '주당배당금', '배당수익률', '외국인보유수량', '외국인지분율', '외국인한도수량', '외국인한도소진율', '시가', '고가', '저가', '거래량', '거래대금', '기업고유번호', '시장구분', '종목구분', '섹터', '업종명'] 종목코드 종목명 종가 등락률 시가총액 기준일 eps per 선행eps 선행per bps pbr 주당배당금 배당수익률 외국인보유수량 외국인지분율 외국인한도수량 외국인한도소진율 시가 고가 저가 거래량 거래대금 기업고유번호 시장구분 종목구분 섹터 업종명\n",
      "+--------+------------+-----+------+------------+----------+------+-----+-------+-------+--------+----+----------+----------+--------------+------------+--------------+----------------+-----+-----+-----+------+----------+------------+--------+--------+--------------+--------+\n",
      "|종목코드|      종목명| 종가|등락률|    시가총액|    기준일|   eps|  per|선행eps|선행per|     bps| pbr|주당배당금|배당수익률|외국인보유수량|외국인지분율|외국인한도수량|외국인한도소진율| 시가| 고가| 저가|거래량|  거래대금|기업고유번호|시장구분|종목구분|          섹터|  업종명|\n",
      "+--------+------------+-----+------+------------+----------+------+-----+-------+-------+--------+----+----------+----------+--------------+------------+--------------+----------------+-----+-----+-----+------+----------+------------+--------+--------+--------------+--------+\n",
      "|  000020|    동화약품| 9350| -0.85|261159244500|2024-03-15| 736.0| 12.7|    NaN|    NaN| 13165.0|0.71|     180.0|      1.93|       1681856|        6.02|      27931470|            6.02| 9450| 9450| 9300| 72206| 674278570|    119195.0|   KOSPI|  보통주|      건강관리|  의약품|\n",
      "|  000040|    KR모터스|  465|   0.0| 44704386225|2024-03-15|   NaN|  NaN|    NaN|    NaN|   345.0|1.35|       0.0|       0.0|      43963412|       45.73|      96138465|           45.73|    0|    0|    0|     0|         0|    112378.0|   KOSPI|  보통주|경기관련소비재|운수장비|\n",
      "|  000050|        경방| 8470| -1.63|232207336900|2024-03-15| 177.0|47.85|    NaN|    NaN| 30304.0|0.28|     125.0|      1.48|        270629|        0.99|      27415270|            0.99| 8610| 8690| 8270| 11024|  93485040|    101628.0|   KOSPI|  보통주|경기관련소비재|  유통업|\n",
      "|  000070|  삼양홀딩스|71300| -1.93|610632522300|2024-03-15|9173.0| 7.77|    NaN|    NaN|240995.0| 0.3|    3500.0|      4.91|        767205|        8.96|       8564271|            8.96|73000|74500|71300| 32624|2341408000|    126937.0|   KOSPI|  보통주|          소재|기타금융|\n",
      "|  000075|삼양홀딩스우|54900| -0.18| 16692784200|2024-03-15|   NaN|  NaN|    NaN|    NaN|     NaN| NaN|    3550.0|      6.47|          4017|        1.32|        304058|            1.32|55400|55400|54800|    96|   5264000|         NaN|   KOSPI|  우선주|          null|기타금융|\n",
      "+--------+------------+-----+------+------------+----------+------+-----+-------+-------+--------+----+----------+----------+--------------+------------+--------------+----------------+-----+-----+-----+------+----------+------------+--------+--------+--------------+--------+\n",
      "only showing top 5 rows\n",
      "\n",
      "+--------+------------+-----+------+------------+----------+------+-----+-------+-------+--------+----+----------+----------+--------------+------------+--------------+----------------+-----+-----+-----+------+----------+------------+--------+--------+--------------+--------+\n",
      "|종목코드|      종목명| 종가|등락률|    시가총액|    기준일|   eps|  per|선행eps|선행per|     bps| pbr|주당배당금|배당수익률|외국인보유수량|외국인지분율|외국인한도수량|외국인한도소진율| 시가| 고가| 저가|거래량|  거래대금|기업고유번호|시장구분|종목구분|          섹터|  업종명|\n",
      "+--------+------------+-----+------+------------+----------+------+-----+-------+-------+--------+----+----------+----------+--------------+------------+--------------+----------------+-----+-----+-----+------+----------+------------+--------+--------+--------------+--------+\n",
      "|  000020|    동화약품| 9350| -0.85|261159244500|2024-03-15| 736.0| 12.7|    NaN|    NaN| 13165.0|0.71|     180.0|      1.93|       1681856|        6.02|      27931470|            6.02| 9450| 9450| 9300| 72206| 674278570|    119195.0|   KOSPI|  보통주|      건강관리|  의약품|\n",
      "|  000040|    KR모터스|  465|   0.0| 44704386225|2024-03-15|   NaN|  NaN|    NaN|    NaN|   345.0|1.35|       0.0|       0.0|      43963412|       45.73|      96138465|           45.73|    0|    0|    0|     0|         0|    112378.0|   KOSPI|  보통주|경기관련소비재|운수장비|\n",
      "|  000050|        경방| 8470| -1.63|232207336900|2024-03-15| 177.0|47.85|    NaN|    NaN| 30304.0|0.28|     125.0|      1.48|        270629|        0.99|      27415270|            0.99| 8610| 8690| 8270| 11024|  93485040|    101628.0|   KOSPI|  보통주|경기관련소비재|  유통업|\n",
      "|  000070|  삼양홀딩스|71300| -1.93|610632522300|2024-03-15|9173.0| 7.77|    NaN|    NaN|240995.0| 0.3|    3500.0|      4.91|        767205|        8.96|       8564271|            8.96|73000|74500|71300| 32624|2341408000|    126937.0|   KOSPI|  보통주|          소재|기타금융|\n",
      "|  000075|삼양홀딩스우|54900| -0.18| 16692784200|2024-03-15|   NaN|  NaN|    NaN|    NaN|     NaN| NaN|    3550.0|      6.47|          4017|        1.32|        304058|            1.32|55400|55400|54800|    96|   5264000|         NaN|   KOSPI|  우선주|          null|기타금융|\n",
      "+--------+------------+-----+------+------------+----------+------+-----+-------+-------+--------+----+----------+----------+--------------+------------+--------------+----------------+-----+-----+-----+------+----------+------------+--------+--------+--------------+--------+\n",
      "only showing top 5 rows\n",
      "\n",
      "+--------+-----+------+------------+----------+------+-----+-------+-------+--------+----+----------+----------+--------------+------------+--------------+----------------+-----+-----+-----+------+----------+------------+--------+--------+--------------+--------+\n",
      "|종목코드| 종가|등락률|    시가총액|    기준일|   eps|  per|선행eps|선행per|     bps| pbr|주당배당금|배당수익률|외국인보유수량|외국인지분율|외국인한도수량|외국인한도소진율| 시가| 고가| 저가|거래량|  거래대금|기업고유번호|시장구분|종목구분|          섹터|  업종명|\n",
      "+--------+-----+------+------------+----------+------+-----+-------+-------+--------+----+----------+----------+--------------+------------+--------------+----------------+-----+-----+-----+------+----------+------------+--------+--------+--------------+--------+\n",
      "|  000020| 9350| -0.85|261159244500|2024-03-15| 736.0| 12.7|    NaN|    NaN| 13165.0|0.71|     180.0|      1.93|       1681856|        6.02|      27931470|            6.02| 9450| 9450| 9300| 72206| 674278570|    119195.0|   KOSPI|  보통주|      건강관리|  의약품|\n",
      "|  000040|  465|   0.0| 44704386225|2024-03-15|   NaN|  NaN|    NaN|    NaN|   345.0|1.35|       0.0|       0.0|      43963412|       45.73|      96138465|           45.73|    0|    0|    0|     0|         0|    112378.0|   KOSPI|  보통주|경기관련소비재|운수장비|\n",
      "|  000050| 8470| -1.63|232207336900|2024-03-15| 177.0|47.85|    NaN|    NaN| 30304.0|0.28|     125.0|      1.48|        270629|        0.99|      27415270|            0.99| 8610| 8690| 8270| 11024|  93485040|    101628.0|   KOSPI|  보통주|경기관련소비재|  유통업|\n",
      "|  000070|71300| -1.93|610632522300|2024-03-15|9173.0| 7.77|    NaN|    NaN|240995.0| 0.3|    3500.0|      4.91|        767205|        8.96|       8564271|            8.96|73000|74500|71300| 32624|2341408000|    126937.0|   KOSPI|  보통주|          소재|기타금융|\n",
      "|  000075|54900| -0.18| 16692784200|2024-03-15|   NaN|  NaN|    NaN|    NaN|     NaN| NaN|    3550.0|      6.47|          4017|        1.32|        304058|            1.32|55400|55400|54800|    96|   5264000|         NaN|   KOSPI|  우선주|          null|기타금융|\n",
      "+--------+-----+------+------------+----------+------+-----+-------+-------+--------+----+----------+----------+--------------+------------+--------------+----------------+-----+-----+-----+------+----------+------------+--------+--------+--------------+--------+\n",
      "only showing top 5 rows\n",
      "\n"
     ]
    }
   ],
   "source": [
    "select_columns = stock_sdf.columns\n",
    "\n",
    "# * list 는 list내부의 원소를 unpack\n",
    "print('select_columns:', select_columns, *select_columns)\n",
    "\n",
    "stock_sdf.select(*select_columns).show(5)\n",
    "#버전 upgrade가 되면서 select 절에 list를 입력해도 여러개의 컬럼을 반환 가능. 하지만 원칙적으로 개별 컬럼들을 인자로 입력하는 것이 바람직. \n",
    "stock_sdf.select(select_columns).show(5)\n",
    "\n",
    "select_columns.remove('종목명')\n",
    "stock_sdf.select(*select_columns).show(5)"
   ]
  },
  {
   "cell_type": "code",
   "execution_count": 57,
   "metadata": {
    "application/vnd.databricks.v1+cell": {
     "inputWidgets": {},
     "nuid": "cf7e4bb9-5281-4e3b-bcb8-372743d1bd26",
     "showTitle": false,
     "title": ""
    }
   },
   "outputs": [
    {
     "name": "stdout",
     "output_type": "stream",
     "text": [
      "+--------+--------+\n",
      "|  종목명|종목코드|\n",
      "+--------+--------+\n",
      "|동화약품|  000020|\n",
      "|KR모터스|  000040|\n",
      "|    경방|  000050|\n",
      "+--------+--------+\n",
      "only showing top 3 rows\n",
      "\n",
      "+--------+--------+\n",
      "|  종목명|종목코드|\n",
      "+--------+--------+\n",
      "|동화약품|  000020|\n",
      "|KR모터스|  000040|\n",
      "|    경방|  000050|\n",
      "+--------+--------+\n",
      "only showing top 3 rows\n",
      "\n",
      "+--------+--------+\n",
      "|  종목명|종목코드|\n",
      "+--------+--------+\n",
      "|동화약품|  000020|\n",
      "|KR모터스|  000040|\n",
      "|    경방|  000050|\n",
      "+--------+--------+\n",
      "only showing top 3 rows\n",
      "\n"
     ]
    }
   ],
   "source": [
    "# 컬럼 속성으로 지정하여 select 의 인자로 사용 가능. pandas DataFrame의 ['column']는 컬럼값을 포함한 array를 지칭하나 spark DataFrame의 ['column']는 컬럼 자체를 지정함. \n",
    "stock_sdf.select(stock_sdf.종목명, stock_sdf.종목코드).show(3)\n",
    "stock_sdf.select(stock_sdf['종목명'], stock_sdf['종목코드']).show(3)\n",
    "\n",
    "\n",
    "from pyspark.sql.functions import col\n",
    "\n",
    "# pyspark.sql.functions의 col() 함수를 이용하여 명시적으로 컬럼명을 지정할 수 있음. \n",
    "stock_sdf.select(col('종목명'), col('종목코드')).show(3)"
   ]
  },
  {
   "cell_type": "code",
   "execution_count": 58,
   "metadata": {
    "application/vnd.databricks.v1+cell": {
     "inputWidgets": {},
     "nuid": "6d933a6e-775d-43c7-bf43-29843bd949f6",
     "showTitle": false,
     "title": ""
    }
   },
   "outputs": [
    {
     "data": {
      "text/plain": [
       "0             동화약품\n",
       "1            KR모터스\n",
       "2               경방\n",
       "3            삼양홀딩스\n",
       "4           삼양홀딩스우\n",
       "           ...    \n",
       "2666           JTC\n",
       "2667       고스트스튜디오\n",
       "2668           소마젠\n",
       "2669    프레스티지바이오파마\n",
       "2670         네오이뮨텍\n",
       "Name: 종목명, Length: 2671, dtype: object"
      ]
     },
     "execution_count": 58,
     "metadata": {},
     "output_type": "execute_result"
    }
   ],
   "source": [
    "stock_pdf.종목명"
   ]
  },
  {
   "cell_type": "code",
   "execution_count": 60,
   "metadata": {
    "application/vnd.databricks.v1+cell": {
     "inputWidgets": {},
     "nuid": "81db3d87-bb43-41a5-8ce3-fbae8d4f1cbe",
     "showTitle": false,
     "title": ""
    }
   },
   "outputs": [
    {
     "name": "stdout",
     "output_type": "stream",
     "text": [
      "<class 'pyspark.sql.column.Column'> <class 'pyspark.sql.column.Column'>\n",
      "<class 'pyspark.sql.column.Column'>\n"
     ]
    }
   ],
   "source": [
    "print(type(stock_sdf.종목명), type(stock_sdf['종목명']))\n",
    "print(type(col('종목명')))"
   ]
  },
  {
   "cell_type": "code",
   "execution_count": 65,
   "metadata": {
    "application/vnd.databricks.v1+cell": {
     "inputWidgets": {},
     "nuid": "b31e42d3-42fb-4755-a7c7-a1b7e1c6e0b3",
     "showTitle": false,
     "title": ""
    }
   },
   "outputs": [
    {
     "name": "stdout",
     "output_type": "stream",
     "text": [
      "+--------+------------+--------+---------------+\n",
      "|종목코드|      종목명|시장구분|lower(시장구분)|\n",
      "+--------+------------+--------+---------------+\n",
      "|  000020|    동화약품|   KOSPI|          kospi|\n",
      "|  000040|    KR모터스|   KOSPI|          kospi|\n",
      "|  000050|        경방|   KOSPI|          kospi|\n",
      "|  000070|  삼양홀딩스|   KOSPI|          kospi|\n",
      "|  000075|삼양홀딩스우|   KOSPI|          kospi|\n",
      "+--------+------------+--------+---------------+\n",
      "only showing top 5 rows\n",
      "\n",
      "+------------+\n",
      "|Cap_시장구분|\n",
      "+------------+\n",
      "|       kospi|\n",
      "|       kospi|\n",
      "|       kospi|\n",
      "|       kospi|\n",
      "|       kospi|\n",
      "+------------+\n",
      "only showing top 5 rows\n",
      "\n"
     ]
    }
   ],
   "source": [
    "from pyspark.sql.functions import upper, lower, col\n",
    "\n",
    "# select()에서 컬럼 데이터 가공 후 생성 가능. \n",
    "# Select 종목코드, 종목명, 시장구분, lower(시장구분) from stock_sdf \n",
    "stock_sdf.select(\"종목코드\", \"종목명\" , \"시장구분\",lower(col('시장구분'))).show(5) \n",
    "# Select lower(시장구분) as Cap_시장구분 from stock_sdf\n",
    "stock_sdf.select(lower(col('시장구분')).alias('Cap_시장구분')).show(5) "
   ]
  },
  {
   "cell_type": "markdown",
   "metadata": {
    "application/vnd.databricks.v1+cell": {
     "inputWidgets": {},
     "nuid": "5368f970-6aa4-4faa-861e-4739614ee5ee",
     "showTitle": false,
     "title": ""
    }
   },
   "source": [
    "### spark DataFrame filter() 메소드 알아보기\n",
    "* filter()는 SQL의 where와 유사하게 DataFrame내의 특정 조건을 만족하는 레코드를 DataFrame으로 반환. \n",
    "* filter()내의 조건 컬럼은 컬럼 속성으로 지정 가능. 조건문 자체는 SQL 과 유사한 문자열로 지정 할 수 있음(조건 컬럼은 문자열 지정이 안됨. )\n",
    "* where() 메소드는 filter()의 alias이며 SQL where와 직관적인 동일성을 간주하기 위해 생성. \n",
    "* 복합 조건 and는 & 를, or를 | 를 사용. 개별 조건은 ()로 감싸야 함."
   ]
  },
  {
   "cell_type": "code",
   "execution_count": null,
   "metadata": {
    "application/vnd.databricks.v1+cell": {
     "inputWidgets": {},
     "nuid": "b571db77-89cf-42c2-9ce5-037c46e387ee",
     "showTitle": false,
     "title": ""
    }
   },
   "outputs": [
    {
     "data": {
      "text/plain": [
       "<class 'pyspark.sql.dataframe.DataFrame'>\n"
      ]
     },
     "metadata": {
      "application/vnd.databricks.v1+output": {
       "addedWidgets": {},
       "arguments": {},
       "data": "<class 'pyspark.sql.dataframe.DataFrame'>\n",
       "datasetInfos": [],
       "metadata": {},
       "removedWidgets": [],
       "type": "ansi"
      }
     },
     "output_type": "display_data",
     "transient": null
    },
    {
     "data": {
      "text/html": [
       "<style scoped>\n",
       "  .table-result-container {\n",
       "    max-height: 300px;\n",
       "    overflow: auto;\n",
       "  }\n",
       "  table, th, td {\n",
       "    border: 1px solid black;\n",
       "    border-collapse: collapse;\n",
       "  }\n",
       "  th, td {\n",
       "    padding: 5px;\n",
       "  }\n",
       "  th {\n",
       "    text-align: left;\n",
       "  }\n",
       "</style><div class='table-result-container'><table class='table-result'><thead style='background-color: white'><tr><th>Name</th><th>Year</th><th>Gender</th></tr></thead><tbody><tr><td>Chulmin</td><td>2011</td><td>Male</td></tr><tr><td>Wansoo</td><td>2016</td><td>Male</td></tr><tr><td>Myunghyun</td><td>2015</td><td>Male</td></tr><tr><td>Hyunjoo</td><td>2015</td><td>Female</td></tr><tr><td>Chulman</td><td>2011</td><td>Male</td></tr></tbody></table></div>"
      ]
     },
     "metadata": {
      "application/vnd.databricks.v1+output": {
       "addedWidgets": {},
       "aggData": [],
       "aggError": "",
       "aggOverflow": false,
       "aggSchema": [],
       "aggSeriesLimitReached": false,
       "aggType": "",
       "arguments": {},
       "columnCustomDisplayInfos": {},
       "data": [
        [
         "Chulmin",
         2011,
         "Male"
        ],
        [
         "Wansoo",
         2016,
         "Male"
        ],
        [
         "Myunghyun",
         2015,
         "Male"
        ],
        [
         "Hyunjoo",
         2015,
         "Female"
        ],
        [
         "Chulman",
         2011,
         "Male"
        ]
       ],
       "datasetInfos": [],
       "dbfsResultPath": null,
       "isJsonSchema": true,
       "metadata": {},
       "overflow": false,
       "plotOptions": {
        "customPlotOptions": {},
        "displayType": "table",
        "pivotAggregation": null,
        "pivotColumns": [],
        "xColumns": [],
        "yColumns": []
       },
       "removedWidgets": [],
       "schema": [
        {
         "metadata": "{}",
         "name": "Name",
         "type": "\"string\""
        },
        {
         "metadata": "{}",
         "name": "Year",
         "type": "\"long\""
        },
        {
         "metadata": "{}",
         "name": "Gender",
         "type": "\"string\""
        }
       ],
       "type": "table"
      }
     },
     "output_type": "display_data",
     "transient": null
    }
   ],
   "source": [
    "dict_01 = {'Name': ['Chulmin', 'Wansoo','Myunghyun','Hyunjoo', 'Chulman'],\n",
    "           'Year': [2011, 2016, 2015, 2015, 2011],\n",
    "           'Gender': ['Male', 'Male', 'Male', 'Female', 'Male']\n",
    "          }\n",
    "# 딕셔너리를 DataFrame으로 변환\n",
    "data_pdf = pd.DataFrame(dict_01)\n",
    "\n",
    "# pandas DataFrame은 spark DataFrame으로 변환\n",
    "data_sdf = spark.createDataFrame(data_pdf)\n",
    "\n",
    "print(type(data_sdf))\n",
    "display(data_sdf)"
   ]
  },
  {
   "cell_type": "code",
   "execution_count": null,
   "metadata": {
    "application/vnd.databricks.v1+cell": {
     "inputWidgets": {},
     "nuid": "4428bdd6-84cf-449e-82d5-8265a6edb267",
     "showTitle": false,
     "title": ""
    }
   },
   "outputs": [
    {
     "data": {
      "text/plain": [
       "+-------+----+------+\n",
       "|   Name|Year|Gender|\n",
       "+-------+----+------+\n",
       "|Chulmin|2011|  Male|\n",
       "+-------+----+------+\n",
       "\n",
       "조건 컬럼을 문자열로 지정할 수 없으므로 아래는 오류를 발생 시킵니다. \n"
      ]
     },
     "metadata": {
      "application/vnd.databricks.v1+output": {
       "addedWidgets": {},
       "arguments": {},
       "data": "+-------+----+------+\n|   Name|Year|Gender|\n+-------+----+------+\n|Chulmin|2011|  Male|\n+-------+----+------+\n\n조건 컬럼을 문자열로 지정할 수 없으므로 아래는 오류를 발생 시킵니다. \n",
       "datasetInfos": [],
       "metadata": {},
       "removedWidgets": [],
       "type": "ansi"
      }
     },
     "output_type": "display_data",
     "transient": null
    },
    {
     "data": {
      "text/plain": [
       "\u001b[0;31m---------------------------------------------------------------------------\u001b[0m\n",
       "\u001b[0;31mTypeError\u001b[0m                                 Traceback (most recent call last)\n",
       "\u001b[0;32m<command-3442554736920586>\u001b[0m in \u001b[0;36m<module>\u001b[0;34m\u001b[0m\n",
       "\u001b[1;32m      2\u001b[0m \u001b[0;34m\u001b[0m\u001b[0m\n",
       "\u001b[1;32m      3\u001b[0m \u001b[0mprint\u001b[0m\u001b[0;34m(\u001b[0m\u001b[0;34m'조건 컬럼을 문자열로 지정할 수 없으므로 아래는 오류를 발생 시킵니다. '\u001b[0m\u001b[0;34m)\u001b[0m\u001b[0;34m\u001b[0m\u001b[0;34m\u001b[0m\u001b[0m\n",
       "\u001b[0;32m----> 4\u001b[0;31m \u001b[0mdata_sdf\u001b[0m\u001b[0;34m.\u001b[0m\u001b[0mfilter\u001b[0m\u001b[0;34m(\u001b[0m\u001b[0;34m'Name'\u001b[0m \u001b[0;34m==\u001b[0m \u001b[0;34m'Chulmin'\u001b[0m\u001b[0;34m)\u001b[0m\u001b[0;34m.\u001b[0m\u001b[0mshow\u001b[0m\u001b[0;34m(\u001b[0m\u001b[0;34m)\u001b[0m\u001b[0;34m\u001b[0m\u001b[0;34m\u001b[0m\u001b[0m\n",
       "\u001b[0m\n",
       "\u001b[0;32m/databricks/spark/python/pyspark/sql/dataframe.py\u001b[0m in \u001b[0;36mfilter\u001b[0;34m(self, condition)\u001b[0m\n",
       "\u001b[1;32m   1756\u001b[0m             \u001b[0mjdf\u001b[0m \u001b[0;34m=\u001b[0m \u001b[0mself\u001b[0m\u001b[0;34m.\u001b[0m\u001b[0m_jdf\u001b[0m\u001b[0;34m.\u001b[0m\u001b[0mfilter\u001b[0m\u001b[0;34m(\u001b[0m\u001b[0mcondition\u001b[0m\u001b[0;34m.\u001b[0m\u001b[0m_jc\u001b[0m\u001b[0;34m)\u001b[0m\u001b[0;34m\u001b[0m\u001b[0;34m\u001b[0m\u001b[0m\n",
       "\u001b[1;32m   1757\u001b[0m         \u001b[0;32melse\u001b[0m\u001b[0;34m:\u001b[0m\u001b[0;34m\u001b[0m\u001b[0;34m\u001b[0m\u001b[0m\n",
       "\u001b[0;32m-> 1758\u001b[0;31m             \u001b[0;32mraise\u001b[0m \u001b[0mTypeError\u001b[0m\u001b[0;34m(\u001b[0m\u001b[0;34m\"condition should be string or Column\"\u001b[0m\u001b[0;34m)\u001b[0m\u001b[0;34m\u001b[0m\u001b[0;34m\u001b[0m\u001b[0m\n",
       "\u001b[0m\u001b[1;32m   1759\u001b[0m         \u001b[0;32mreturn\u001b[0m \u001b[0mDataFrame\u001b[0m\u001b[0;34m(\u001b[0m\u001b[0mjdf\u001b[0m\u001b[0;34m,\u001b[0m \u001b[0mself\u001b[0m\u001b[0;34m.\u001b[0m\u001b[0msql_ctx\u001b[0m\u001b[0;34m)\u001b[0m\u001b[0;34m\u001b[0m\u001b[0;34m\u001b[0m\u001b[0m\n",
       "\u001b[1;32m   1760\u001b[0m \u001b[0;34m\u001b[0m\u001b[0m\n",
       "\n",
       "\u001b[0;31mTypeError\u001b[0m: condition should be string or Column"
      ]
     },
     "metadata": {
      "application/vnd.databricks.v1+output": {
       "arguments": {},
       "data": "\u001b[0;31m---------------------------------------------------------------------------\u001b[0m\n\u001b[0;31mTypeError\u001b[0m                                 Traceback (most recent call last)\n\u001b[0;32m<command-3442554736920586>\u001b[0m in \u001b[0;36m<module>\u001b[0;34m\u001b[0m\n\u001b[1;32m      2\u001b[0m \u001b[0;34m\u001b[0m\u001b[0m\n\u001b[1;32m      3\u001b[0m \u001b[0mprint\u001b[0m\u001b[0;34m(\u001b[0m\u001b[0;34m'조건 컬럼을 문자열로 지정할 수 없으므로 아래는 오류를 발생 시킵니다. '\u001b[0m\u001b[0;34m)\u001b[0m\u001b[0;34m\u001b[0m\u001b[0;34m\u001b[0m\u001b[0m\n\u001b[0;32m----> 4\u001b[0;31m \u001b[0mdata_sdf\u001b[0m\u001b[0;34m.\u001b[0m\u001b[0mfilter\u001b[0m\u001b[0;34m(\u001b[0m\u001b[0;34m'Name'\u001b[0m \u001b[0;34m==\u001b[0m \u001b[0;34m'Chulmin'\u001b[0m\u001b[0;34m)\u001b[0m\u001b[0;34m.\u001b[0m\u001b[0mshow\u001b[0m\u001b[0;34m(\u001b[0m\u001b[0;34m)\u001b[0m\u001b[0;34m\u001b[0m\u001b[0;34m\u001b[0m\u001b[0m\n\u001b[0m\n\u001b[0;32m/databricks/spark/python/pyspark/sql/dataframe.py\u001b[0m in \u001b[0;36mfilter\u001b[0;34m(self, condition)\u001b[0m\n\u001b[1;32m   1756\u001b[0m             \u001b[0mjdf\u001b[0m \u001b[0;34m=\u001b[0m \u001b[0mself\u001b[0m\u001b[0;34m.\u001b[0m\u001b[0m_jdf\u001b[0m\u001b[0;34m.\u001b[0m\u001b[0mfilter\u001b[0m\u001b[0;34m(\u001b[0m\u001b[0mcondition\u001b[0m\u001b[0;34m.\u001b[0m\u001b[0m_jc\u001b[0m\u001b[0;34m)\u001b[0m\u001b[0;34m\u001b[0m\u001b[0;34m\u001b[0m\u001b[0m\n\u001b[1;32m   1757\u001b[0m         \u001b[0;32melse\u001b[0m\u001b[0;34m:\u001b[0m\u001b[0;34m\u001b[0m\u001b[0;34m\u001b[0m\u001b[0m\n\u001b[0;32m-> 1758\u001b[0;31m             \u001b[0;32mraise\u001b[0m \u001b[0mTypeError\u001b[0m\u001b[0;34m(\u001b[0m\u001b[0;34m\"condition should be string or Column\"\u001b[0m\u001b[0;34m)\u001b[0m\u001b[0;34m\u001b[0m\u001b[0;34m\u001b[0m\u001b[0m\n\u001b[0m\u001b[1;32m   1759\u001b[0m         \u001b[0;32mreturn\u001b[0m \u001b[0mDataFrame\u001b[0m\u001b[0;34m(\u001b[0m\u001b[0mjdf\u001b[0m\u001b[0;34m,\u001b[0m \u001b[0mself\u001b[0m\u001b[0;34m.\u001b[0m\u001b[0msql_ctx\u001b[0m\u001b[0;34m)\u001b[0m\u001b[0;34m\u001b[0m\u001b[0;34m\u001b[0m\u001b[0m\n\u001b[1;32m   1760\u001b[0m \u001b[0;34m\u001b[0m\u001b[0m\n\n\u001b[0;31mTypeError\u001b[0m: condition should be string or Column",
       "errorSummary": "<span class='ansi-red-fg'>TypeError</span>: condition should be string or Column",
       "errorTraceType": "ansi",
       "metadata": {},
       "type": "ipynbError"
      }
     },
     "output_type": "display_data",
     "transient": null
    }
   ],
   "source": [
    "data_sdf.filter(data_sdf['Name'] == 'Chulmin').show() # select * from data_sdf where Name = 'Chulmin'\n",
    "\n",
    "print('조건 컬럼을 문자열로 지정할 수 없으므로 아래는 오류를 발생 시킵니다. ')\n",
    "data_sdf.filter('Name' == 'Chulmin').show()"
   ]
  },
  {
   "cell_type": "code",
   "execution_count": null,
   "metadata": {
    "application/vnd.databricks.v1+cell": {
     "inputWidgets": {},
     "nuid": "f66d892d-6a96-43ee-bb66-8ea99000d839",
     "showTitle": false,
     "title": ""
    }
   },
   "outputs": [
    {
     "data": {
      "text/plain": [
       "+-------+----+------+\n",
       "|   Name|Year|Gender|\n",
       "+-------+----+------+\n",
       "|Chulmin|2011|  Male|\n",
       "+-------+----+------+\n",
       "\n"
      ]
     },
     "metadata": {
      "application/vnd.databricks.v1+output": {
       "addedWidgets": {},
       "arguments": {},
       "data": "+-------+----+------+\n|   Name|Year|Gender|\n+-------+----+------+\n|Chulmin|2011|  Male|\n+-------+----+------+\n\n",
       "datasetInfos": [],
       "metadata": {},
       "removedWidgets": [],
       "type": "ansi"
      }
     },
     "output_type": "display_data",
     "transient": null
    }
   ],
   "source": [
    "data_sdf.where(data_sdf['Name'] == 'Chulmin').show()"
   ]
  },
  {
   "cell_type": "code",
   "execution_count": null,
   "metadata": {
    "application/vnd.databricks.v1+cell": {
     "inputWidgets": {},
     "nuid": "944c6562-8f2b-41b3-a7fb-16c8495a4630",
     "showTitle": false,
     "title": ""
    }
   },
   "outputs": [
    {
     "data": {
      "text/plain": [
       "+-------+----+------+\n",
       "|   Name|Year|Gender|\n",
       "+-------+----+------+\n",
       "|Chulmin|2011|  Male|\n",
       "+-------+----+------+\n",
       "\n"
      ]
     },
     "metadata": {
      "application/vnd.databricks.v1+output": {
       "addedWidgets": {},
       "arguments": {},
       "data": "+-------+----+------+\n|   Name|Year|Gender|\n+-------+----+------+\n|Chulmin|2011|  Male|\n+-------+----+------+\n\n",
       "datasetInfos": [],
       "metadata": {},
       "removedWidgets": [],
       "type": "ansi"
      }
     },
     "output_type": "display_data",
     "transient": null
    }
   ],
   "source": [
    "# 단일 컬럼은 string으로 사용할 수 없으며 filter 절의 조건 자체를 SQL의 where 조건절 구문과 유사하게 string으로 만들어야함. 단 SQL과 다르게 동일 비교 시 = 가 아니라 == 이 사용되어야 함.\n",
    "# 또한 SQL 내부 문자열은 '' 으로 표시해야함. \n",
    "data_sdf.filter(\"Name == 'Chulmin'\").show() # select * from data_sdf where Name = 'Chulmin'"
   ]
  },
  {
   "cell_type": "code",
   "execution_count": null,
   "metadata": {
    "application/vnd.databricks.v1+cell": {
     "inputWidgets": {},
     "nuid": "b951bccb-b3ab-4067-b7d2-278a382f1e46",
     "showTitle": false,
     "title": ""
    }
   },
   "outputs": [
    {
     "data": {
      "text/plain": [
       "+---------+----+------+\n",
       "|     Name|Year|Gender|\n",
       "+---------+----+------+\n",
       "|   Wansoo|2016|  Male|\n",
       "|Myunghyun|2015|  Male|\n",
       "+---------+----+------+\n",
       "\n",
       "+---------+----+------+\n",
       "|     Name|Year|Gender|\n",
       "+---------+----+------+\n",
       "|  Chulmin|2011|  Male|\n",
       "|   Wansoo|2016|  Male|\n",
       "|Myunghyun|2015|  Male|\n",
       "|  Chulman|2011|  Male|\n",
       "+---------+----+------+\n",
       "\n"
      ]
     },
     "metadata": {
      "application/vnd.databricks.v1+output": {
       "addedWidgets": {},
       "arguments": {},
       "data": "+---------+----+------+\n|     Name|Year|Gender|\n+---------+----+------+\n|   Wansoo|2016|  Male|\n|Myunghyun|2015|  Male|\n+---------+----+------+\n\n+---------+----+------+\n|     Name|Year|Gender|\n+---------+----+------+\n|  Chulmin|2011|  Male|\n|   Wansoo|2016|  Male|\n|Myunghyun|2015|  Male|\n|  Chulman|2011|  Male|\n+---------+----+------+\n\n",
       "datasetInfos": [],
       "metadata": {},
       "removedWidgets": [],
       "type": "ansi"
      }
     },
     "output_type": "display_data",
     "transient": null
    }
   ],
   "source": [
    "data_sdf.filter( (data_sdf['Gender'] == 'Male') & (col('Year') > 2011) ).show() # select * from data_sdf where Gender = 'Male' and Year > 2011\n",
    "data_sdf.filter( (data_sdf['Gender'] == 'Male') | (col('Year') < 2011) ).show() # select * from data_sdf where Gender = 'Male' or Year < 2011"
   ]
  },
  {
   "cell_type": "code",
   "execution_count": null,
   "metadata": {
    "application/vnd.databricks.v1+cell": {
     "inputWidgets": {},
     "nuid": "81b3bcb8-17d9-4777-a410-c152d29f2c71",
     "showTitle": false,
     "title": ""
    }
   },
   "outputs": [
    {
     "data": {
      "text/plain": [
       "문자열 컬럼 like() filter() 수행. \n",
       "SQL의 Like 조건문을 string으로 filter() 수행. \n",
       "+-------+----+------+\n",
       "|   Name|Year|Gender|\n",
       "+-------+----+------+\n",
       "|Chulmin|2011|  Male|\n",
       "|Chulman|2011|  Male|\n",
       "+-------+----+------+\n",
       "\n",
       "+-------+----+------+\n",
       "|   Name|Year|Gender|\n",
       "+-------+----+------+\n",
       "|Chulmin|2011|  Male|\n",
       "|Chulman|2011|  Male|\n",
       "+-------+----+------+\n",
       "\n",
       "+---------+----+------+\n",
       "|     Name|Year|Gender|\n",
       "+---------+----+------+\n",
       "|  Chulmin|2011|  Male|\n",
       "|Myunghyun|2015|  Male|\n",
       "|  Hyunjoo|2015|Female|\n",
       "|  Chulman|2011|  Male|\n",
       "+---------+----+------+\n",
       "\n",
       "+---------+----+------+\n",
       "|     Name|Year|Gender|\n",
       "+---------+----+------+\n",
       "|  Chulmin|2011|  Male|\n",
       "|Myunghyun|2015|  Male|\n",
       "|  Chulman|2011|  Male|\n",
       "+---------+----+------+\n",
       "\n"
      ]
     },
     "metadata": {
      "application/vnd.databricks.v1+output": {
       "addedWidgets": {},
       "arguments": {},
       "data": "문자열 컬럼 like() filter() 수행. \nSQL의 Like 조건문을 string으로 filter() 수행. \n+-------+----+------+\n|   Name|Year|Gender|\n+-------+----+------+\n|Chulmin|2011|  Male|\n|Chulman|2011|  Male|\n+-------+----+------+\n\n+-------+----+------+\n|   Name|Year|Gender|\n+-------+----+------+\n|Chulmin|2011|  Male|\n|Chulman|2011|  Male|\n+-------+----+------+\n\n+---------+----+------+\n|     Name|Year|Gender|\n+---------+----+------+\n|  Chulmin|2011|  Male|\n|Myunghyun|2015|  Male|\n|  Hyunjoo|2015|Female|\n|  Chulman|2011|  Male|\n+---------+----+------+\n\n+---------+----+------+\n|     Name|Year|Gender|\n+---------+----+------+\n|  Chulmin|2011|  Male|\n|Myunghyun|2015|  Male|\n|  Chulman|2011|  Male|\n+---------+----+------+\n\n",
       "datasetInfos": [],
       "metadata": {},
       "removedWidgets": [],
       "type": "ansi"
      }
     },
     "output_type": "display_data",
     "transient": null
    }
   ],
   "source": [
    "# 문자열 컬럼의 like 조건 수행. \n",
    "print('문자열 컬럼 like() filter() 수행. ')\n",
    "data_sdf.filter(col('Name').like('Chul%')).show() # select * from data_sdf where Name like 'Chul%'\n",
    "\n",
    "print('SQL의 Like 조건문을 string으로 filter() 수행. ')\n",
    "data_sdf.filter(\" Name like 'Chul%' \").show()\n",
    "data_sdf.filter(\" Name like 'C%' \").show() # startswith('C') where Name like 'C%'\n",
    "data_sdf.filter(\" Name like '%u%' \").show() # contains('u')\n",
    "data_sdf.filter(\" upper(Name) like '%M%' \").show() #별도의 pyspark.sql.functions 호출없이 수행 가능.  select * from data_sdf where upper(Name) like '%M%'"
   ]
  },
  {
   "cell_type": "code",
   "execution_count": null,
   "metadata": {
    "application/vnd.databricks.v1+cell": {
     "inputWidgets": {},
     "nuid": "8df0c99e-f22b-459d-9c5d-85a0256fe0f8",
     "showTitle": false,
     "title": ""
    }
   },
   "outputs": [
    {
     "data": {
      "text/plain": [
       "+---------+----+------+\n",
       "|     Name|Year|Gender|\n",
       "+---------+----+------+\n",
       "|  Chulmin|2011|  Male|\n",
       "|Myunghyun|2015|  Male|\n",
       "|  Chulman|2011|  Male|\n",
       "+---------+----+------+\n",
       "\n"
      ]
     },
     "metadata": {
      "application/vnd.databricks.v1+output": {
       "addedWidgets": {},
       "arguments": {},
       "data": "+---------+----+------+\n|     Name|Year|Gender|\n+---------+----+------+\n|  Chulmin|2011|  Male|\n|Myunghyun|2015|  Male|\n|  Chulman|2011|  Male|\n+---------+----+------+\n\n",
       "datasetInfos": [],
       "metadata": {},
       "removedWidgets": [],
       "type": "ansi"
      }
     },
     "output_type": "display_data",
     "transient": null
    }
   ],
   "source": [
    "from pyspark.sql.functions import upper\n",
    "\n",
    "data_sdf.filter(upper(data_sdf['Name']).like('%M%')).show() #select * from data_sdf where upper(Name) like '%M%'"
   ]
  },
  {
   "cell_type": "code",
   "execution_count": null,
   "metadata": {
    "application/vnd.databricks.v1+cell": {
     "inputWidgets": {},
     "nuid": "0571ab76-13ec-487a-a1c9-0b2af8761ee2",
     "showTitle": false,
     "title": ""
    }
   },
   "outputs": [
    {
     "data": {
      "text/plain": [
       "+----+------+\n",
       "|Year|Gender|\n",
       "+----+------+\n",
       "|2011|  Male|\n",
       "|2015|  Male|\n",
       "|2011|  Male|\n",
       "+----+------+\n",
       "\n"
      ]
     },
     "metadata": {
      "application/vnd.databricks.v1+output": {
       "addedWidgets": {},
       "arguments": {},
       "data": "+----+------+\n|Year|Gender|\n+----+------+\n|2011|  Male|\n|2015|  Male|\n|2011|  Male|\n+----+------+\n\n",
       "datasetInfos": [],
       "metadata": {},
       "removedWidgets": [],
       "type": "ansi"
      }
     },
     "output_type": "display_data",
     "transient": null
    }
   ],
   "source": [
    "# filtering 후에 특정 컬럼으로만 DataFrame 생성하려면 select() 적용. \n",
    "data_sdf.filter(upper(data_sdf['Name']).like('%M%')).select('Year', 'Gender').show()"
   ]
  },
  {
   "cell_type": "code",
   "execution_count": null,
   "metadata": {
    "application/vnd.databricks.v1+cell": {
     "inputWidgets": {},
     "nuid": "55685168-98b9-450d-ab9c-67b638f8452b",
     "showTitle": false,
     "title": ""
    }
   },
   "outputs": [
    {
     "data": {
      "text/html": [
       "<style scoped>\n",
       "  .ansiout {\n",
       "    display: block;\n",
       "    unicode-bidi: embed;\n",
       "    white-space: pre-wrap;\n",
       "    word-wrap: break-word;\n",
       "    word-break: break-all;\n",
       "    font-family: \"Source Code Pro\", \"Menlo\", monospace;;\n",
       "    font-size: 13px;\n",
       "    color: #555;\n",
       "    margin-left: 4px;\n",
       "    line-height: 19px;\n",
       "  }\n",
       "</style>"
      ]
     },
     "metadata": {
      "application/vnd.databricks.v1+output": {
       "arguments": {},
       "data": "",
       "errorSummary": "",
       "errorTraceType": null,
       "metadata": {},
       "type": "ipynbError"
      }
     },
     "output_type": "display_data",
     "transient": null
    }
   ],
   "source": []
  }
 ],
 "metadata": {
  "application/vnd.databricks.v1+notebook": {
   "dashboards": [],
   "language": "python",
   "notebookMetadata": {
    "pythonIndentUnit": 4
   },
   "notebookName": "spark_dataframe_exercise_01 (1)",
   "notebookOrigID": 2353719888331978,
   "widgets": {}
  },
  "kernelspec": {
   "display_name": "Python 3 (ipykernel)",
   "language": "python",
   "name": "python3"
  },
  "language_info": {
   "codemirror_mode": {
    "name": "ipython",
    "version": 3
   },
   "file_extension": ".py",
   "mimetype": "text/x-python",
   "name": "python",
   "nbconvert_exporter": "python",
   "pygments_lexer": "ipython3",
   "version": "3.11.4"
  }
 },
 "nbformat": 4,
 "nbformat_minor": 4
}
