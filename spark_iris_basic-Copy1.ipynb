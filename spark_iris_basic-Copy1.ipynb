{
 "cells": [
  {
   "cell_type": "markdown",
   "metadata": {
    "application/vnd.databricks.v1+cell": {
     "inputWidgets": {},
     "nuid": "0d828a9f-2ede-4381-8760-7701568042f3",
     "showTitle": false,
     "title": ""
    }
   },
   "source": [
    "### Iris 데이터 세트를 로딩하고 Pandas DataFrame으로 변환 후 scikit learn으로 학습 및 예측 수행."
   ]
  },
  {
   "cell_type": "code",
   "execution_count": 5,
   "metadata": {},
   "outputs": [],
   "source": [
    "from pyspark.sql import SparkSession\n",
    "\n",
    "# SparkSession 객체 생성\n",
    "spark = SparkSession.builder \\\n",
    "    .appName(\"stock\") \\\n",
    "    .getOrCreate()\n",
    "\n"
   ]
  },
  {
   "cell_type": "code",
   "execution_count": 2,
   "metadata": {},
   "outputs": [
    {
     "name": "stdout",
     "output_type": "stream",
     "text": [
      "<class 'numpy.ndarray'> <class 'numpy.ndarray'> (150, 4) (150,)\n",
      "['sepal length (cm)', 'sepal width (cm)', 'petal length (cm)', 'petal width (cm)']\n"
     ]
    }
   ],
   "source": [
    "from sklearn.datasets import load_iris\n",
    "import pandas as pd\n",
    "import numpy as np\n",
    "\n",
    "iris = load_iris()\n",
    "iris_data = iris.data\n",
    "iris_label = iris.target\n",
    "print(type(iris_data), type(iris_label), iris_data.shape, iris_label.shape)\n",
    "print(iris.feature_names)"
   ]
  },
  {
   "cell_type": "code",
   "execution_count": 3,
   "metadata": {
    "application/vnd.databricks.v1+cell": {
     "inputWidgets": {},
     "nuid": "1f18d109-a1e1-4def-8ab8-a5e2d331f276",
     "showTitle": false,
     "title": ""
    }
   },
   "outputs": [
    {
     "name": "stdout",
     "output_type": "stream",
     "text": [
      "0    50\n",
      "1    50\n",
      "2    50\n",
      "Name: target, dtype: int64\n"
     ]
    },
    {
     "data": {
      "text/html": [
       "<div>\n",
       "<style scoped>\n",
       "    .dataframe tbody tr th:only-of-type {\n",
       "        vertical-align: middle;\n",
       "    }\n",
       "\n",
       "    .dataframe tbody tr th {\n",
       "        vertical-align: top;\n",
       "    }\n",
       "\n",
       "    .dataframe thead th {\n",
       "        text-align: right;\n",
       "    }\n",
       "</style>\n",
       "<table border=\"1\" class=\"dataframe\">\n",
       "  <thead>\n",
       "    <tr style=\"text-align: right;\">\n",
       "      <th></th>\n",
       "      <th>sepal_length</th>\n",
       "      <th>sepal_width</th>\n",
       "      <th>petal_length</th>\n",
       "      <th>petal_width</th>\n",
       "      <th>target</th>\n",
       "    </tr>\n",
       "  </thead>\n",
       "  <tbody>\n",
       "    <tr>\n",
       "      <th>0</th>\n",
       "      <td>5.1</td>\n",
       "      <td>3.5</td>\n",
       "      <td>1.4</td>\n",
       "      <td>0.2</td>\n",
       "      <td>0</td>\n",
       "    </tr>\n",
       "    <tr>\n",
       "      <th>1</th>\n",
       "      <td>4.9</td>\n",
       "      <td>3.0</td>\n",
       "      <td>1.4</td>\n",
       "      <td>0.2</td>\n",
       "      <td>0</td>\n",
       "    </tr>\n",
       "    <tr>\n",
       "      <th>2</th>\n",
       "      <td>4.7</td>\n",
       "      <td>3.2</td>\n",
       "      <td>1.3</td>\n",
       "      <td>0.2</td>\n",
       "      <td>0</td>\n",
       "    </tr>\n",
       "    <tr>\n",
       "      <th>3</th>\n",
       "      <td>4.6</td>\n",
       "      <td>3.1</td>\n",
       "      <td>1.5</td>\n",
       "      <td>0.2</td>\n",
       "      <td>0</td>\n",
       "    </tr>\n",
       "    <tr>\n",
       "      <th>4</th>\n",
       "      <td>5.0</td>\n",
       "      <td>3.6</td>\n",
       "      <td>1.4</td>\n",
       "      <td>0.2</td>\n",
       "      <td>0</td>\n",
       "    </tr>\n",
       "  </tbody>\n",
       "</table>\n",
       "</div>"
      ],
      "text/plain": [
       "   sepal_length  sepal_width  petal_length  petal_width  target\n",
       "0           5.1          3.5           1.4          0.2       0\n",
       "1           4.9          3.0           1.4          0.2       0\n",
       "2           4.7          3.2           1.3          0.2       0\n",
       "3           4.6          3.1           1.5          0.2       0\n",
       "4           5.0          3.6           1.4          0.2       0"
      ]
     },
     "metadata": {},
     "output_type": "display_data"
    }
   ],
   "source": [
    "\n",
    "\n",
    "# iris 데이터 세트를 numpy에서 pandas DataFrame으로 변환 \n",
    "iris_columns = ['sepal_length', 'sepal_width', 'petal_length', 'petal_width']\n",
    "\n",
    "iris_pdf = pd.DataFrame(iris_data, columns=iris_columns)\n",
    "iris_pdf['target'] = iris_label\n",
    "\n",
    "print(iris_pdf['target'].value_counts())\n",
    "display(iris_pdf.head())"
   ]
  },
  {
   "cell_type": "code",
   "execution_count": null,
   "metadata": {
    "application/vnd.databricks.v1+cell": {
     "inputWidgets": {},
     "nuid": "7d40badd-9360-4012-b4aa-d7a1609efdb5",
     "showTitle": false,
     "title": ""
    }
   },
   "outputs": [
    {
     "data": {
      "text/html": [
       "<style scoped>\n",
       "  .ansiout {\n",
       "    display: block;\n",
       "    unicode-bidi: embed;\n",
       "    white-space: pre-wrap;\n",
       "    word-wrap: break-word;\n",
       "    word-break: break-all;\n",
       "    font-family: \"Source Code Pro\", \"Menlo\", monospace;;\n",
       "    font-size: 13px;\n",
       "    color: #555;\n",
       "    margin-left: 4px;\n",
       "    line-height: 19px;\n",
       "  }\n",
       "</style>"
      ]
     },
     "metadata": {
      "application/vnd.databricks.v1+output": {
       "arguments": {},
       "data": "",
       "errorSummary": "",
       "errorTraceType": null,
       "metadata": {},
       "type": "ipynbError"
      }
     },
     "output_type": "display_data",
     "transient": null
    }
   ],
   "source": [
    "from sklearn.tree import DecisionTreeClassifier\n",
    "from sklearn.model_selection import train_test_split\n",
    "\n",
    "X_train, X_test, y_train, y_test = train_test_split(iris_data, iris_label, \n",
    "                                                    test_size=0.2, random_state=11)\n",
    "# DecisionTreeClassifier 객체 생성 \n",
    "dt_clf = DecisionTreeClassifier(random_state=11, max_depth=5)\n",
    "\n",
    "# 학습 수행. fit()을 호출하면 DecisionTreeClassifier 객체가 학습 됨.  \n",
    "dt_clf.fit(X_train, y_train)\n",
    "\n",
    "# 학습이 완료된 DecisionTreeClassifier 객체에서 테스트 데이터 세트로 예측 수행. \n",
    "pred = dt_clf.predict(X_test)\n",
    "print('테스트 데이터로 예측된 값:', pred)"
   ]
  },
  {
   "cell_type": "markdown",
   "metadata": {
    "application/vnd.databricks.v1+cell": {
     "inputWidgets": {},
     "nuid": "8e28fc48-a115-43eb-aaf0-9181b25ffb6b",
     "showTitle": false,
     "title": ""
    }
   },
   "source": [
    "### Spark DataFrame 생성 후 ML 알고리즘 학습 및 예측 수행. \n",
    "* iris_sdf DataFrame을 randomSplit()을 이용하여 train용과 test용 DataFrame으로 분할\n",
    "* VectorAssembler를 이용하여 모든 feature 컬럼들을 하나의 feature vector로 변환\n",
    "* Estimator 객체를 생성하고, fit() 메소드를 호출하여 ML Model 반환\n",
    "* ML Model을 이용하여 테스트 DataFrame에 예측 수행."
   ]
  },
  {
   "cell_type": "code",
   "execution_count": 6,
   "metadata": {
    "application/vnd.databricks.v1+cell": {
     "inputWidgets": {},
     "nuid": "c507b2cb-7352-4c41-88ad-becb471edbb4",
     "showTitle": false,
     "title": ""
    }
   },
   "outputs": [
    {
     "name": "stdout",
     "output_type": "stream",
     "text": [
      "<class 'pyspark.sql.dataframe.DataFrame'>\n"
     ]
    },
    {
     "data": {
      "text/plain": [
       "DataFrame[sepal_length: double, sepal_width: double, petal_length: double, petal_width: double, target: bigint]"
      ]
     },
     "metadata": {},
     "output_type": "display_data"
    }
   ],
   "source": [
    "iris_sdf = spark.createDataFrame(iris_pdf)\n",
    "print(type(iris_sdf))\n",
    "display(iris_sdf.limit(5))"
   ]
  },
  {
   "cell_type": "code",
   "execution_count": 7,
   "metadata": {
    "application/vnd.databricks.v1+cell": {
     "inputWidgets": {},
     "nuid": "4eac6776-89c2-496e-af50-f5b35136c85b",
     "showTitle": false,
     "title": ""
    }
   },
   "outputs": [
    {
     "name": "stdout",
     "output_type": "stream",
     "text": [
      "150 116 34\n"
     ]
    }
   ],
   "source": [
    "'''\n",
    "iris_sdf DataFrame을 randomSplit()을 이용하여 train용과 test용 DataFrame으로 분할 \n",
    "'''\n",
    "\n",
    "train_sdf, test_sdf = iris_sdf.randomSplit([0.8, 0.2], seed=42)\n",
    "train_sdf.cache()\n",
    "print(iris_sdf.count(), train_sdf.count(), test_sdf.count())"
   ]
  },
  {
   "cell_type": "code",
   "execution_count": null,
   "metadata": {
    "application/vnd.databricks.v1+cell": {
     "inputWidgets": {},
     "nuid": "9be6b6df-1ebd-4161-8180-780ec448c1ba",
     "showTitle": false,
     "title": ""
    }
   },
   "outputs": [
    {
     "data": {
      "text/html": [
       "<style scoped>\n",
       "  .ansiout {\n",
       "    display: block;\n",
       "    unicode-bidi: embed;\n",
       "    white-space: pre-wrap;\n",
       "    word-wrap: break-word;\n",
       "    word-break: break-all;\n",
       "    font-family: \"Source Code Pro\", \"Menlo\", monospace;;\n",
       "    font-size: 13px;\n",
       "    color: #555;\n",
       "    margin-left: 4px;\n",
       "    line-height: 19px;\n",
       "  }\n",
       "</style>"
      ]
     },
     "metadata": {
      "application/vnd.databricks.v1+output": {
       "arguments": {},
       "data": "",
       "errorSummary": "",
       "errorTraceType": null,
       "metadata": {},
       "type": "ipynbError"
      }
     },
     "output_type": "display_data",
     "transient": null
    }
   ],
   "source": [
    "display(train_sdf)"
   ]
  },
  {
   "cell_type": "code",
   "execution_count": 9,
   "metadata": {
    "application/vnd.databricks.v1+cell": {
     "inputWidgets": {},
     "nuid": "312cd004-a076-43d1-b63c-90f6bc23d161",
     "showTitle": false,
     "title": ""
    }
   },
   "outputs": [
    {
     "name": "stdout",
     "output_type": "stream",
     "text": [
      "<class 'pyspark.sql.dataframe.DataFrame'>\n",
      "+------------+-----------+------------+-----------+------+-----------------+\n",
      "|sepal_length|sepal_width|petal_length|petal_width|target|         features|\n",
      "+------------+-----------+------------+-----------+------+-----------------+\n",
      "|         4.3|        3.0|         1.1|        0.1|     0|[4.3,3.0,1.1,0.1]|\n",
      "|         4.4|        2.9|         1.4|        0.2|     0|[4.4,2.9,1.4,0.2]|\n",
      "|         4.6|        3.4|         1.4|        0.3|     0|[4.6,3.4,1.4,0.3]|\n",
      "|         4.7|        3.2|         1.3|        0.2|     0|[4.7,3.2,1.3,0.2]|\n",
      "|         4.8|        3.0|         1.4|        0.1|     0|[4.8,3.0,1.4,0.1]|\n",
      "|         4.9|        3.0|         1.4|        0.2|     0|[4.9,3.0,1.4,0.2]|\n",
      "|         5.0|        3.4|         1.5|        0.2|     0|[5.0,3.4,1.5,0.2]|\n",
      "|         5.0|        3.6|         1.4|        0.2|     0|[5.0,3.6,1.4,0.2]|\n",
      "|         5.1|        3.5|         1.4|        0.2|     0|[5.1,3.5,1.4,0.2]|\n",
      "|         5.1|        3.5|         1.4|        0.3|     0|[5.1,3.5,1.4,0.3]|\n",
      "|         5.4|        3.9|         1.3|        0.4|     0|[5.4,3.9,1.3,0.4]|\n",
      "|         5.4|        3.9|         1.7|        0.4|     0|[5.4,3.9,1.7,0.4]|\n",
      "|         5.7|        4.4|         1.5|        0.4|     0|[5.7,4.4,1.5,0.4]|\n",
      "|         5.8|        4.0|         1.2|        0.2|     0|[5.8,4.0,1.2,0.2]|\n",
      "|         4.7|        3.2|         1.6|        0.2|     0|[4.7,3.2,1.6,0.2]|\n",
      "|         4.8|        3.1|         1.6|        0.2|     0|[4.8,3.1,1.6,0.2]|\n",
      "|         4.8|        3.4|         1.9|        0.2|     0|[4.8,3.4,1.9,0.2]|\n",
      "|         4.9|        3.1|         1.5|        0.2|     0|[4.9,3.1,1.5,0.2]|\n",
      "|         5.0|        3.4|         1.6|        0.4|     0|[5.0,3.4,1.6,0.4]|\n",
      "|         5.1|        3.3|         1.7|        0.5|     0|[5.1,3.3,1.7,0.5]|\n",
      "+------------+-----------+------------+-----------+------+-----------------+\n",
      "only showing top 20 rows\n",
      "\n"
     ]
    }
   ],
   "source": [
    "# VectorAssembler를 이용하여 모든 feature 컬럼들을 하나의 feature vector로 변환.\n",
    "from pyspark.ml.feature import VectorAssembler\n",
    "\n",
    "iris_columns = ['sepal_length', 'sepal_width', 'petal_length', 'petal_width']\n",
    "# 인자로 입력 컬럼 리스트, vectorization될 하나의 컬럼 입력\n",
    "vec_assembler = VectorAssembler(inputCols=iris_columns, outputCol='features') # VectorAssembler() 생성 인자로 outputCols가 아닌 outputCol이 입력됨에 유의\n",
    "'''\n",
    "VectorAssembler 객체의 transform() 메소드를 호출하여 모든 feature 컬럼을 하나의 feature vector로 변환. \n",
    "단 VectorAssembler(inputCols=iris_columns, outputCol='features').transform(DataFrame)으로 반환되는 DataFrame은 기존 DataFrame에 outputCol로 지정된 컬럼이 추가된 DataFrame임 \n",
    "'''\n",
    "\n",
    "# transform의 인자로 반드시 Spark DataFrame 사용 -> 변환 결과도 Spark DataFrame\n",
    "train_feature_vector_df = vec_assembler.transform(train_sdf)\n",
    "\n",
    "print(type(train_feature_vector_df))\n",
    "train_feature_vector_df.show()"
   ]
  },
  {
   "cell_type": "code",
   "execution_count": 10,
   "metadata": {
    "application/vnd.databricks.v1+cell": {
     "inputWidgets": {},
     "nuid": "81a00889-aaf9-4b54-9d26-411b36417e6e",
     "showTitle": false,
     "title": ""
    }
   },
   "outputs": [
    {
     "name": "stdout",
     "output_type": "stream",
     "text": [
      "DecisionTree Estimator type: <class 'pyspark.ml.classification.DecisionTreeClassifier'> DecisionTree Estimator Model type: <class 'pyspark.ml.classification.DecisionTreeClassificationModel'>\n",
      "DecisionTreeClassifier_178786fb861f\n",
      "DecisionTreeClassificationModel: uid=DecisionTreeClassifier_178786fb861f, depth=5, numNodes=17, numClasses=3, numFeatures=4\n"
     ]
    }
   ],
   "source": [
    "\n",
    "from pyspark.ml.classification import DecisionTreeClassifier\n",
    "\n",
    "# Decision Tree 로 학습 수행. \n",
    "# Decisitree Tree 객체 생성 \n",
    "# feature vectorization한 컬럼, 라벨 컬럼을 반드시 인자로 지정\n",
    "dt = DecisionTreeClassifier(featuresCol='features', labelCol='target', maxDepth=5)\n",
    "\n",
    "# ML 알고리즘 객체의 fit()메소드를 이용하여 train feature vector 데이터 세트를 학습하고 이를 ML Model로 반환함.\n",
    "# scikit learn은 ML 알고리즘 객체로 fit()만 호출하면 해당 객체가 학습이 되었으나 Spark ML을 반드시 ML Model로 반환 받아야 함. \n",
    "# 입력이 있으면 출력이 반환되는 구조\n",
    "# DF -> transform -> DF\n",
    "# DF -> fit -> Estimator Model(transformation Object)\n",
    "dt_model = dt.fit(train_feature_vector_df) #dt.fit(X_train, y_label)\n",
    "print('DecisionTree Estimator type:', type(dt), 'DecisionTree Estimator Model type:', type(dt_model))\n",
    "print(dt)\n",
    "print(dt_model)"
   ]
  },
  {
   "cell_type": "code",
   "execution_count": 11,
   "metadata": {
    "application/vnd.databricks.v1+cell": {
     "inputWidgets": {},
     "nuid": "2fd130da-d030-4bc1-ab92-12fdb18b26e4",
     "showTitle": false,
     "title": ""
    }
   },
   "outputs": [
    {
     "name": "stdout",
     "output_type": "stream",
     "text": [
      "<class 'pyspark.sql.dataframe.DataFrame'>\n"
     ]
    },
    {
     "data": {
      "text/plain": [
       "DataFrame[sepal_length: double, sepal_width: double, petal_length: double, petal_width: double, target: bigint, features: vector]"
      ]
     },
     "metadata": {},
     "output_type": "display_data"
    }
   ],
   "source": [
    "# 테스트 데이터를 feature vector로 변환. \n",
    "# 이미 학습데이터로 만들어진 Transformer 객체를 테스트 데이터에도 적용 \n",
    "test_feature_vector_df = vec_assembler.transform(test_sdf)\n",
    "\n",
    "print(type(test_feature_vector_df))\n",
    "display(test_feature_vector_df)"
   ]
  },
  {
   "cell_type": "code",
   "execution_count": 13,
   "metadata": {
    "application/vnd.databricks.v1+cell": {
     "inputWidgets": {},
     "nuid": "22aabb2c-a86a-424c-92cc-af13d8c49511",
     "showTitle": false,
     "title": ""
    }
   },
   "outputs": [
    {
     "name": "stdout",
     "output_type": "stream",
     "text": [
      "<class 'pyspark.sql.dataframe.DataFrame'>\n"
     ]
    },
    {
     "data": {
      "text/plain": [
       "DataFrame[sepal_length: double, sepal_width: double, petal_length: double, petal_width: double, target: bigint, features: vector, rawPrediction: vector, probability: vector, prediction: double]"
      ]
     },
     "execution_count": 13,
     "metadata": {},
     "output_type": "execute_result"
    }
   ],
   "source": [
    "# 테스트 데이터 + 변환된 feature vector로 구성된 DataFrame을 학습된 모델의 transform() 메소드를 이용하여 예측 수행. \n",
    "# 학습된 모델은 ML 알고리즘 객체의 생성자로 featuresCols인자로 'features' 컬럼이 주어졌으므로 feature vector컬럼명을 인지하고 있음. \n",
    ". \n",
    "# 학습된 모델의 transform 메서드로 예측 수행\n",
    "predictions = dt_model.transform(test_feature_vector_df)\n",
    "print(type(predictions))\n",
    "predictions"
   ]
  },
  {
   "cell_type": "code",
   "execution_count": null,
   "metadata": {},
   "outputs": [],
   "source": []
  },
  {
   "cell_type": "code",
   "execution_count": 14,
   "metadata": {
    "application/vnd.databricks.v1+cell": {
     "inputWidgets": {},
     "nuid": "abfefb8f-c93c-40d0-9b50-6b2d183bf041",
     "showTitle": false,
     "title": ""
    }
   },
   "outputs": [
    {
     "name": "stdout",
     "output_type": "stream",
     "text": [
      "<class 'pyspark.sql.dataframe.DataFrame'>\n"
     ]
    },
    {
     "data": {
      "text/plain": [
       "DataFrame[sepal_length: double, sepal_width: double, petal_length: double, petal_width: double, target: bigint, features: vector, rawPrediction: vector, probability: vector, prediction: double]"
      ]
     },
     "metadata": {},
     "output_type": "display_data"
    }
   ],
   "source": [
    "from pyspark.ml.classification import LogisticRegression\n",
    "\n",
    "# ML 알고리즘 객체 생성. \n",
    "lr = LogisticRegression(featuresCol='features', labelCol='target', maxIter=10)\n",
    "\n",
    "# ML 알고리즘 객체의 fit()메소드를 이용하여 train feature vector 데이터 세트를 학습하고 이를 ML Model로 반환함.\n",
    "# scikit learn은 ML 알고리즘 객체로 fit()만 호출하면 해당 객체가 학습이 되었으나 Spark ML을 반드시 ML Model로 반환 받아야 함. \n",
    "lr_model = lr.fit(train_feature_vector_df)\n",
    "\n",
    "predictions = lr_model.transform(test_feature_vector_df)\n",
    "print(type(predictions))\n",
    "display(predictions)"
   ]
  },
  {
   "cell_type": "code",
   "execution_count": 17,
   "metadata": {},
   "outputs": [
    {
     "name": "stdout",
     "output_type": "stream",
     "text": [
      "+------+-----------------+--------------------+--------------------+----------+\n",
      "|target|         features|       rawPrediction|         probability|prediction|\n",
      "+------+-----------------+--------------------+--------------------+----------+\n",
      "|     0|[4.6,3.1,1.5,0.2]|[17.6803464458088...|[0.99995249938593...|       0.0|\n",
      "|     0|[4.8,3.4,1.6,0.2]|[18.4506828497453...|[0.99997095853479...|       0.0|\n",
      "|     0|[4.9,3.1,1.5,0.1]|[17.0314517575985...|[0.99969295723121...|       0.0|\n",
      "|     0|[5.4,3.7,1.5,0.2]|[18.1605393730324...|[0.99978570374799...|       0.0|\n",
      "|     0|[4.6,3.6,1.0,0.2]|[22.5809416212887...|[0.99999963120943...|       0.0|\n",
      "|     0|[5.0,3.0,1.6,0.2]|[14.9838352256527...|[0.99757909666550...|       0.0|\n",
      "|     0|[5.0,3.2,1.2,0.2]|[17.5999856002554...|[0.99978302841134...|       0.0|\n",
      "|     0|[5.4,3.4,1.5,0.4]|[14.927251823191,...|[0.99604838067429...|       0.0|\n",
      "|     0|[4.4,3.2,1.3,0.2]|[19.8466177256402...|[0.99999676934328...|       0.0|\n",
      "|     0|[5.0,3.5,1.3,0.3]|[18.5901186461372...|[0.99995697133368...|       0.0|\n",
      "|     0|[5.1,3.4,1.5,0.2]|[17.4913448631556...|[0.99978845515840...|       0.0|\n",
      "|     0|[5.1,3.8,1.6,0.2]|[19.7720402425128...|[0.99998590941938...|       0.0|\n",
      "|     0|[5.1,3.8,1.9,0.4]|[17.5113728847271...|[0.99994192302528...|       0.0|\n",
      "|     1|[5.9,3.0,4.2,1.5]|[-5.7041000056738...|[1.13838201275426...|       1.0|\n",
      "|     1|[5.8,2.7,3.9,1.2]|[-4.3324237997102...|[1.54683939996323...|       1.0|\n",
      "|     1|[6.8,2.8,4.8,1.4]|[-12.199645650487...|[1.14834066707376...|       1.0|\n",
      "|     1|[5.1,2.5,3.0,1.1]|[0.95694157879655...|[0.00745636381057...|       1.0|\n",
      "|     1|[5.7,2.8,4.1,1.3]|[-4.5454746255501...|[2.96325759361165...|       1.0|\n",
      "|     1|[5.7,3.0,4.2,1.2]|[-2.9307055613894...|[1.45628802216966...|       1.0|\n",
      "|     1|[5.8,2.6,4.0,1.2]|[-5.3125428348062...|[5.85306044127013...|       1.0|\n",
      "+------+-----------------+--------------------+--------------------+----------+\n",
      "only showing top 20 rows\n",
      "\n"
     ]
    }
   ],
   "source": [
    "predictions.select('target', 'features', 'rawPrediction', \"probability\", \"prediction\").show()"
   ]
  },
  {
   "cell_type": "code",
   "execution_count": 18,
   "metadata": {
    "application/vnd.databricks.v1+cell": {
     "inputWidgets": {},
     "nuid": "40780936-edda-4b92-8c0b-8e66c60095e6",
     "showTitle": false,
     "title": ""
    }
   },
   "outputs": [
    {
     "name": "stdout",
     "output_type": "stream",
     "text": [
      "정확도: 1.0\n"
     ]
    }
   ],
   "source": [
    "# 다중 분류 모델 평가\n",
    "from pyspark.ml.evaluation import MulticlassClassificationEvaluator\n",
    "\n",
    "evaluator_accuracy = MulticlassClassificationEvaluator(labelCol='target', predictionCol='prediction', metricName='accuracy')\n",
    "accuracy = evaluator_accuracy.evaluate(predictions)\n",
    "print('정확도:', accuracy)"
   ]
  },
  {
   "cell_type": "markdown",
   "metadata": {
    "application/vnd.databricks.v1+cell": {
     "inputWidgets": {},
     "nuid": "da32b45e-9b1f-412b-bb82-3613f5ed5a6d",
     "showTitle": false,
     "title": ""
    }
   },
   "source": [
    "### Pipeline 적용하기\n",
    "* Pipeline은 여러개의 개별적인 Transformer의 변환 작업, Estimator의 학습 작업을 일련의 Process 연결을 통해 간단한 API 처리로 구현할 수 있게 만들어 줌\n",
    "* Pipeline은 개별 변환 및 학습 작업을 Stage로 각각 정의하여 Pipeline에 등록한 뒤 Pipeline의 fit() 메소드를 호출하여 연결된 Stage 작업을 수행. 수행 결과로 PipelineModel이 반환되며, 이 PipelineModel에서 예측을 위한 변환 및 예측 작업을 transform() 메소드로 수행."
   ]
  },
  {
   "cell_type": "code",
   "execution_count": null,
   "metadata": {
    "application/vnd.databricks.v1+cell": {
     "inputWidgets": {},
     "nuid": "007a8c33-ac69-4a46-be48-989cd4e3f066",
     "showTitle": false,
     "title": ""
    }
   },
   "outputs": [
    {
     "data": {
      "text/plain": [
       "<class 'pyspark.ml.pipeline.Pipeline'> <class 'pyspark.ml.pipeline.PipelineModel'>\n"
      ]
     },
     "metadata": {
      "application/vnd.databricks.v1+output": {
       "addedWidgets": {},
       "arguments": {},
       "data": "<class 'pyspark.ml.pipeline.Pipeline'> <class 'pyspark.ml.pipeline.PipelineModel'>\n",
       "datasetInfos": [],
       "metadata": {},
       "removedWidgets": [],
       "type": "ansi"
      }
     },
     "output_type": "display_data",
     "transient": null
    }
   ],
   "source": [
    "from pyspark.ml import Pipeline\n",
    "from pyspark.ml.feature import VectorAssembler\n",
    "from pyspark.ml.classification import DecisionTreeClassifier\n",
    "\n",
    "iris_columns = ['sepal_length', 'sepal_width', 'petal_length', 'petal_width']\n",
    "# 첫번째 stage는 Feature Vectorization을 위해 VectorAssembler 객체 생성. \n",
    "stage_1 = VectorAssembler(inputCols=iris_columns, outputCol='features')\n",
    "# 두번째 stage는 학습을 위한 결정 트리 Estimator 생성.  \n",
    "stage_2 = DecisionTreeClassifier(featuresCol='features', labelCol='target', maxDepth=5)\n",
    "\n",
    "# Feature Vectorization 변환-> 학습 pipeline을 생성. \n",
    "pipeline = Pipeline(stages=[stage_1, stage_2])\n",
    "\n",
    "# Estimator가 포함된 Pipeline객체의 fit(train_sdf)를 호출하면 학습 데이터에 transformation을 적용하여 Estimator의 학습까지 수행된 PipelineModel 객체를 반환.\n",
    "pipeline_model = pipeline.fit(train_sdf) # train_sdf_vectorized = stage_1.transform(train_sdf) , estimator_model = stage_2.fit(train_sdf_vectorized)\n",
    "\n",
    "print(type(pipeline), type(pipeline_model))\n",
    "\n",
    "# asdlk"
   ]
  },
  {
   "cell_type": "code",
   "execution_count": null,
   "metadata": {
    "application/vnd.databricks.v1+cell": {
     "inputWidgets": {},
     "nuid": "91cf14f4-cf7c-4039-9eed-c748bd187b7d",
     "showTitle": false,
     "title": ""
    }
   },
   "outputs": [
    {
     "data": {
      "text/plain": [
       "정확도: 0.9393939393939394\n"
      ]
     },
     "metadata": {
      "application/vnd.databricks.v1+output": {
       "addedWidgets": {},
       "arguments": {},
       "data": "정확도: 0.9393939393939394\n",
       "datasetInfos": [],
       "metadata": {},
       "removedWidgets": [],
       "type": "ansi"
      }
     },
     "output_type": "display_data",
     "transient": null
    },
    {
     "data": {
      "text/html": [
       "<style scoped>\n",
       "  .table-result-container {\n",
       "    max-height: 300px;\n",
       "    overflow: auto;\n",
       "  }\n",
       "  table, th, td {\n",
       "    border: 1px solid black;\n",
       "    border-collapse: collapse;\n",
       "  }\n",
       "  th, td {\n",
       "    padding: 5px;\n",
       "  }\n",
       "  th {\n",
       "    text-align: left;\n",
       "  }\n",
       "</style><div class='table-result-container'><table class='table-result'><thead style='background-color: white'><tr><th>sepal_length</th><th>sepal_width</th><th>petal_length</th><th>petal_width</th><th>target</th><th>features</th><th>rawPrediction</th><th>probability</th><th>prediction</th></tr></thead><tbody><tr><td>4.6</td><td>3.1</td><td>1.5</td><td>0.2</td><td>0</td><td>Map(vectorType -> dense, length -> 4, values -> List(4.6, 3.1, 1.5, 0.2))</td><td>Map(vectorType -> dense, length -> 3, values -> List(36.0, 0.0, 0.0))</td><td>Map(vectorType -> dense, length -> 3, values -> List(1.0, 0.0, 0.0))</td><td>0.0</td></tr><tr><td>4.8</td><td>3.4</td><td>1.6</td><td>0.2</td><td>0</td><td>Map(vectorType -> dense, length -> 4, values -> List(4.8, 3.4, 1.6, 0.2))</td><td>Map(vectorType -> dense, length -> 3, values -> List(36.0, 0.0, 0.0))</td><td>Map(vectorType -> dense, length -> 3, values -> List(1.0, 0.0, 0.0))</td><td>0.0</td></tr><tr><td>4.9</td><td>3.1</td><td>1.5</td><td>0.1</td><td>0</td><td>Map(vectorType -> dense, length -> 4, values -> List(4.9, 3.1, 1.5, 0.1))</td><td>Map(vectorType -> dense, length -> 3, values -> List(36.0, 0.0, 0.0))</td><td>Map(vectorType -> dense, length -> 3, values -> List(1.0, 0.0, 0.0))</td><td>0.0</td></tr><tr><td>5.4</td><td>3.7</td><td>1.5</td><td>0.2</td><td>0</td><td>Map(vectorType -> dense, length -> 4, values -> List(5.4, 3.7, 1.5, 0.2))</td><td>Map(vectorType -> dense, length -> 3, values -> List(36.0, 0.0, 0.0))</td><td>Map(vectorType -> dense, length -> 3, values -> List(1.0, 0.0, 0.0))</td><td>0.0</td></tr><tr><td>4.6</td><td>3.6</td><td>1.0</td><td>0.2</td><td>0</td><td>Map(vectorType -> dense, length -> 4, values -> List(4.6, 3.6, 1.0, 0.2))</td><td>Map(vectorType -> dense, length -> 3, values -> List(36.0, 0.0, 0.0))</td><td>Map(vectorType -> dense, length -> 3, values -> List(1.0, 0.0, 0.0))</td><td>0.0</td></tr><tr><td>5.0</td><td>3.0</td><td>1.6</td><td>0.2</td><td>0</td><td>Map(vectorType -> dense, length -> 4, values -> List(5.0, 3.0, 1.6, 0.2))</td><td>Map(vectorType -> dense, length -> 3, values -> List(36.0, 0.0, 0.0))</td><td>Map(vectorType -> dense, length -> 3, values -> List(1.0, 0.0, 0.0))</td><td>0.0</td></tr><tr><td>5.0</td><td>3.2</td><td>1.2</td><td>0.2</td><td>0</td><td>Map(vectorType -> dense, length -> 4, values -> List(5.0, 3.2, 1.2, 0.2))</td><td>Map(vectorType -> dense, length -> 3, values -> List(36.0, 0.0, 0.0))</td><td>Map(vectorType -> dense, length -> 3, values -> List(1.0, 0.0, 0.0))</td><td>0.0</td></tr><tr><td>5.4</td><td>3.4</td><td>1.5</td><td>0.4</td><td>0</td><td>Map(vectorType -> dense, length -> 4, values -> List(5.4, 3.4, 1.5, 0.4))</td><td>Map(vectorType -> dense, length -> 3, values -> List(36.0, 0.0, 0.0))</td><td>Map(vectorType -> dense, length -> 3, values -> List(1.0, 0.0, 0.0))</td><td>0.0</td></tr><tr><td>5.7</td><td>3.8</td><td>1.7</td><td>0.3</td><td>0</td><td>Map(vectorType -> dense, length -> 4, values -> List(5.7, 3.8, 1.7, 0.3))</td><td>Map(vectorType -> dense, length -> 3, values -> List(36.0, 0.0, 0.0))</td><td>Map(vectorType -> dense, length -> 3, values -> List(1.0, 0.0, 0.0))</td><td>0.0</td></tr><tr><td>4.4</td><td>3.2</td><td>1.3</td><td>0.2</td><td>0</td><td>Map(vectorType -> dense, length -> 4, values -> List(4.4, 3.2, 1.3, 0.2))</td><td>Map(vectorType -> dense, length -> 3, values -> List(36.0, 0.0, 0.0))</td><td>Map(vectorType -> dense, length -> 3, values -> List(1.0, 0.0, 0.0))</td><td>0.0</td></tr><tr><td>5.0</td><td>3.5</td><td>1.3</td><td>0.3</td><td>0</td><td>Map(vectorType -> dense, length -> 4, values -> List(5.0, 3.5, 1.3, 0.3))</td><td>Map(vectorType -> dense, length -> 3, values -> List(36.0, 0.0, 0.0))</td><td>Map(vectorType -> dense, length -> 3, values -> List(1.0, 0.0, 0.0))</td><td>0.0</td></tr><tr><td>5.1</td><td>3.4</td><td>1.5</td><td>0.2</td><td>0</td><td>Map(vectorType -> dense, length -> 4, values -> List(5.1, 3.4, 1.5, 0.2))</td><td>Map(vectorType -> dense, length -> 3, values -> List(36.0, 0.0, 0.0))</td><td>Map(vectorType -> dense, length -> 3, values -> List(1.0, 0.0, 0.0))</td><td>0.0</td></tr><tr><td>5.1</td><td>3.8</td><td>1.6</td><td>0.2</td><td>0</td><td>Map(vectorType -> dense, length -> 4, values -> List(5.1, 3.8, 1.6, 0.2))</td><td>Map(vectorType -> dense, length -> 3, values -> List(36.0, 0.0, 0.0))</td><td>Map(vectorType -> dense, length -> 3, values -> List(1.0, 0.0, 0.0))</td><td>0.0</td></tr><tr><td>5.1</td><td>3.8</td><td>1.9</td><td>0.4</td><td>0</td><td>Map(vectorType -> dense, length -> 4, values -> List(5.1, 3.8, 1.9, 0.4))</td><td>Map(vectorType -> dense, length -> 3, values -> List(36.0, 0.0, 0.0))</td><td>Map(vectorType -> dense, length -> 3, values -> List(1.0, 0.0, 0.0))</td><td>0.0</td></tr><tr><td>5.9</td><td>3.2</td><td>4.8</td><td>1.8</td><td>1</td><td>Map(vectorType -> dense, length -> 4, values -> List(5.9, 3.2, 4.8, 1.8))</td><td>Map(vectorType -> dense, length -> 3, values -> List(0.0, 0.0, 33.0))</td><td>Map(vectorType -> dense, length -> 3, values -> List(0.0, 0.0, 1.0))</td><td>2.0</td></tr><tr><td>5.7</td><td>2.6</td><td>3.5</td><td>1.0</td><td>1</td><td>Map(vectorType -> dense, length -> 4, values -> List(5.7, 2.6, 3.5, 1.0))</td><td>Map(vectorType -> dense, length -> 3, values -> List(0.0, 42.0, 0.0))</td><td>Map(vectorType -> dense, length -> 3, values -> List(0.0, 1.0, 0.0))</td><td>1.0</td></tr><tr><td>6.8</td><td>2.8</td><td>4.8</td><td>1.4</td><td>1</td><td>Map(vectorType -> dense, length -> 4, values -> List(6.8, 2.8, 4.8, 1.4))</td><td>Map(vectorType -> dense, length -> 3, values -> List(0.0, 42.0, 0.0))</td><td>Map(vectorType -> dense, length -> 3, values -> List(0.0, 1.0, 0.0))</td><td>1.0</td></tr><tr><td>5.1</td><td>2.5</td><td>3.0</td><td>1.1</td><td>1</td><td>Map(vectorType -> dense, length -> 4, values -> List(5.1, 2.5, 3.0, 1.1))</td><td>Map(vectorType -> dense, length -> 3, values -> List(0.0, 42.0, 0.0))</td><td>Map(vectorType -> dense, length -> 3, values -> List(0.0, 1.0, 0.0))</td><td>1.0</td></tr><tr><td>5.7</td><td>2.9</td><td>4.2</td><td>1.3</td><td>1</td><td>Map(vectorType -> dense, length -> 4, values -> List(5.7, 2.9, 4.2, 1.3))</td><td>Map(vectorType -> dense, length -> 3, values -> List(0.0, 42.0, 0.0))</td><td>Map(vectorType -> dense, length -> 3, values -> List(0.0, 1.0, 0.0))</td><td>1.0</td></tr><tr><td>5.8</td><td>2.7</td><td>5.1</td><td>1.9</td><td>2</td><td>Map(vectorType -> dense, length -> 4, values -> List(5.8, 2.7, 5.1, 1.9))</td><td>Map(vectorType -> dense, length -> 3, values -> List(0.0, 0.0, 33.0))</td><td>Map(vectorType -> dense, length -> 3, values -> List(0.0, 0.0, 1.0))</td><td>2.0</td></tr><tr><td>6.2</td><td>2.9</td><td>4.3</td><td>1.3</td><td>1</td><td>Map(vectorType -> dense, length -> 4, values -> List(6.2, 2.9, 4.3, 1.3))</td><td>Map(vectorType -> dense, length -> 3, values -> List(0.0, 42.0, 0.0))</td><td>Map(vectorType -> dense, length -> 3, values -> List(0.0, 1.0, 0.0))</td><td>1.0</td></tr><tr><td>6.4</td><td>2.7</td><td>5.3</td><td>1.9</td><td>2</td><td>Map(vectorType -> dense, length -> 4, values -> List(6.4, 2.7, 5.3, 1.9))</td><td>Map(vectorType -> dense, length -> 3, values -> List(0.0, 0.0, 33.0))</td><td>Map(vectorType -> dense, length -> 3, values -> List(0.0, 0.0, 1.0))</td><td>2.0</td></tr><tr><td>6.5</td><td>3.0</td><td>5.8</td><td>2.2</td><td>2</td><td>Map(vectorType -> dense, length -> 4, values -> List(6.5, 3.0, 5.8, 2.2))</td><td>Map(vectorType -> dense, length -> 3, values -> List(0.0, 0.0, 33.0))</td><td>Map(vectorType -> dense, length -> 3, values -> List(0.0, 0.0, 1.0))</td><td>2.0</td></tr><tr><td>7.3</td><td>2.9</td><td>6.3</td><td>1.8</td><td>2</td><td>Map(vectorType -> dense, length -> 4, values -> List(7.3, 2.9, 6.3, 1.8))</td><td>Map(vectorType -> dense, length -> 3, values -> List(0.0, 0.0, 33.0))</td><td>Map(vectorType -> dense, length -> 3, values -> List(0.0, 0.0, 1.0))</td><td>2.0</td></tr><tr><td>6.1</td><td>3.0</td><td>4.9</td><td>1.8</td><td>2</td><td>Map(vectorType -> dense, length -> 4, values -> List(6.1, 3.0, 4.9, 1.8))</td><td>Map(vectorType -> dense, length -> 3, values -> List(0.0, 0.0, 33.0))</td><td>Map(vectorType -> dense, length -> 3, values -> List(0.0, 0.0, 1.0))</td><td>2.0</td></tr><tr><td>6.4</td><td>2.8</td><td>5.6</td><td>2.1</td><td>2</td><td>Map(vectorType -> dense, length -> 4, values -> List(6.4, 2.8, 5.6, 2.1))</td><td>Map(vectorType -> dense, length -> 3, values -> List(0.0, 0.0, 33.0))</td><td>Map(vectorType -> dense, length -> 3, values -> List(0.0, 0.0, 1.0))</td><td>2.0</td></tr><tr><td>6.5</td><td>3.0</td><td>5.5</td><td>1.8</td><td>2</td><td>Map(vectorType -> dense, length -> 4, values -> List(6.5, 3.0, 5.5, 1.8))</td><td>Map(vectorType -> dense, length -> 3, values -> List(0.0, 0.0, 33.0))</td><td>Map(vectorType -> dense, length -> 3, values -> List(0.0, 0.0, 1.0))</td><td>2.0</td></tr><tr><td>7.2</td><td>3.0</td><td>5.8</td><td>1.6</td><td>2</td><td>Map(vectorType -> dense, length -> 4, values -> List(7.2, 3.0, 5.8, 1.6))</td><td>Map(vectorType -> dense, length -> 3, values -> List(0.0, 2.0, 0.0))</td><td>Map(vectorType -> dense, length -> 3, values -> List(0.0, 1.0, 0.0))</td><td>1.0</td></tr><tr><td>7.7</td><td>2.6</td><td>6.9</td><td>2.3</td><td>2</td><td>Map(vectorType -> dense, length -> 4, values -> List(7.7, 2.6, 6.9, 2.3))</td><td>Map(vectorType -> dense, length -> 3, values -> List(0.0, 0.0, 33.0))</td><td>Map(vectorType -> dense, length -> 3, values -> List(0.0, 0.0, 1.0))</td><td>2.0</td></tr><tr><td>6.0</td><td>3.0</td><td>4.8</td><td>1.8</td><td>2</td><td>Map(vectorType -> dense, length -> 4, values -> List(6.0, 3.0, 4.8, 1.8))</td><td>Map(vectorType -> dense, length -> 3, values -> List(0.0, 0.0, 33.0))</td><td>Map(vectorType -> dense, length -> 3, values -> List(0.0, 0.0, 1.0))</td><td>2.0</td></tr><tr><td>6.7</td><td>3.3</td><td>5.7</td><td>2.5</td><td>2</td><td>Map(vectorType -> dense, length -> 4, values -> List(6.7, 3.3, 5.7, 2.5))</td><td>Map(vectorType -> dense, length -> 3, values -> List(0.0, 0.0, 33.0))</td><td>Map(vectorType -> dense, length -> 3, values -> List(0.0, 0.0, 1.0))</td><td>2.0</td></tr><tr><td>6.9</td><td>3.1</td><td>5.1</td><td>2.3</td><td>2</td><td>Map(vectorType -> dense, length -> 4, values -> List(6.9, 3.1, 5.1, 2.3))</td><td>Map(vectorType -> dense, length -> 3, values -> List(0.0, 0.0, 33.0))</td><td>Map(vectorType -> dense, length -> 3, values -> List(0.0, 0.0, 1.0))</td><td>2.0</td></tr><tr><td>7.7</td><td>3.0</td><td>6.1</td><td>2.3</td><td>2</td><td>Map(vectorType -> dense, length -> 4, values -> List(7.7, 3.0, 6.1, 2.3))</td><td>Map(vectorType -> dense, length -> 3, values -> List(0.0, 0.0, 33.0))</td><td>Map(vectorType -> dense, length -> 3, values -> List(0.0, 0.0, 1.0))</td><td>2.0</td></tr></tbody></table></div>"
      ]
     },
     "metadata": {
      "application/vnd.databricks.v1+output": {
       "addedWidgets": {},
       "aggData": [],
       "aggError": "",
       "aggOverflow": false,
       "aggSchema": [],
       "aggSeriesLimitReached": false,
       "aggType": "",
       "arguments": {},
       "columnCustomDisplayInfos": {},
       "data": [
        [
         4.6,
         3.1,
         1.5,
         0.2,
         0,
         {
          "length": 4,
          "values": [
           4.6,
           3.1,
           1.5,
           0.2
          ],
          "vectorType": "dense"
         },
         {
          "length": 3,
          "values": [
           36,
           0,
           0
          ],
          "vectorType": "dense"
         },
         {
          "length": 3,
          "values": [
           1,
           0,
           0
          ],
          "vectorType": "dense"
         },
         0
        ],
        [
         4.8,
         3.4,
         1.6,
         0.2,
         0,
         {
          "length": 4,
          "values": [
           4.8,
           3.4,
           1.6,
           0.2
          ],
          "vectorType": "dense"
         },
         {
          "length": 3,
          "values": [
           36,
           0,
           0
          ],
          "vectorType": "dense"
         },
         {
          "length": 3,
          "values": [
           1,
           0,
           0
          ],
          "vectorType": "dense"
         },
         0
        ],
        [
         4.9,
         3.1,
         1.5,
         0.1,
         0,
         {
          "length": 4,
          "values": [
           4.9,
           3.1,
           1.5,
           0.1
          ],
          "vectorType": "dense"
         },
         {
          "length": 3,
          "values": [
           36,
           0,
           0
          ],
          "vectorType": "dense"
         },
         {
          "length": 3,
          "values": [
           1,
           0,
           0
          ],
          "vectorType": "dense"
         },
         0
        ],
        [
         5.4,
         3.7,
         1.5,
         0.2,
         0,
         {
          "length": 4,
          "values": [
           5.4,
           3.7,
           1.5,
           0.2
          ],
          "vectorType": "dense"
         },
         {
          "length": 3,
          "values": [
           36,
           0,
           0
          ],
          "vectorType": "dense"
         },
         {
          "length": 3,
          "values": [
           1,
           0,
           0
          ],
          "vectorType": "dense"
         },
         0
        ],
        [
         4.6,
         3.6,
         1,
         0.2,
         0,
         {
          "length": 4,
          "values": [
           4.6,
           3.6,
           1,
           0.2
          ],
          "vectorType": "dense"
         },
         {
          "length": 3,
          "values": [
           36,
           0,
           0
          ],
          "vectorType": "dense"
         },
         {
          "length": 3,
          "values": [
           1,
           0,
           0
          ],
          "vectorType": "dense"
         },
         0
        ],
        [
         5,
         3,
         1.6,
         0.2,
         0,
         {
          "length": 4,
          "values": [
           5,
           3,
           1.6,
           0.2
          ],
          "vectorType": "dense"
         },
         {
          "length": 3,
          "values": [
           36,
           0,
           0
          ],
          "vectorType": "dense"
         },
         {
          "length": 3,
          "values": [
           1,
           0,
           0
          ],
          "vectorType": "dense"
         },
         0
        ],
        [
         5,
         3.2,
         1.2,
         0.2,
         0,
         {
          "length": 4,
          "values": [
           5,
           3.2,
           1.2,
           0.2
          ],
          "vectorType": "dense"
         },
         {
          "length": 3,
          "values": [
           36,
           0,
           0
          ],
          "vectorType": "dense"
         },
         {
          "length": 3,
          "values": [
           1,
           0,
           0
          ],
          "vectorType": "dense"
         },
         0
        ],
        [
         5.4,
         3.4,
         1.5,
         0.4,
         0,
         {
          "length": 4,
          "values": [
           5.4,
           3.4,
           1.5,
           0.4
          ],
          "vectorType": "dense"
         },
         {
          "length": 3,
          "values": [
           36,
           0,
           0
          ],
          "vectorType": "dense"
         },
         {
          "length": 3,
          "values": [
           1,
           0,
           0
          ],
          "vectorType": "dense"
         },
         0
        ],
        [
         5.7,
         3.8,
         1.7,
         0.3,
         0,
         {
          "length": 4,
          "values": [
           5.7,
           3.8,
           1.7,
           0.3
          ],
          "vectorType": "dense"
         },
         {
          "length": 3,
          "values": [
           36,
           0,
           0
          ],
          "vectorType": "dense"
         },
         {
          "length": 3,
          "values": [
           1,
           0,
           0
          ],
          "vectorType": "dense"
         },
         0
        ],
        [
         4.4,
         3.2,
         1.3,
         0.2,
         0,
         {
          "length": 4,
          "values": [
           4.4,
           3.2,
           1.3,
           0.2
          ],
          "vectorType": "dense"
         },
         {
          "length": 3,
          "values": [
           36,
           0,
           0
          ],
          "vectorType": "dense"
         },
         {
          "length": 3,
          "values": [
           1,
           0,
           0
          ],
          "vectorType": "dense"
         },
         0
        ],
        [
         5,
         3.5,
         1.3,
         0.3,
         0,
         {
          "length": 4,
          "values": [
           5,
           3.5,
           1.3,
           0.3
          ],
          "vectorType": "dense"
         },
         {
          "length": 3,
          "values": [
           36,
           0,
           0
          ],
          "vectorType": "dense"
         },
         {
          "length": 3,
          "values": [
           1,
           0,
           0
          ],
          "vectorType": "dense"
         },
         0
        ],
        [
         5.1,
         3.4,
         1.5,
         0.2,
         0,
         {
          "length": 4,
          "values": [
           5.1,
           3.4,
           1.5,
           0.2
          ],
          "vectorType": "dense"
         },
         {
          "length": 3,
          "values": [
           36,
           0,
           0
          ],
          "vectorType": "dense"
         },
         {
          "length": 3,
          "values": [
           1,
           0,
           0
          ],
          "vectorType": "dense"
         },
         0
        ],
        [
         5.1,
         3.8,
         1.6,
         0.2,
         0,
         {
          "length": 4,
          "values": [
           5.1,
           3.8,
           1.6,
           0.2
          ],
          "vectorType": "dense"
         },
         {
          "length": 3,
          "values": [
           36,
           0,
           0
          ],
          "vectorType": "dense"
         },
         {
          "length": 3,
          "values": [
           1,
           0,
           0
          ],
          "vectorType": "dense"
         },
         0
        ],
        [
         5.1,
         3.8,
         1.9,
         0.4,
         0,
         {
          "length": 4,
          "values": [
           5.1,
           3.8,
           1.9,
           0.4
          ],
          "vectorType": "dense"
         },
         {
          "length": 3,
          "values": [
           36,
           0,
           0
          ],
          "vectorType": "dense"
         },
         {
          "length": 3,
          "values": [
           1,
           0,
           0
          ],
          "vectorType": "dense"
         },
         0
        ],
        [
         5.9,
         3.2,
         4.8,
         1.8,
         1,
         {
          "length": 4,
          "values": [
           5.9,
           3.2,
           4.8,
           1.8
          ],
          "vectorType": "dense"
         },
         {
          "length": 3,
          "values": [
           0,
           0,
           33
          ],
          "vectorType": "dense"
         },
         {
          "length": 3,
          "values": [
           0,
           0,
           1
          ],
          "vectorType": "dense"
         },
         2
        ],
        [
         5.7,
         2.6,
         3.5,
         1,
         1,
         {
          "length": 4,
          "values": [
           5.7,
           2.6,
           3.5,
           1
          ],
          "vectorType": "dense"
         },
         {
          "length": 3,
          "values": [
           0,
           42,
           0
          ],
          "vectorType": "dense"
         },
         {
          "length": 3,
          "values": [
           0,
           1,
           0
          ],
          "vectorType": "dense"
         },
         1
        ],
        [
         6.8,
         2.8,
         4.8,
         1.4,
         1,
         {
          "length": 4,
          "values": [
           6.8,
           2.8,
           4.8,
           1.4
          ],
          "vectorType": "dense"
         },
         {
          "length": 3,
          "values": [
           0,
           42,
           0
          ],
          "vectorType": "dense"
         },
         {
          "length": 3,
          "values": [
           0,
           1,
           0
          ],
          "vectorType": "dense"
         },
         1
        ],
        [
         5.1,
         2.5,
         3,
         1.1,
         1,
         {
          "length": 4,
          "values": [
           5.1,
           2.5,
           3,
           1.1
          ],
          "vectorType": "dense"
         },
         {
          "length": 3,
          "values": [
           0,
           42,
           0
          ],
          "vectorType": "dense"
         },
         {
          "length": 3,
          "values": [
           0,
           1,
           0
          ],
          "vectorType": "dense"
         },
         1
        ],
        [
         5.7,
         2.9,
         4.2,
         1.3,
         1,
         {
          "length": 4,
          "values": [
           5.7,
           2.9,
           4.2,
           1.3
          ],
          "vectorType": "dense"
         },
         {
          "length": 3,
          "values": [
           0,
           42,
           0
          ],
          "vectorType": "dense"
         },
         {
          "length": 3,
          "values": [
           0,
           1,
           0
          ],
          "vectorType": "dense"
         },
         1
        ],
        [
         5.8,
         2.7,
         5.1,
         1.9,
         2,
         {
          "length": 4,
          "values": [
           5.8,
           2.7,
           5.1,
           1.9
          ],
          "vectorType": "dense"
         },
         {
          "length": 3,
          "values": [
           0,
           0,
           33
          ],
          "vectorType": "dense"
         },
         {
          "length": 3,
          "values": [
           0,
           0,
           1
          ],
          "vectorType": "dense"
         },
         2
        ],
        [
         6.2,
         2.9,
         4.3,
         1.3,
         1,
         {
          "length": 4,
          "values": [
           6.2,
           2.9,
           4.3,
           1.3
          ],
          "vectorType": "dense"
         },
         {
          "length": 3,
          "values": [
           0,
           42,
           0
          ],
          "vectorType": "dense"
         },
         {
          "length": 3,
          "values": [
           0,
           1,
           0
          ],
          "vectorType": "dense"
         },
         1
        ],
        [
         6.4,
         2.7,
         5.3,
         1.9,
         2,
         {
          "length": 4,
          "values": [
           6.4,
           2.7,
           5.3,
           1.9
          ],
          "vectorType": "dense"
         },
         {
          "length": 3,
          "values": [
           0,
           0,
           33
          ],
          "vectorType": "dense"
         },
         {
          "length": 3,
          "values": [
           0,
           0,
           1
          ],
          "vectorType": "dense"
         },
         2
        ],
        [
         6.5,
         3,
         5.8,
         2.2,
         2,
         {
          "length": 4,
          "values": [
           6.5,
           3,
           5.8,
           2.2
          ],
          "vectorType": "dense"
         },
         {
          "length": 3,
          "values": [
           0,
           0,
           33
          ],
          "vectorType": "dense"
         },
         {
          "length": 3,
          "values": [
           0,
           0,
           1
          ],
          "vectorType": "dense"
         },
         2
        ],
        [
         7.3,
         2.9,
         6.3,
         1.8,
         2,
         {
          "length": 4,
          "values": [
           7.3,
           2.9,
           6.3,
           1.8
          ],
          "vectorType": "dense"
         },
         {
          "length": 3,
          "values": [
           0,
           0,
           33
          ],
          "vectorType": "dense"
         },
         {
          "length": 3,
          "values": [
           0,
           0,
           1
          ],
          "vectorType": "dense"
         },
         2
        ],
        [
         6.1,
         3,
         4.9,
         1.8,
         2,
         {
          "length": 4,
          "values": [
           6.1,
           3,
           4.9,
           1.8
          ],
          "vectorType": "dense"
         },
         {
          "length": 3,
          "values": [
           0,
           0,
           33
          ],
          "vectorType": "dense"
         },
         {
          "length": 3,
          "values": [
           0,
           0,
           1
          ],
          "vectorType": "dense"
         },
         2
        ],
        [
         6.4,
         2.8,
         5.6,
         2.1,
         2,
         {
          "length": 4,
          "values": [
           6.4,
           2.8,
           5.6,
           2.1
          ],
          "vectorType": "dense"
         },
         {
          "length": 3,
          "values": [
           0,
           0,
           33
          ],
          "vectorType": "dense"
         },
         {
          "length": 3,
          "values": [
           0,
           0,
           1
          ],
          "vectorType": "dense"
         },
         2
        ],
        [
         6.5,
         3,
         5.5,
         1.8,
         2,
         {
          "length": 4,
          "values": [
           6.5,
           3,
           5.5,
           1.8
          ],
          "vectorType": "dense"
         },
         {
          "length": 3,
          "values": [
           0,
           0,
           33
          ],
          "vectorType": "dense"
         },
         {
          "length": 3,
          "values": [
           0,
           0,
           1
          ],
          "vectorType": "dense"
         },
         2
        ],
        [
         7.2,
         3,
         5.8,
         1.6,
         2,
         {
          "length": 4,
          "values": [
           7.2,
           3,
           5.8,
           1.6
          ],
          "vectorType": "dense"
         },
         {
          "length": 3,
          "values": [
           0,
           2,
           0
          ],
          "vectorType": "dense"
         },
         {
          "length": 3,
          "values": [
           0,
           1,
           0
          ],
          "vectorType": "dense"
         },
         1
        ],
        [
         7.7,
         2.6,
         6.9,
         2.3,
         2,
         {
          "length": 4,
          "values": [
           7.7,
           2.6,
           6.9,
           2.3
          ],
          "vectorType": "dense"
         },
         {
          "length": 3,
          "values": [
           0,
           0,
           33
          ],
          "vectorType": "dense"
         },
         {
          "length": 3,
          "values": [
           0,
           0,
           1
          ],
          "vectorType": "dense"
         },
         2
        ],
        [
         6,
         3,
         4.8,
         1.8,
         2,
         {
          "length": 4,
          "values": [
           6,
           3,
           4.8,
           1.8
          ],
          "vectorType": "dense"
         },
         {
          "length": 3,
          "values": [
           0,
           0,
           33
          ],
          "vectorType": "dense"
         },
         {
          "length": 3,
          "values": [
           0,
           0,
           1
          ],
          "vectorType": "dense"
         },
         2
        ],
        [
         6.7,
         3.3,
         5.7,
         2.5,
         2,
         {
          "length": 4,
          "values": [
           6.7,
           3.3,
           5.7,
           2.5
          ],
          "vectorType": "dense"
         },
         {
          "length": 3,
          "values": [
           0,
           0,
           33
          ],
          "vectorType": "dense"
         },
         {
          "length": 3,
          "values": [
           0,
           0,
           1
          ],
          "vectorType": "dense"
         },
         2
        ],
        [
         6.9,
         3.1,
         5.1,
         2.3,
         2,
         {
          "length": 4,
          "values": [
           6.9,
           3.1,
           5.1,
           2.3
          ],
          "vectorType": "dense"
         },
         {
          "length": 3,
          "values": [
           0,
           0,
           33
          ],
          "vectorType": "dense"
         },
         {
          "length": 3,
          "values": [
           0,
           0,
           1
          ],
          "vectorType": "dense"
         },
         2
        ],
        [
         7.7,
         3,
         6.1,
         2.3,
         2,
         {
          "length": 4,
          "values": [
           7.7,
           3,
           6.1,
           2.3
          ],
          "vectorType": "dense"
         },
         {
          "length": 3,
          "values": [
           0,
           0,
           33
          ],
          "vectorType": "dense"
         },
         {
          "length": 3,
          "values": [
           0,
           0,
           1
          ],
          "vectorType": "dense"
         },
         2
        ]
       ],
       "datasetInfos": [],
       "dbfsResultPath": null,
       "isJsonSchema": true,
       "metadata": {},
       "overflow": false,
       "plotOptions": {
        "customPlotOptions": {},
        "displayType": "table",
        "pivotAggregation": null,
        "pivotColumns": null,
        "xColumns": null,
        "yColumns": null
       },
       "removedWidgets": [],
       "schema": [
        {
         "metadata": "{}",
         "name": "sepal_length",
         "type": "\"double\""
        },
        {
         "metadata": "{}",
         "name": "sepal_width",
         "type": "\"double\""
        },
        {
         "metadata": "{}",
         "name": "petal_length",
         "type": "\"double\""
        },
        {
         "metadata": "{}",
         "name": "petal_width",
         "type": "\"double\""
        },
        {
         "metadata": "{}",
         "name": "target",
         "type": "\"long\""
        },
        {
         "metadata": "{\"ml_attr\":{\"attrs\":{\"numeric\":[{\"idx\":0,\"name\":\"sepal_length\"},{\"idx\":1,\"name\":\"sepal_width\"},{\"idx\":2,\"name\":\"petal_length\"},{\"idx\":3,\"name\":\"petal_width\"}]},\"num_attrs\":4}}",
         "name": "features",
         "type": "{\"type\":\"udt\",\"class\":\"org.apache.spark.ml.linalg.VectorUDT\",\"pyClass\":\"pyspark.ml.linalg.VectorUDT\",\"sqlType\":{\"type\":\"struct\",\"fields\":[{\"name\":\"type\",\"type\":\"byte\",\"nullable\":false,\"metadata\":{}},{\"name\":\"size\",\"type\":\"integer\",\"nullable\":true,\"metadata\":{}},{\"name\":\"indices\",\"type\":{\"type\":\"array\",\"elementType\":\"integer\",\"containsNull\":false},\"nullable\":true,\"metadata\":{}},{\"name\":\"values\",\"type\":{\"type\":\"array\",\"elementType\":\"double\",\"containsNull\":false},\"nullable\":true,\"metadata\":{}}]}}"
        },
        {
         "metadata": "{\"ml_attr\":{\"num_attrs\":3}}",
         "name": "rawPrediction",
         "type": "{\"type\":\"udt\",\"class\":\"org.apache.spark.ml.linalg.VectorUDT\",\"pyClass\":\"pyspark.ml.linalg.VectorUDT\",\"sqlType\":{\"type\":\"struct\",\"fields\":[{\"name\":\"type\",\"type\":\"byte\",\"nullable\":false,\"metadata\":{}},{\"name\":\"size\",\"type\":\"integer\",\"nullable\":true,\"metadata\":{}},{\"name\":\"indices\",\"type\":{\"type\":\"array\",\"elementType\":\"integer\",\"containsNull\":false},\"nullable\":true,\"metadata\":{}},{\"name\":\"values\",\"type\":{\"type\":\"array\",\"elementType\":\"double\",\"containsNull\":false},\"nullable\":true,\"metadata\":{}}]}}"
        },
        {
         "metadata": "{\"ml_attr\":{\"num_attrs\":3}}",
         "name": "probability",
         "type": "{\"type\":\"udt\",\"class\":\"org.apache.spark.ml.linalg.VectorUDT\",\"pyClass\":\"pyspark.ml.linalg.VectorUDT\",\"sqlType\":{\"type\":\"struct\",\"fields\":[{\"name\":\"type\",\"type\":\"byte\",\"nullable\":false,\"metadata\":{}},{\"name\":\"size\",\"type\":\"integer\",\"nullable\":true,\"metadata\":{}},{\"name\":\"indices\",\"type\":{\"type\":\"array\",\"elementType\":\"integer\",\"containsNull\":false},\"nullable\":true,\"metadata\":{}},{\"name\":\"values\",\"type\":{\"type\":\"array\",\"elementType\":\"double\",\"containsNull\":false},\"nullable\":true,\"metadata\":{}}]}}"
        },
        {
         "metadata": "{\"ml_attr\":{\"type\":\"nominal\",\"num_vals\":3}}",
         "name": "prediction",
         "type": "\"double\""
        }
       ],
       "type": "table"
      }
     },
     "output_type": "display_data",
     "transient": null
    }
   ],
   "source": [
    "# Pipeline Model은 feature vectorization 객체, EstimatorModel을 가지고 있으므로 이를 이용하여 테스트 데이터의 변환->예측 수행\n",
    "predictions = pipeline_model.transform(test_sdf) # test_sdf_vectorized = stage_1.transform(test_sdf), estimator_model.transform(test_sdf_vectorized)\n",
    "evaluator_accuracy = MulticlassClassificationEvaluator(labelCol='target', predictionCol='prediction', metricName='accuracy')\n",
    "accuracy = evaluator_accuracy.evaluate(predictions)\n",
    "print('정확도:', accuracy)\n",
    "\n",
    "display(predictions)"
   ]
  },
  {
   "cell_type": "code",
   "execution_count": null,
   "metadata": {
    "application/vnd.databricks.v1+cell": {
     "inputWidgets": {},
     "nuid": "4d2c6150-1b15-436d-8bc8-6504f2078561",
     "showTitle": false,
     "title": ""
    }
   },
   "outputs": [
    {
     "data": {
      "text/plain": [
       "Out[31]: [VectorAssembler_7516dd401d71,\n",
       " DecisionTreeClassificationModel: uid=DecisionTreeClassifier_dcf63cd285ce, depth=4, numNodes=11, numClasses=3, numFeatures=4]"
      ]
     },
     "metadata": {
      "application/vnd.databricks.v1+output": {
       "addedWidgets": {},
       "arguments": {},
       "data": "Out[31]: [VectorAssembler_7516dd401d71,\n DecisionTreeClassificationModel: uid=DecisionTreeClassifier_dcf63cd285ce, depth=4, numNodes=11, numClasses=3, numFeatures=4]",
       "datasetInfos": [],
       "metadata": {},
       "removedWidgets": [],
       "type": "ansi"
      }
     },
     "output_type": "display_data",
     "transient": null
    }
   ],
   "source": [
    "# stages 속성은 pipeline_model이 가지는 stage별 객체를 리스트로 가지고 있음. \n",
    "pipeline_model.stages"
   ]
  },
  {
   "cell_type": "code",
   "execution_count": null,
   "metadata": {
    "application/vnd.databricks.v1+cell": {
     "inputWidgets": {},
     "nuid": "b09176db-410e-4014-98d2-7ab611d62470",
     "showTitle": false,
     "title": ""
    }
   },
   "outputs": [
    {
     "data": {
      "text/plain": [
       "DecisionTreeClassificationModel: uid=DecisionTreeClassifier_dcf63cd285ce, depth=4, numNodes=11, numClasses=3, numFeatures=4\n",
       "VectorAssembler_7516dd401d71\n"
      ]
     },
     "metadata": {
      "application/vnd.databricks.v1+output": {
       "addedWidgets": {},
       "arguments": {},
       "data": "DecisionTreeClassificationModel: uid=DecisionTreeClassifier_dcf63cd285ce, depth=4, numNodes=11, numClasses=3, numFeatures=4\nVectorAssembler_7516dd401d71\n",
       "datasetInfos": [],
       "metadata": {},
       "removedWidgets": [],
       "type": "ansi"
      }
     },
     "output_type": "display_data",
     "transient": null
    }
   ],
   "source": [
    "# PipelineModel의 stages 속성에서 개별 stage에 있는 객체를 가져 올 수 있음. \n",
    "vector_assembler = pipeline_model.stages[0]\n",
    "dt_model = pipeline_model.stages[-1]\n",
    "\n",
    "print(dt_model)\n",
    "print(vector_assembler)"
   ]
  },
  {
   "cell_type": "code",
   "execution_count": null,
   "metadata": {
    "application/vnd.databricks.v1+cell": {
     "inputWidgets": {},
     "nuid": "f0c5dc36-052d-4e92-a584-00c608b0cc70",
     "showTitle": false,
     "title": ""
    }
   },
   "outputs": [
    {
     "data": {
      "text/plain": [
       "정확도: 0.9393939393939394\n"
      ]
     },
     "metadata": {
      "application/vnd.databricks.v1+output": {
       "addedWidgets": {},
       "arguments": {},
       "data": "정확도: 0.9393939393939394\n",
       "datasetInfos": [],
       "metadata": {},
       "removedWidgets": [],
       "type": "ansi"
      }
     },
     "output_type": "display_data",
     "transient": null
    },
    {
     "data": {
      "text/html": [
       "<style scoped>\n",
       "  .table-result-container {\n",
       "    max-height: 300px;\n",
       "    overflow: auto;\n",
       "  }\n",
       "  table, th, td {\n",
       "    border: 1px solid black;\n",
       "    border-collapse: collapse;\n",
       "  }\n",
       "  th, td {\n",
       "    padding: 5px;\n",
       "  }\n",
       "  th {\n",
       "    text-align: left;\n",
       "  }\n",
       "</style><div class='table-result-container'><table class='table-result'><thead style='background-color: white'><tr><th>sepal_length</th><th>sepal_width</th><th>petal_length</th><th>petal_width</th><th>target</th><th>features</th><th>rawPrediction</th><th>probability</th><th>prediction</th></tr></thead><tbody><tr><td>4.6</td><td>3.1</td><td>1.5</td><td>0.2</td><td>0</td><td>Map(vectorType -> dense, length -> 4, values -> List(4.6, 3.1, 1.5, 0.2))</td><td>Map(vectorType -> dense, length -> 3, values -> List(36.0, 0.0, 0.0))</td><td>Map(vectorType -> dense, length -> 3, values -> List(1.0, 0.0, 0.0))</td><td>0.0</td></tr><tr><td>4.8</td><td>3.4</td><td>1.6</td><td>0.2</td><td>0</td><td>Map(vectorType -> dense, length -> 4, values -> List(4.8, 3.4, 1.6, 0.2))</td><td>Map(vectorType -> dense, length -> 3, values -> List(36.0, 0.0, 0.0))</td><td>Map(vectorType -> dense, length -> 3, values -> List(1.0, 0.0, 0.0))</td><td>0.0</td></tr><tr><td>4.9</td><td>3.1</td><td>1.5</td><td>0.1</td><td>0</td><td>Map(vectorType -> dense, length -> 4, values -> List(4.9, 3.1, 1.5, 0.1))</td><td>Map(vectorType -> dense, length -> 3, values -> List(36.0, 0.0, 0.0))</td><td>Map(vectorType -> dense, length -> 3, values -> List(1.0, 0.0, 0.0))</td><td>0.0</td></tr><tr><td>5.4</td><td>3.7</td><td>1.5</td><td>0.2</td><td>0</td><td>Map(vectorType -> dense, length -> 4, values -> List(5.4, 3.7, 1.5, 0.2))</td><td>Map(vectorType -> dense, length -> 3, values -> List(36.0, 0.0, 0.0))</td><td>Map(vectorType -> dense, length -> 3, values -> List(1.0, 0.0, 0.0))</td><td>0.0</td></tr><tr><td>4.6</td><td>3.6</td><td>1.0</td><td>0.2</td><td>0</td><td>Map(vectorType -> dense, length -> 4, values -> List(4.6, 3.6, 1.0, 0.2))</td><td>Map(vectorType -> dense, length -> 3, values -> List(36.0, 0.0, 0.0))</td><td>Map(vectorType -> dense, length -> 3, values -> List(1.0, 0.0, 0.0))</td><td>0.0</td></tr><tr><td>5.0</td><td>3.0</td><td>1.6</td><td>0.2</td><td>0</td><td>Map(vectorType -> dense, length -> 4, values -> List(5.0, 3.0, 1.6, 0.2))</td><td>Map(vectorType -> dense, length -> 3, values -> List(36.0, 0.0, 0.0))</td><td>Map(vectorType -> dense, length -> 3, values -> List(1.0, 0.0, 0.0))</td><td>0.0</td></tr><tr><td>5.0</td><td>3.2</td><td>1.2</td><td>0.2</td><td>0</td><td>Map(vectorType -> dense, length -> 4, values -> List(5.0, 3.2, 1.2, 0.2))</td><td>Map(vectorType -> dense, length -> 3, values -> List(36.0, 0.0, 0.0))</td><td>Map(vectorType -> dense, length -> 3, values -> List(1.0, 0.0, 0.0))</td><td>0.0</td></tr><tr><td>5.4</td><td>3.4</td><td>1.5</td><td>0.4</td><td>0</td><td>Map(vectorType -> dense, length -> 4, values -> List(5.4, 3.4, 1.5, 0.4))</td><td>Map(vectorType -> dense, length -> 3, values -> List(36.0, 0.0, 0.0))</td><td>Map(vectorType -> dense, length -> 3, values -> List(1.0, 0.0, 0.0))</td><td>0.0</td></tr><tr><td>5.7</td><td>3.8</td><td>1.7</td><td>0.3</td><td>0</td><td>Map(vectorType -> dense, length -> 4, values -> List(5.7, 3.8, 1.7, 0.3))</td><td>Map(vectorType -> dense, length -> 3, values -> List(36.0, 0.0, 0.0))</td><td>Map(vectorType -> dense, length -> 3, values -> List(1.0, 0.0, 0.0))</td><td>0.0</td></tr><tr><td>4.4</td><td>3.2</td><td>1.3</td><td>0.2</td><td>0</td><td>Map(vectorType -> dense, length -> 4, values -> List(4.4, 3.2, 1.3, 0.2))</td><td>Map(vectorType -> dense, length -> 3, values -> List(36.0, 0.0, 0.0))</td><td>Map(vectorType -> dense, length -> 3, values -> List(1.0, 0.0, 0.0))</td><td>0.0</td></tr><tr><td>5.0</td><td>3.5</td><td>1.3</td><td>0.3</td><td>0</td><td>Map(vectorType -> dense, length -> 4, values -> List(5.0, 3.5, 1.3, 0.3))</td><td>Map(vectorType -> dense, length -> 3, values -> List(36.0, 0.0, 0.0))</td><td>Map(vectorType -> dense, length -> 3, values -> List(1.0, 0.0, 0.0))</td><td>0.0</td></tr><tr><td>5.1</td><td>3.4</td><td>1.5</td><td>0.2</td><td>0</td><td>Map(vectorType -> dense, length -> 4, values -> List(5.1, 3.4, 1.5, 0.2))</td><td>Map(vectorType -> dense, length -> 3, values -> List(36.0, 0.0, 0.0))</td><td>Map(vectorType -> dense, length -> 3, values -> List(1.0, 0.0, 0.0))</td><td>0.0</td></tr><tr><td>5.1</td><td>3.8</td><td>1.6</td><td>0.2</td><td>0</td><td>Map(vectorType -> dense, length -> 4, values -> List(5.1, 3.8, 1.6, 0.2))</td><td>Map(vectorType -> dense, length -> 3, values -> List(36.0, 0.0, 0.0))</td><td>Map(vectorType -> dense, length -> 3, values -> List(1.0, 0.0, 0.0))</td><td>0.0</td></tr><tr><td>5.1</td><td>3.8</td><td>1.9</td><td>0.4</td><td>0</td><td>Map(vectorType -> dense, length -> 4, values -> List(5.1, 3.8, 1.9, 0.4))</td><td>Map(vectorType -> dense, length -> 3, values -> List(36.0, 0.0, 0.0))</td><td>Map(vectorType -> dense, length -> 3, values -> List(1.0, 0.0, 0.0))</td><td>0.0</td></tr><tr><td>5.9</td><td>3.2</td><td>4.8</td><td>1.8</td><td>1</td><td>Map(vectorType -> dense, length -> 4, values -> List(5.9, 3.2, 4.8, 1.8))</td><td>Map(vectorType -> dense, length -> 3, values -> List(0.0, 0.0, 33.0))</td><td>Map(vectorType -> dense, length -> 3, values -> List(0.0, 0.0, 1.0))</td><td>2.0</td></tr><tr><td>5.7</td><td>2.6</td><td>3.5</td><td>1.0</td><td>1</td><td>Map(vectorType -> dense, length -> 4, values -> List(5.7, 2.6, 3.5, 1.0))</td><td>Map(vectorType -> dense, length -> 3, values -> List(0.0, 42.0, 0.0))</td><td>Map(vectorType -> dense, length -> 3, values -> List(0.0, 1.0, 0.0))</td><td>1.0</td></tr><tr><td>6.8</td><td>2.8</td><td>4.8</td><td>1.4</td><td>1</td><td>Map(vectorType -> dense, length -> 4, values -> List(6.8, 2.8, 4.8, 1.4))</td><td>Map(vectorType -> dense, length -> 3, values -> List(0.0, 42.0, 0.0))</td><td>Map(vectorType -> dense, length -> 3, values -> List(0.0, 1.0, 0.0))</td><td>1.0</td></tr><tr><td>5.1</td><td>2.5</td><td>3.0</td><td>1.1</td><td>1</td><td>Map(vectorType -> dense, length -> 4, values -> List(5.1, 2.5, 3.0, 1.1))</td><td>Map(vectorType -> dense, length -> 3, values -> List(0.0, 42.0, 0.0))</td><td>Map(vectorType -> dense, length -> 3, values -> List(0.0, 1.0, 0.0))</td><td>1.0</td></tr><tr><td>5.7</td><td>2.9</td><td>4.2</td><td>1.3</td><td>1</td><td>Map(vectorType -> dense, length -> 4, values -> List(5.7, 2.9, 4.2, 1.3))</td><td>Map(vectorType -> dense, length -> 3, values -> List(0.0, 42.0, 0.0))</td><td>Map(vectorType -> dense, length -> 3, values -> List(0.0, 1.0, 0.0))</td><td>1.0</td></tr><tr><td>5.8</td><td>2.7</td><td>5.1</td><td>1.9</td><td>2</td><td>Map(vectorType -> dense, length -> 4, values -> List(5.8, 2.7, 5.1, 1.9))</td><td>Map(vectorType -> dense, length -> 3, values -> List(0.0, 0.0, 33.0))</td><td>Map(vectorType -> dense, length -> 3, values -> List(0.0, 0.0, 1.0))</td><td>2.0</td></tr><tr><td>6.2</td><td>2.9</td><td>4.3</td><td>1.3</td><td>1</td><td>Map(vectorType -> dense, length -> 4, values -> List(6.2, 2.9, 4.3, 1.3))</td><td>Map(vectorType -> dense, length -> 3, values -> List(0.0, 42.0, 0.0))</td><td>Map(vectorType -> dense, length -> 3, values -> List(0.0, 1.0, 0.0))</td><td>1.0</td></tr><tr><td>6.4</td><td>2.7</td><td>5.3</td><td>1.9</td><td>2</td><td>Map(vectorType -> dense, length -> 4, values -> List(6.4, 2.7, 5.3, 1.9))</td><td>Map(vectorType -> dense, length -> 3, values -> List(0.0, 0.0, 33.0))</td><td>Map(vectorType -> dense, length -> 3, values -> List(0.0, 0.0, 1.0))</td><td>2.0</td></tr><tr><td>6.5</td><td>3.0</td><td>5.8</td><td>2.2</td><td>2</td><td>Map(vectorType -> dense, length -> 4, values -> List(6.5, 3.0, 5.8, 2.2))</td><td>Map(vectorType -> dense, length -> 3, values -> List(0.0, 0.0, 33.0))</td><td>Map(vectorType -> dense, length -> 3, values -> List(0.0, 0.0, 1.0))</td><td>2.0</td></tr><tr><td>7.3</td><td>2.9</td><td>6.3</td><td>1.8</td><td>2</td><td>Map(vectorType -> dense, length -> 4, values -> List(7.3, 2.9, 6.3, 1.8))</td><td>Map(vectorType -> dense, length -> 3, values -> List(0.0, 0.0, 33.0))</td><td>Map(vectorType -> dense, length -> 3, values -> List(0.0, 0.0, 1.0))</td><td>2.0</td></tr><tr><td>6.1</td><td>3.0</td><td>4.9</td><td>1.8</td><td>2</td><td>Map(vectorType -> dense, length -> 4, values -> List(6.1, 3.0, 4.9, 1.8))</td><td>Map(vectorType -> dense, length -> 3, values -> List(0.0, 0.0, 33.0))</td><td>Map(vectorType -> dense, length -> 3, values -> List(0.0, 0.0, 1.0))</td><td>2.0</td></tr><tr><td>6.4</td><td>2.8</td><td>5.6</td><td>2.1</td><td>2</td><td>Map(vectorType -> dense, length -> 4, values -> List(6.4, 2.8, 5.6, 2.1))</td><td>Map(vectorType -> dense, length -> 3, values -> List(0.0, 0.0, 33.0))</td><td>Map(vectorType -> dense, length -> 3, values -> List(0.0, 0.0, 1.0))</td><td>2.0</td></tr><tr><td>6.5</td><td>3.0</td><td>5.5</td><td>1.8</td><td>2</td><td>Map(vectorType -> dense, length -> 4, values -> List(6.5, 3.0, 5.5, 1.8))</td><td>Map(vectorType -> dense, length -> 3, values -> List(0.0, 0.0, 33.0))</td><td>Map(vectorType -> dense, length -> 3, values -> List(0.0, 0.0, 1.0))</td><td>2.0</td></tr><tr><td>7.2</td><td>3.0</td><td>5.8</td><td>1.6</td><td>2</td><td>Map(vectorType -> dense, length -> 4, values -> List(7.2, 3.0, 5.8, 1.6))</td><td>Map(vectorType -> dense, length -> 3, values -> List(0.0, 2.0, 0.0))</td><td>Map(vectorType -> dense, length -> 3, values -> List(0.0, 1.0, 0.0))</td><td>1.0</td></tr><tr><td>7.7</td><td>2.6</td><td>6.9</td><td>2.3</td><td>2</td><td>Map(vectorType -> dense, length -> 4, values -> List(7.7, 2.6, 6.9, 2.3))</td><td>Map(vectorType -> dense, length -> 3, values -> List(0.0, 0.0, 33.0))</td><td>Map(vectorType -> dense, length -> 3, values -> List(0.0, 0.0, 1.0))</td><td>2.0</td></tr><tr><td>6.0</td><td>3.0</td><td>4.8</td><td>1.8</td><td>2</td><td>Map(vectorType -> dense, length -> 4, values -> List(6.0, 3.0, 4.8, 1.8))</td><td>Map(vectorType -> dense, length -> 3, values -> List(0.0, 0.0, 33.0))</td><td>Map(vectorType -> dense, length -> 3, values -> List(0.0, 0.0, 1.0))</td><td>2.0</td></tr><tr><td>6.7</td><td>3.3</td><td>5.7</td><td>2.5</td><td>2</td><td>Map(vectorType -> dense, length -> 4, values -> List(6.7, 3.3, 5.7, 2.5))</td><td>Map(vectorType -> dense, length -> 3, values -> List(0.0, 0.0, 33.0))</td><td>Map(vectorType -> dense, length -> 3, values -> List(0.0, 0.0, 1.0))</td><td>2.0</td></tr><tr><td>6.9</td><td>3.1</td><td>5.1</td><td>2.3</td><td>2</td><td>Map(vectorType -> dense, length -> 4, values -> List(6.9, 3.1, 5.1, 2.3))</td><td>Map(vectorType -> dense, length -> 3, values -> List(0.0, 0.0, 33.0))</td><td>Map(vectorType -> dense, length -> 3, values -> List(0.0, 0.0, 1.0))</td><td>2.0</td></tr><tr><td>7.7</td><td>3.0</td><td>6.1</td><td>2.3</td><td>2</td><td>Map(vectorType -> dense, length -> 4, values -> List(7.7, 3.0, 6.1, 2.3))</td><td>Map(vectorType -> dense, length -> 3, values -> List(0.0, 0.0, 33.0))</td><td>Map(vectorType -> dense, length -> 3, values -> List(0.0, 0.0, 1.0))</td><td>2.0</td></tr></tbody></table></div>"
      ]
     },
     "metadata": {
      "application/vnd.databricks.v1+output": {
       "addedWidgets": {},
       "aggData": [],
       "aggError": "",
       "aggOverflow": false,
       "aggSchema": [],
       "aggSeriesLimitReached": false,
       "aggType": "",
       "arguments": {},
       "columnCustomDisplayInfos": {},
       "data": [
        [
         4.6,
         3.1,
         1.5,
         0.2,
         0,
         {
          "length": 4,
          "values": [
           4.6,
           3.1,
           1.5,
           0.2
          ],
          "vectorType": "dense"
         },
         {
          "length": 3,
          "values": [
           36,
           0,
           0
          ],
          "vectorType": "dense"
         },
         {
          "length": 3,
          "values": [
           1,
           0,
           0
          ],
          "vectorType": "dense"
         },
         0
        ],
        [
         4.8,
         3.4,
         1.6,
         0.2,
         0,
         {
          "length": 4,
          "values": [
           4.8,
           3.4,
           1.6,
           0.2
          ],
          "vectorType": "dense"
         },
         {
          "length": 3,
          "values": [
           36,
           0,
           0
          ],
          "vectorType": "dense"
         },
         {
          "length": 3,
          "values": [
           1,
           0,
           0
          ],
          "vectorType": "dense"
         },
         0
        ],
        [
         4.9,
         3.1,
         1.5,
         0.1,
         0,
         {
          "length": 4,
          "values": [
           4.9,
           3.1,
           1.5,
           0.1
          ],
          "vectorType": "dense"
         },
         {
          "length": 3,
          "values": [
           36,
           0,
           0
          ],
          "vectorType": "dense"
         },
         {
          "length": 3,
          "values": [
           1,
           0,
           0
          ],
          "vectorType": "dense"
         },
         0
        ],
        [
         5.4,
         3.7,
         1.5,
         0.2,
         0,
         {
          "length": 4,
          "values": [
           5.4,
           3.7,
           1.5,
           0.2
          ],
          "vectorType": "dense"
         },
         {
          "length": 3,
          "values": [
           36,
           0,
           0
          ],
          "vectorType": "dense"
         },
         {
          "length": 3,
          "values": [
           1,
           0,
           0
          ],
          "vectorType": "dense"
         },
         0
        ],
        [
         4.6,
         3.6,
         1,
         0.2,
         0,
         {
          "length": 4,
          "values": [
           4.6,
           3.6,
           1,
           0.2
          ],
          "vectorType": "dense"
         },
         {
          "length": 3,
          "values": [
           36,
           0,
           0
          ],
          "vectorType": "dense"
         },
         {
          "length": 3,
          "values": [
           1,
           0,
           0
          ],
          "vectorType": "dense"
         },
         0
        ],
        [
         5,
         3,
         1.6,
         0.2,
         0,
         {
          "length": 4,
          "values": [
           5,
           3,
           1.6,
           0.2
          ],
          "vectorType": "dense"
         },
         {
          "length": 3,
          "values": [
           36,
           0,
           0
          ],
          "vectorType": "dense"
         },
         {
          "length": 3,
          "values": [
           1,
           0,
           0
          ],
          "vectorType": "dense"
         },
         0
        ],
        [
         5,
         3.2,
         1.2,
         0.2,
         0,
         {
          "length": 4,
          "values": [
           5,
           3.2,
           1.2,
           0.2
          ],
          "vectorType": "dense"
         },
         {
          "length": 3,
          "values": [
           36,
           0,
           0
          ],
          "vectorType": "dense"
         },
         {
          "length": 3,
          "values": [
           1,
           0,
           0
          ],
          "vectorType": "dense"
         },
         0
        ],
        [
         5.4,
         3.4,
         1.5,
         0.4,
         0,
         {
          "length": 4,
          "values": [
           5.4,
           3.4,
           1.5,
           0.4
          ],
          "vectorType": "dense"
         },
         {
          "length": 3,
          "values": [
           36,
           0,
           0
          ],
          "vectorType": "dense"
         },
         {
          "length": 3,
          "values": [
           1,
           0,
           0
          ],
          "vectorType": "dense"
         },
         0
        ],
        [
         5.7,
         3.8,
         1.7,
         0.3,
         0,
         {
          "length": 4,
          "values": [
           5.7,
           3.8,
           1.7,
           0.3
          ],
          "vectorType": "dense"
         },
         {
          "length": 3,
          "values": [
           36,
           0,
           0
          ],
          "vectorType": "dense"
         },
         {
          "length": 3,
          "values": [
           1,
           0,
           0
          ],
          "vectorType": "dense"
         },
         0
        ],
        [
         4.4,
         3.2,
         1.3,
         0.2,
         0,
         {
          "length": 4,
          "values": [
           4.4,
           3.2,
           1.3,
           0.2
          ],
          "vectorType": "dense"
         },
         {
          "length": 3,
          "values": [
           36,
           0,
           0
          ],
          "vectorType": "dense"
         },
         {
          "length": 3,
          "values": [
           1,
           0,
           0
          ],
          "vectorType": "dense"
         },
         0
        ],
        [
         5,
         3.5,
         1.3,
         0.3,
         0,
         {
          "length": 4,
          "values": [
           5,
           3.5,
           1.3,
           0.3
          ],
          "vectorType": "dense"
         },
         {
          "length": 3,
          "values": [
           36,
           0,
           0
          ],
          "vectorType": "dense"
         },
         {
          "length": 3,
          "values": [
           1,
           0,
           0
          ],
          "vectorType": "dense"
         },
         0
        ],
        [
         5.1,
         3.4,
         1.5,
         0.2,
         0,
         {
          "length": 4,
          "values": [
           5.1,
           3.4,
           1.5,
           0.2
          ],
          "vectorType": "dense"
         },
         {
          "length": 3,
          "values": [
           36,
           0,
           0
          ],
          "vectorType": "dense"
         },
         {
          "length": 3,
          "values": [
           1,
           0,
           0
          ],
          "vectorType": "dense"
         },
         0
        ],
        [
         5.1,
         3.8,
         1.6,
         0.2,
         0,
         {
          "length": 4,
          "values": [
           5.1,
           3.8,
           1.6,
           0.2
          ],
          "vectorType": "dense"
         },
         {
          "length": 3,
          "values": [
           36,
           0,
           0
          ],
          "vectorType": "dense"
         },
         {
          "length": 3,
          "values": [
           1,
           0,
           0
          ],
          "vectorType": "dense"
         },
         0
        ],
        [
         5.1,
         3.8,
         1.9,
         0.4,
         0,
         {
          "length": 4,
          "values": [
           5.1,
           3.8,
           1.9,
           0.4
          ],
          "vectorType": "dense"
         },
         {
          "length": 3,
          "values": [
           36,
           0,
           0
          ],
          "vectorType": "dense"
         },
         {
          "length": 3,
          "values": [
           1,
           0,
           0
          ],
          "vectorType": "dense"
         },
         0
        ],
        [
         5.9,
         3.2,
         4.8,
         1.8,
         1,
         {
          "length": 4,
          "values": [
           5.9,
           3.2,
           4.8,
           1.8
          ],
          "vectorType": "dense"
         },
         {
          "length": 3,
          "values": [
           0,
           0,
           33
          ],
          "vectorType": "dense"
         },
         {
          "length": 3,
          "values": [
           0,
           0,
           1
          ],
          "vectorType": "dense"
         },
         2
        ],
        [
         5.7,
         2.6,
         3.5,
         1,
         1,
         {
          "length": 4,
          "values": [
           5.7,
           2.6,
           3.5,
           1
          ],
          "vectorType": "dense"
         },
         {
          "length": 3,
          "values": [
           0,
           42,
           0
          ],
          "vectorType": "dense"
         },
         {
          "length": 3,
          "values": [
           0,
           1,
           0
          ],
          "vectorType": "dense"
         },
         1
        ],
        [
         6.8,
         2.8,
         4.8,
         1.4,
         1,
         {
          "length": 4,
          "values": [
           6.8,
           2.8,
           4.8,
           1.4
          ],
          "vectorType": "dense"
         },
         {
          "length": 3,
          "values": [
           0,
           42,
           0
          ],
          "vectorType": "dense"
         },
         {
          "length": 3,
          "values": [
           0,
           1,
           0
          ],
          "vectorType": "dense"
         },
         1
        ],
        [
         5.1,
         2.5,
         3,
         1.1,
         1,
         {
          "length": 4,
          "values": [
           5.1,
           2.5,
           3,
           1.1
          ],
          "vectorType": "dense"
         },
         {
          "length": 3,
          "values": [
           0,
           42,
           0
          ],
          "vectorType": "dense"
         },
         {
          "length": 3,
          "values": [
           0,
           1,
           0
          ],
          "vectorType": "dense"
         },
         1
        ],
        [
         5.7,
         2.9,
         4.2,
         1.3,
         1,
         {
          "length": 4,
          "values": [
           5.7,
           2.9,
           4.2,
           1.3
          ],
          "vectorType": "dense"
         },
         {
          "length": 3,
          "values": [
           0,
           42,
           0
          ],
          "vectorType": "dense"
         },
         {
          "length": 3,
          "values": [
           0,
           1,
           0
          ],
          "vectorType": "dense"
         },
         1
        ],
        [
         5.8,
         2.7,
         5.1,
         1.9,
         2,
         {
          "length": 4,
          "values": [
           5.8,
           2.7,
           5.1,
           1.9
          ],
          "vectorType": "dense"
         },
         {
          "length": 3,
          "values": [
           0,
           0,
           33
          ],
          "vectorType": "dense"
         },
         {
          "length": 3,
          "values": [
           0,
           0,
           1
          ],
          "vectorType": "dense"
         },
         2
        ],
        [
         6.2,
         2.9,
         4.3,
         1.3,
         1,
         {
          "length": 4,
          "values": [
           6.2,
           2.9,
           4.3,
           1.3
          ],
          "vectorType": "dense"
         },
         {
          "length": 3,
          "values": [
           0,
           42,
           0
          ],
          "vectorType": "dense"
         },
         {
          "length": 3,
          "values": [
           0,
           1,
           0
          ],
          "vectorType": "dense"
         },
         1
        ],
        [
         6.4,
         2.7,
         5.3,
         1.9,
         2,
         {
          "length": 4,
          "values": [
           6.4,
           2.7,
           5.3,
           1.9
          ],
          "vectorType": "dense"
         },
         {
          "length": 3,
          "values": [
           0,
           0,
           33
          ],
          "vectorType": "dense"
         },
         {
          "length": 3,
          "values": [
           0,
           0,
           1
          ],
          "vectorType": "dense"
         },
         2
        ],
        [
         6.5,
         3,
         5.8,
         2.2,
         2,
         {
          "length": 4,
          "values": [
           6.5,
           3,
           5.8,
           2.2
          ],
          "vectorType": "dense"
         },
         {
          "length": 3,
          "values": [
           0,
           0,
           33
          ],
          "vectorType": "dense"
         },
         {
          "length": 3,
          "values": [
           0,
           0,
           1
          ],
          "vectorType": "dense"
         },
         2
        ],
        [
         7.3,
         2.9,
         6.3,
         1.8,
         2,
         {
          "length": 4,
          "values": [
           7.3,
           2.9,
           6.3,
           1.8
          ],
          "vectorType": "dense"
         },
         {
          "length": 3,
          "values": [
           0,
           0,
           33
          ],
          "vectorType": "dense"
         },
         {
          "length": 3,
          "values": [
           0,
           0,
           1
          ],
          "vectorType": "dense"
         },
         2
        ],
        [
         6.1,
         3,
         4.9,
         1.8,
         2,
         {
          "length": 4,
          "values": [
           6.1,
           3,
           4.9,
           1.8
          ],
          "vectorType": "dense"
         },
         {
          "length": 3,
          "values": [
           0,
           0,
           33
          ],
          "vectorType": "dense"
         },
         {
          "length": 3,
          "values": [
           0,
           0,
           1
          ],
          "vectorType": "dense"
         },
         2
        ],
        [
         6.4,
         2.8,
         5.6,
         2.1,
         2,
         {
          "length": 4,
          "values": [
           6.4,
           2.8,
           5.6,
           2.1
          ],
          "vectorType": "dense"
         },
         {
          "length": 3,
          "values": [
           0,
           0,
           33
          ],
          "vectorType": "dense"
         },
         {
          "length": 3,
          "values": [
           0,
           0,
           1
          ],
          "vectorType": "dense"
         },
         2
        ],
        [
         6.5,
         3,
         5.5,
         1.8,
         2,
         {
          "length": 4,
          "values": [
           6.5,
           3,
           5.5,
           1.8
          ],
          "vectorType": "dense"
         },
         {
          "length": 3,
          "values": [
           0,
           0,
           33
          ],
          "vectorType": "dense"
         },
         {
          "length": 3,
          "values": [
           0,
           0,
           1
          ],
          "vectorType": "dense"
         },
         2
        ],
        [
         7.2,
         3,
         5.8,
         1.6,
         2,
         {
          "length": 4,
          "values": [
           7.2,
           3,
           5.8,
           1.6
          ],
          "vectorType": "dense"
         },
         {
          "length": 3,
          "values": [
           0,
           2,
           0
          ],
          "vectorType": "dense"
         },
         {
          "length": 3,
          "values": [
           0,
           1,
           0
          ],
          "vectorType": "dense"
         },
         1
        ],
        [
         7.7,
         2.6,
         6.9,
         2.3,
         2,
         {
          "length": 4,
          "values": [
           7.7,
           2.6,
           6.9,
           2.3
          ],
          "vectorType": "dense"
         },
         {
          "length": 3,
          "values": [
           0,
           0,
           33
          ],
          "vectorType": "dense"
         },
         {
          "length": 3,
          "values": [
           0,
           0,
           1
          ],
          "vectorType": "dense"
         },
         2
        ],
        [
         6,
         3,
         4.8,
         1.8,
         2,
         {
          "length": 4,
          "values": [
           6,
           3,
           4.8,
           1.8
          ],
          "vectorType": "dense"
         },
         {
          "length": 3,
          "values": [
           0,
           0,
           33
          ],
          "vectorType": "dense"
         },
         {
          "length": 3,
          "values": [
           0,
           0,
           1
          ],
          "vectorType": "dense"
         },
         2
        ],
        [
         6.7,
         3.3,
         5.7,
         2.5,
         2,
         {
          "length": 4,
          "values": [
           6.7,
           3.3,
           5.7,
           2.5
          ],
          "vectorType": "dense"
         },
         {
          "length": 3,
          "values": [
           0,
           0,
           33
          ],
          "vectorType": "dense"
         },
         {
          "length": 3,
          "values": [
           0,
           0,
           1
          ],
          "vectorType": "dense"
         },
         2
        ],
        [
         6.9,
         3.1,
         5.1,
         2.3,
         2,
         {
          "length": 4,
          "values": [
           6.9,
           3.1,
           5.1,
           2.3
          ],
          "vectorType": "dense"
         },
         {
          "length": 3,
          "values": [
           0,
           0,
           33
          ],
          "vectorType": "dense"
         },
         {
          "length": 3,
          "values": [
           0,
           0,
           1
          ],
          "vectorType": "dense"
         },
         2
        ],
        [
         7.7,
         3,
         6.1,
         2.3,
         2,
         {
          "length": 4,
          "values": [
           7.7,
           3,
           6.1,
           2.3
          ],
          "vectorType": "dense"
         },
         {
          "length": 3,
          "values": [
           0,
           0,
           33
          ],
          "vectorType": "dense"
         },
         {
          "length": 3,
          "values": [
           0,
           0,
           1
          ],
          "vectorType": "dense"
         },
         2
        ]
       ],
       "datasetInfos": [],
       "dbfsResultPath": null,
       "isJsonSchema": true,
       "metadata": {},
       "overflow": false,
       "plotOptions": {
        "customPlotOptions": {},
        "displayType": "table",
        "pivotAggregation": null,
        "pivotColumns": null,
        "xColumns": null,
        "yColumns": null
       },
       "removedWidgets": [],
       "schema": [
        {
         "metadata": "{}",
         "name": "sepal_length",
         "type": "\"double\""
        },
        {
         "metadata": "{}",
         "name": "sepal_width",
         "type": "\"double\""
        },
        {
         "metadata": "{}",
         "name": "petal_length",
         "type": "\"double\""
        },
        {
         "metadata": "{}",
         "name": "petal_width",
         "type": "\"double\""
        },
        {
         "metadata": "{}",
         "name": "target",
         "type": "\"long\""
        },
        {
         "metadata": "{\"ml_attr\":{\"attrs\":{\"numeric\":[{\"idx\":0,\"name\":\"sepal_length\"},{\"idx\":1,\"name\":\"sepal_width\"},{\"idx\":2,\"name\":\"petal_length\"},{\"idx\":3,\"name\":\"petal_width\"}]},\"num_attrs\":4}}",
         "name": "features",
         "type": "{\"type\":\"udt\",\"class\":\"org.apache.spark.ml.linalg.VectorUDT\",\"pyClass\":\"pyspark.ml.linalg.VectorUDT\",\"sqlType\":{\"type\":\"struct\",\"fields\":[{\"name\":\"type\",\"type\":\"byte\",\"nullable\":false,\"metadata\":{}},{\"name\":\"size\",\"type\":\"integer\",\"nullable\":true,\"metadata\":{}},{\"name\":\"indices\",\"type\":{\"type\":\"array\",\"elementType\":\"integer\",\"containsNull\":false},\"nullable\":true,\"metadata\":{}},{\"name\":\"values\",\"type\":{\"type\":\"array\",\"elementType\":\"double\",\"containsNull\":false},\"nullable\":true,\"metadata\":{}}]}}"
        },
        {
         "metadata": "{\"ml_attr\":{\"num_attrs\":3}}",
         "name": "rawPrediction",
         "type": "{\"type\":\"udt\",\"class\":\"org.apache.spark.ml.linalg.VectorUDT\",\"pyClass\":\"pyspark.ml.linalg.VectorUDT\",\"sqlType\":{\"type\":\"struct\",\"fields\":[{\"name\":\"type\",\"type\":\"byte\",\"nullable\":false,\"metadata\":{}},{\"name\":\"size\",\"type\":\"integer\",\"nullable\":true,\"metadata\":{}},{\"name\":\"indices\",\"type\":{\"type\":\"array\",\"elementType\":\"integer\",\"containsNull\":false},\"nullable\":true,\"metadata\":{}},{\"name\":\"values\",\"type\":{\"type\":\"array\",\"elementType\":\"double\",\"containsNull\":false},\"nullable\":true,\"metadata\":{}}]}}"
        },
        {
         "metadata": "{\"ml_attr\":{\"num_attrs\":3}}",
         "name": "probability",
         "type": "{\"type\":\"udt\",\"class\":\"org.apache.spark.ml.linalg.VectorUDT\",\"pyClass\":\"pyspark.ml.linalg.VectorUDT\",\"sqlType\":{\"type\":\"struct\",\"fields\":[{\"name\":\"type\",\"type\":\"byte\",\"nullable\":false,\"metadata\":{}},{\"name\":\"size\",\"type\":\"integer\",\"nullable\":true,\"metadata\":{}},{\"name\":\"indices\",\"type\":{\"type\":\"array\",\"elementType\":\"integer\",\"containsNull\":false},\"nullable\":true,\"metadata\":{}},{\"name\":\"values\",\"type\":{\"type\":\"array\",\"elementType\":\"double\",\"containsNull\":false},\"nullable\":true,\"metadata\":{}}]}}"
        },
        {
         "metadata": "{\"ml_attr\":{\"type\":\"nominal\",\"num_vals\":3}}",
         "name": "prediction",
         "type": "\"double\""
        }
       ],
       "type": "table"
      }
     },
     "output_type": "display_data",
     "transient": null
    }
   ],
   "source": [
    "test_feature_vector_df = vec_assembler.transform(test_sdf)\n",
    "predictions = dt_model.transform(test_feature_vector_df)\n",
    "\n",
    "accuracy = evaluator_accuracy.evaluate(predictions)\n",
    "print('정확도:', accuracy)\n",
    "\n",
    "display(predictions)\n"
   ]
  },
  {
   "cell_type": "code",
   "execution_count": null,
   "metadata": {
    "application/vnd.databricks.v1+cell": {
     "inputWidgets": {},
     "nuid": "f1fbcec9-f8a6-4a0f-8259-3cee4f386de3",
     "showTitle": false,
     "title": ""
    }
   },
   "outputs": [
    {
     "data": {
      "text/html": [
       "<style scoped>\n",
       "  .ansiout {\n",
       "    display: block;\n",
       "    unicode-bidi: embed;\n",
       "    white-space: pre-wrap;\n",
       "    word-wrap: break-word;\n",
       "    word-break: break-all;\n",
       "    font-family: \"Source Code Pro\", \"Menlo\", monospace;;\n",
       "    font-size: 13px;\n",
       "    color: #555;\n",
       "    margin-left: 4px;\n",
       "    line-height: 19px;\n",
       "  }\n",
       "</style>"
      ]
     },
     "metadata": {
      "application/vnd.databricks.v1+output": {
       "arguments": {},
       "data": "",
       "errorSummary": "",
       "errorTraceType": null,
       "metadata": {},
       "type": "ipynbError"
      }
     },
     "output_type": "display_data",
     "transient": null
    }
   ],
   "source": []
  }
 ],
 "metadata": {
  "application/vnd.databricks.v1+notebook": {
   "dashboards": [],
   "language": "python",
   "notebookMetadata": {
    "pythonIndentUnit": 4
   },
   "notebookName": "spark_iris_basic",
   "notebookOrigID": 1815812548762317,
   "widgets": {}
  },
  "kernelspec": {
   "display_name": "Python 3 (ipykernel)",
   "language": "python",
   "name": "python3"
  },
  "language_info": {
   "codemirror_mode": {
    "name": "ipython",
    "version": 3
   },
   "file_extension": ".py",
   "mimetype": "text/x-python",
   "name": "python",
   "nbconvert_exporter": "python",
   "pygments_lexer": "ipython3",
   "version": "3.11.4"
  }
 },
 "nbformat": 4,
 "nbformat_minor": 4
}
