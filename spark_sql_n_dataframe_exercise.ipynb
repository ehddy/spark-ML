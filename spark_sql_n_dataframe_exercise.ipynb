{
 "cells": [
  {
   "cell_type": "code",
   "execution_count": 120,
   "metadata": {
    "application/vnd.databricks.v1+cell": {
     "inputWidgets": {},
     "nuid": "5ae44a5e-11a8-4c71-9bc8-1e1e153656ed",
     "showTitle": false,
     "title": ""
    }
   },
   "outputs": [
    {
     "name": "stdout",
     "output_type": "stream",
     "text": [
      "stock sdf type: <class 'pyspark.sql.dataframe.DataFrame'>\n",
      "+--------+------------+-----+------+------------+----------+------+-----+-------+-------+--------+----+----------+----------+--------------+------------+--------------+----------------+-----+-----+-----+------+----------+------------+--------+--------+--------------+--------+\n",
      "|종목코드|      종목명| 종가|등락률|    시가총액|    기준일|   eps|  per|선행eps|선행per|     bps| pbr|주당배당금|배당수익률|외국인보유수량|외국인지분율|외국인한도수량|외국인한도소진율| 시가| 고가| 저가|거래량|  거래대금|기업고유번호|시장구분|종목구분|          섹터|  업종명|\n",
      "+--------+------------+-----+------+------------+----------+------+-----+-------+-------+--------+----+----------+----------+--------------+------------+--------------+----------------+-----+-----+-----+------+----------+------------+--------+--------+--------------+--------+\n",
      "|  000020|    동화약품| 9350| -0.85|261159244500|2024-03-15| 736.0| 12.7|   null|   null| 13165.0|0.71|     180.0|      1.93|       1681856|        6.02|      27931470|            6.02| 9450| 9450| 9300| 72206| 674278570|      119195|   KOSPI|  보통주|      건강관리|  의약품|\n",
      "|  000040|    KR모터스|  465|   0.0| 44704386225|2024-03-15|  null| null|   null|   null|   345.0|1.35|       0.0|       0.0|      43963412|       45.73|      96138465|           45.73|    0|    0|    0|     0|         0|      112378|   KOSPI|  보통주|경기관련소비재|운수장비|\n",
      "|  000050|        경방| 8470| -1.63|232207336900|2024-03-15| 177.0|47.85|   null|   null| 30304.0|0.28|     125.0|      1.48|        270629|        0.99|      27415270|            0.99| 8610| 8690| 8270| 11024|  93485040|      101628|   KOSPI|  보통주|경기관련소비재|  유통업|\n",
      "|  000070|  삼양홀딩스|71300| -1.93|610632522300|2024-03-15|9173.0| 7.77|   null|   null|240995.0| 0.3|    3500.0|      4.91|        767205|        8.96|       8564271|            8.96|73000|74500|71300| 32624|2341408000|      126937|   KOSPI|  보통주|          소재|기타금융|\n",
      "|  000075|삼양홀딩스우|54900| -0.18| 16692784200|2024-03-15|  null| null|   null|   null|    null|null|    3550.0|      6.47|          4017|        1.32|        304058|            1.32|55400|55400|54800|    96|   5264000|        null|   KOSPI|  우선주|          null|기타금융|\n",
      "+--------+------------+-----+------+------------+----------+------+-----+-------+-------+--------+----+----------+----------+--------------+------------+--------------+----------------+-----+-----+-----+------+----------+------------+--------+--------+--------------+--------+\n",
      "only showing top 5 rows\n",
      "\n"
     ]
    }
   ],
   "source": [
    "from pyspark.sql import SparkSession\n",
    "\n",
    "# SparkSession 객체 생성\n",
    "spark = SparkSession.builder \\\n",
    "    .appName(\"stock\") \\\n",
    "    .getOrCreate()\n",
    "\n",
    "\n",
    "\n",
    "# pandas 버전\n",
    "# pandas_df = pd.read_csv('titanic_train.csv', header='infer')\n",
    "\n",
    "#spark.read.csv() 메소드를 이용하여 csv 파일을 로드하고 DataFrame으로 변환. \n",
    "# CSV 파일을 pandas 데이터프레임으로 불러올 때, 'NULL' 문자열을 NaN 값으로 대체하도록 설정\n",
    "stock_sdf = spark.read.csv('./data/stock_info_0315.csv', header=True, inferSchema=True,  nullValue='NULL')\n",
    "print('stock sdf type:', type(stock_sdf))\n",
    "\n",
    "stock_sdf.show(5)\n",
    "\n",
    "# spark DataFrame을 메모리에 cache\n",
    "stock_sdf = stock_sdf.cache()\n",
    "\n",
    "\n",
    "\n",
    "# pandas 데이터 불러오기 \n",
    "import pandas as pd\n",
    "\n",
    "na_values = ['NULL']\n",
    "stock_pdf = pd.read_csv('./data/stock_info_0315.csv', header='infer', na_values=na_values)\n"
   ]
  },
  {
   "cell_type": "code",
   "execution_count": 121,
   "metadata": {},
   "outputs": [],
   "source": [
    "# SQL문 사용시 한글 컬럼을 조건에 넣으면 오류가 발생하기 때문에 컬럼명을 영문으로 변경해야 함 \n",
    "# 컬럼명 변경\n",
    "stock_pdf = stock_pdf.rename(columns={\n",
    "    '종목코드': 'stock_code',\n",
    "    '종목명': 'stock_name',\n",
    "    '종가': 'closing_price',\n",
    "    '등락률': 'price_change',\n",
    "    '시가총액': 'market_cap',\n",
    "    '기준일': 'base_date',\n",
    "    '선행eps': 'leading_eps',\n",
    "    '선행per': 'leading_per',\n",
    "    '주당배당금': 'dividend_per_share',\n",
    "    '배당수익률': 'dividend_yield',\n",
    "    '외국인보유수량': 'foreign_ownership_quantity',\n",
    "    '외국인지분율': 'foreign_ownership_ratio',\n",
    "    '외국인한도수량': 'foreign_limit_quantity',\n",
    "    '외국인한도소진율': 'foreign_limit_exhaustion_ratio',\n",
    "    '시가': 'opening_price',\n",
    "    '고가': 'high_price',\n",
    "    '저가': 'low_price',\n",
    "    '거래량': 'trading_volume',\n",
    "    '거래대금': 'trading_value',\n",
    "    '기업고유번호': 'company_id',\n",
    "    '시장구분': 'market_division',\n",
    "    '종목구분': 'stock_division',\n",
    "    '섹터': 'sector',\n",
    "    '업종명': 'industry_name',\n",
    "})\n",
    "\n",
    "# spark DataFrame으로 변환 \n",
    "stock_sdf = spark.createDataFrame(stock_pdf)"
   ]
  },
  {
   "cell_type": "code",
   "execution_count": 128,
   "metadata": {},
   "outputs": [],
   "source": [
    "from pyspark.sql.functions import isnan\n",
    "\n",
    "# nan을 null로 변경\n",
    "stock_sdf = stock_sdf.replace(float('nan'), None)\n",
    "stock_sdf = stock_sdf.replace('NaN', None)"
   ]
  },
  {
   "cell_type": "code",
   "execution_count": 129,
   "metadata": {
    "application/vnd.databricks.v1+cell": {
     "inputWidgets": {},
     "nuid": "57de06d7-a178-409a-bf47-c663ad76c168",
     "showTitle": false,
     "title": ""
    }
   },
   "outputs": [],
   "source": [
    "## SQL 사용이 가능할 수 있도록 stock_sdf DataFrame을 DB View로 생성. \n",
    "stock_sdf.createOrReplaceTempView('stock_view')"
   ]
  },
  {
   "cell_type": "code",
   "execution_count": 130,
   "metadata": {
    "application/vnd.databricks.v1+cell": {
     "inputWidgets": {},
     "nuid": "bdcd1280-6a93-438b-a3a7-385744058c05",
     "showTitle": false,
     "title": ""
    }
   },
   "outputs": [
    {
     "name": "stdout",
     "output_type": "stream",
     "text": [
      "+----------+------------+-------------+------------+------------+----------+------+-----+-----------+-----------+--------+----+------------------+--------------+--------------------------+-----------------------+----------------------+------------------------------+-------------+----------+---------+--------------+-------------+----------+---------------+--------------+--------------+-------------+\n",
      "|stock_code|  stock_name|closing_price|price_change|  market_cap| base_date|   eps|  per|leading_eps|leading_per|     bps| pbr|dividend_per_share|dividend_yield|foreign_ownership_quantity|foreign_ownership_ratio|foreign_limit_quantity|foreign_limit_exhaustion_ratio|opening_price|high_price|low_price|trading_volume|trading_value|company_id|market_division|stock_division|        sector|industry_name|\n",
      "+----------+------------+-------------+------------+------------+----------+------+-----+-----------+-----------+--------+----+------------------+--------------+--------------------------+-----------------------+----------------------+------------------------------+-------------+----------+---------+--------------+-------------+----------+---------------+--------------+--------------+-------------+\n",
      "|    000020|    동화약품|         9350|       -0.85|261159244500|2024-03-15| 736.0| 12.7|       null|       null| 13165.0|0.71|             180.0|          1.93|                   1681856|                   6.02|              27931470|                          6.02|         9450|      9450|     9300|         72206|    674278570|  119195.0|          KOSPI|        보통주|      건강관리|       의약품|\n",
      "|    000040|    KR모터스|          465|         0.0| 44704386225|2024-03-15|  null| null|       null|       null|   345.0|1.35|               0.0|           0.0|                  43963412|                  45.73|              96138465|                         45.73|            0|         0|        0|             0|            0|  112378.0|          KOSPI|        보통주|경기관련소비재|     운수장비|\n",
      "|    000050|        경방|         8470|       -1.63|232207336900|2024-03-15| 177.0|47.85|       null|       null| 30304.0|0.28|             125.0|          1.48|                    270629|                   0.99|              27415270|                          0.99|         8610|      8690|     8270|         11024|     93485040|  101628.0|          KOSPI|        보통주|경기관련소비재|       유통업|\n",
      "|    000070|  삼양홀딩스|        71300|       -1.93|610632522300|2024-03-15|9173.0| 7.77|       null|       null|240995.0| 0.3|            3500.0|          4.91|                    767205|                   8.96|               8564271|                          8.96|        73000|     74500|    71300|         32624|   2341408000|  126937.0|          KOSPI|        보통주|          소재|     기타금융|\n",
      "|    000075|삼양홀딩스우|        54900|       -0.18| 16692784200|2024-03-15|  null| null|       null|       null|    null|null|            3550.0|          6.47|                      4017|                   1.32|                304058|                          1.32|        55400|     55400|    54800|            96|      5264000|      null|          KOSPI|        우선주|          null|     기타금융|\n",
      "+----------+------------+-------------+------------+------------+----------+------+-----+-----------+-----------+--------+----+------------------+--------------+--------------------------+-----------------------+----------------------+------------------------------+-------------+----------+---------+--------------+-------------+----------+---------------+--------------+--------------+-------------+\n",
      "\n"
     ]
    }
   ],
   "source": [
    "spark.sql('select *  from stock_view a').limit(5).show()"
   ]
  },
  {
   "cell_type": "code",
   "execution_count": 9,
   "metadata": {
    "application/vnd.databricks.v1+cell": {
     "inputWidgets": {},
     "nuid": "387c2604-8b4c-4ffa-ba12-3af97fc9e103",
     "showTitle": false,
     "title": ""
    }
   },
   "outputs": [
    {
     "name": "stdout",
     "output_type": "stream",
     "text": [
      "+--------+--------------+------+------+-------------+----------+------+-----+-------+-------+--------+----+----------+----------+--------------+------------+--------------+----------------+------+------+------+------+-----------+------------+--------+--------+--------------+----------+\n",
      "|종목코드|        종목명|  종가|등락률|     시가총액|    기준일|   eps|  per|선행eps|선행per|     bps| pbr|주당배당금|배당수익률|외국인보유수량|외국인지분율|외국인한도수량|외국인한도소진율|  시가|  고가|  저가|거래량|   거래대금|기업고유번호|시장구분|종목구분|          섹터|    업종명|\n",
      "+--------+--------------+------+------+-------------+----------+------+-----+-------+-------+--------+----+----------+----------+--------------+------------+--------------+----------------+------+------+------+------+-----------+------------+--------+--------+--------------+----------+\n",
      "|  000020|      동화약품|  9350| -0.85| 261159244500|2024-03-15| 736.0| 12.7|   null|   null| 13165.0|0.71|     180.0|      1.93|       1681856|        6.02|      27931470|            6.02|  9450|  9450|  9300| 72206|  674278570|      119195|   KOSPI|  보통주|      건강관리|    의약품|\n",
      "|  000040|      KR모터스|   465|   0.0|  44704386225|2024-03-15|  null| null|   null|   null|   345.0|1.35|       0.0|       0.0|      43963412|       45.73|      96138465|           45.73|     0|     0|     0|     0|          0|      112378|   KOSPI|  보통주|경기관련소비재|  운수장비|\n",
      "|  000050|          경방|  8470| -1.63| 232207336900|2024-03-15| 177.0|47.85|   null|   null| 30304.0|0.28|     125.0|      1.48|        270629|        0.99|      27415270|            0.99|  8610|  8690|  8270| 11024|   93485040|      101628|   KOSPI|  보통주|경기관련소비재|    유통업|\n",
      "|  000070|    삼양홀딩스| 71300| -1.93| 610632522300|2024-03-15|9173.0| 7.77|   null|   null|240995.0| 0.3|    3500.0|      4.91|        767205|        8.96|       8564271|            8.96| 73000| 74500| 71300| 32624| 2341408000|      126937|   KOSPI|  보통주|          소재|  기타금융|\n",
      "|  000075|  삼양홀딩스우| 54900| -0.18|  16692784200|2024-03-15|  null| null|   null|   null|    null|null|    3550.0|      6.47|          4017|        1.32|        304058|            1.32| 55400| 55400| 54800|    96|    5264000|        null|   KOSPI|  우선주|          null|  기타금융|\n",
      "|  000080|    하이트진로| 20300|   0.0|1423712303300|2024-03-15|1250.0|16.24| 1265.0|  16.05| 16906.0| 1.2|     950.0|      4.68|       7777084|       11.09|      70133611|           11.09| 20300| 20300| 19960|154102| 3103992290|      150244|   KOSPI|  보통주|    필수소비재|  음식료품|\n",
      "|  000087|하이트진로2우B| 15710|  0.58|  17754467980|2024-03-15|  null| null|   null|   null|    null|null|    1000.0|      6.37|          4836|        0.43|       1130138|            0.43| 15530| 15720| 15530|   508|    7934080|        null|   KOSPI|  우선주|          null|  음식료품|\n",
      "|  000100|      유한양행| 74000|  -1.6|5935470736000|2024-03-15|1272.0|58.18| 2145.0|   34.5| 27137.0|2.73|     400.0|      0.54|      16063263|       20.03|      80209064|           20.03| 76200| 77800| 73700|634851|47632579300|      145109|   KOSPI|  보통주|      건강관리|    의약품|\n",
      "|  000105|    유한양행우| 63400| -2.46|  74871596000|2024-03-15|  null| null|   null|   null|    null|null|     410.0|      0.65|             0|         0.0|       1180940|             0.0| 65000| 65800| 63200|  1952|  125010900|        null|   KOSPI|  우선주|          null|    의약품|\n",
      "|  000120|    CJ대한통운|124600| -1.19|2842418062400|2024-03-15|8190.0|15.21|12469.0|   9.99|179031.0| 0.7|     500.0|       0.4|       2998297|       13.14|      22812344|           13.14|122800|126200|120100|100113|12413223600|      113410|   KOSPI|  보통주|        산업재|운수창고업|\n",
      "+--------+--------------+------+------+-------------+----------+------+-----+-------+-------+--------+----+----------+----------+--------------+------------+--------------+----------------+------+------+------+------+-----------+------------+--------+--------+--------------+----------+\n",
      "\n"
     ]
    }
   ],
   "source": [
    "stock_sdf.select('*').limit(10).show()"
   ]
  },
  {
   "cell_type": "code",
   "execution_count": 51,
   "metadata": {
    "application/vnd.databricks.v1+cell": {
     "inputWidgets": {},
     "nuid": "2c5c65ee-4dd5-4381-a0a3-a2f1adf90834",
     "showTitle": false,
     "title": ""
    }
   },
   "outputs": [
    {
     "name": "stdout",
     "output_type": "stream",
     "text": [
      "+------------------+-------------+\n",
      "| upper(stock_name)|closing_price|\n",
      "+------------------+-------------+\n",
      "|          동화약품|         9350|\n",
      "|          KR모터스|          465|\n",
      "|              경방|         8470|\n",
      "|        삼양홀딩스|        71300|\n",
      "|      삼양홀딩스우|        54900|\n",
      "|        하이트진로|        20300|\n",
      "|    하이트진로2우B|        15710|\n",
      "|          유한양행|        74000|\n",
      "|        유한양행우|        63400|\n",
      "|        CJ대한통운|       124600|\n",
      "|  하이트진로홀딩스|         9000|\n",
      "|하이트진로홀딩스우|        12000|\n",
      "|              두산|       145000|\n",
      "|            두산우|        64900|\n",
      "|          두산2우B|        78600|\n",
      "|      성창기업지주|         2025|\n",
      "|                DL|        44850|\n",
      "|              DL우|        24650|\n",
      "|          유유제약|         4900|\n",
      "|       유유제약1우|         5360|\n",
      "+------------------+-------------+\n",
      "only showing top 20 rows\n",
      "\n"
     ]
    }
   ],
   "source": [
    "\n",
    "spark.sql('select upper(stock_name), closing_price from stock_view').show(20)\n"
   ]
  },
  {
   "cell_type": "code",
   "execution_count": 53,
   "metadata": {
    "application/vnd.databricks.v1+cell": {
     "inputWidgets": {},
     "nuid": "781fa182-1031-4bc4-a31c-9d38f68dfaf3",
     "showTitle": false,
     "title": ""
    }
   },
   "outputs": [
    {
     "name": "stdout",
     "output_type": "stream",
     "text": [
      "+------------------+-------------+\n",
      "| upper(stock_name)|closing_price|\n",
      "+------------------+-------------+\n",
      "|          동화약품|         9350|\n",
      "|          KR모터스|          465|\n",
      "|              경방|         8470|\n",
      "|        삼양홀딩스|        71300|\n",
      "|      삼양홀딩스우|        54900|\n",
      "|        하이트진로|        20300|\n",
      "|    하이트진로2우B|        15710|\n",
      "|          유한양행|        74000|\n",
      "|        유한양행우|        63400|\n",
      "|        CJ대한통운|       124600|\n",
      "|  하이트진로홀딩스|         9000|\n",
      "|하이트진로홀딩스우|        12000|\n",
      "|              두산|       145000|\n",
      "|            두산우|        64900|\n",
      "|          두산2우B|        78600|\n",
      "|      성창기업지주|         2025|\n",
      "|                DL|        44850|\n",
      "|              DL우|        24650|\n",
      "|          유유제약|         4900|\n",
      "|       유유제약1우|         5360|\n",
      "+------------------+-------------+\n",
      "only showing top 20 rows\n",
      "\n"
     ]
    }
   ],
   "source": [
    "import pyspark.sql.functions as F\n",
    "\n",
    "stock_sdf.select(F.upper(F.col('stock_name')), F.col('closing_price')).show(20)"
   ]
  },
  {
   "cell_type": "code",
   "execution_count": 57,
   "metadata": {
    "application/vnd.databricks.v1+cell": {
     "inputWidgets": {},
     "nuid": "89d70e4d-b03c-4a0c-8ebe-c498c36149af",
     "showTitle": false,
     "title": ""
    }
   },
   "outputs": [
    {
     "name": "stdout",
     "output_type": "stream",
     "text": [
      "+----------+------------+------------------+\n",
      "|stock_code|  stock_name|cap_stock_division|\n",
      "+----------+------------+------------------+\n",
      "|    000020|    동화약품|              보통|\n",
      "|    000040|    KR모터스|              보통|\n",
      "|    000050|        경방|              보통|\n",
      "|    000070|  삼양홀딩스|              보통|\n",
      "|    000075|삼양홀딩스우|              우선|\n",
      "+----------+------------+------------------+\n",
      "\n"
     ]
    }
   ],
   "source": [
    "# - stock_division의 1, 2번째 문자만 가져오는 cap_stock_division 컬럼 추가 substring() SQL 함수 활용\n",
    "\n",
    "sql_script = 'select a.stock_code, a.stock_name, substring(stock_division, 0, 2) as cap_stock_division from stock_view a'\n",
    "\n",
    "spark.sql(sql_script).limit(5).show()\n"
   ]
  },
  {
   "cell_type": "code",
   "execution_count": 58,
   "metadata": {
    "application/vnd.databricks.v1+cell": {
     "inputWidgets": {},
     "nuid": "959ef8c5-4a70-4669-ba35-91f603961d33",
     "showTitle": false,
     "title": ""
    }
   },
   "outputs": [
    {
     "name": "stdout",
     "output_type": "stream",
     "text": [
      "+----------+------------+------------------+\n",
      "|stock_code|  stock_name|cap_stock_division|\n",
      "+----------+------------+------------------+\n",
      "|    000020|    동화약품|              보통|\n",
      "|    000040|    KR모터스|              보통|\n",
      "|    000050|        경방|              보통|\n",
      "|    000070|  삼양홀딩스|              보통|\n",
      "|    000075|삼양홀딩스우|              우선|\n",
      "+----------+------------+------------------+\n",
      "\n"
     ]
    }
   ],
   "source": [
    "stock_sdf.select('stock_code','stock_name', F.substring(F.col('stock_division'), 0, 2).alias('cap_stock_division')).limit(5).show()"
   ]
  },
  {
   "cell_type": "code",
   "execution_count": 70,
   "metadata": {
    "application/vnd.databricks.v1+cell": {
     "inputWidgets": {},
     "nuid": "78d48b88-2bdf-4354-8fb8-505ee074318b",
     "showTitle": false,
     "title": ""
    }
   },
   "outputs": [
    {
     "name": "stdout",
     "output_type": "stream",
     "text": [
      "+--------------+------+--------------+\n",
      "|    stock_name|   per|    market_cap|\n",
      "+--------------+------+--------------+\n",
      "|  포스코퓨처엠|207.27|24517109130000|\n",
      "|      에코프로|419.99|16003228468000|\n",
      "|LG에너지솔루션|120.54|93249000000000|\n",
      "|  에코프로머티|510.88|10361579743600|\n",
      "+--------------+------+--------------+\n",
      "\n"
     ]
    }
   ],
   "source": [
    "\n",
    "sql_script = 'select stock_name, per, market_cap from stock_view where per > 100 and market_cap > 10000000000000'\n",
    "\n",
    "spark.sql(sql_script).limit(5).show()\n"
   ]
  },
  {
   "cell_type": "code",
   "execution_count": 69,
   "metadata": {},
   "outputs": [
    {
     "name": "stdout",
     "output_type": "stream",
     "text": [
      "+--------------+------+--------------+\n",
      "|    stock_name|   per|    market_cap|\n",
      "+--------------+------+--------------+\n",
      "|  포스코퓨처엠|207.27|24517109130000|\n",
      "|      에코프로|419.99|16003228468000|\n",
      "|LG에너지솔루션|120.54|93249000000000|\n",
      "|  에코프로머티|510.88|10361579743600|\n",
      "+--------------+------+--------------+\n",
      "\n"
     ]
    }
   ],
   "source": [
    "stock_sdf.filter((F.col('per')> 100) & (F.col('market_cap') > 10000000000000)).select('stock_name', 'per', 'market_cap').show(5)"
   ]
  },
  {
   "cell_type": "code",
   "execution_count": 73,
   "metadata": {
    "application/vnd.databricks.v1+cell": {
     "inputWidgets": {},
     "nuid": "797abab3-a13f-40dc-af06-a03e4b61a3bf",
     "showTitle": false,
     "title": ""
    }
   },
   "outputs": [
    {
     "name": "stdout",
     "output_type": "stream",
     "text": [
      "+----------+--------+-------------+\n",
      "|stock_name|  sector|closing_price|\n",
      "+----------+--------+-------------+\n",
      "|  삼성화재|     NaN|       309500|\n",
      "|삼성화재우|     NaN|       240000|\n",
      "|  삼성제약|건강관리|         1805|\n",
      "|  삼성전자|      IT|        72300|\n",
      "|삼성전자우|     NaN|        62000|\n",
      "+----------+--------+-------------+\n",
      "\n"
     ]
    }
   ],
   "source": [
    "\n",
    "sql_script = \"select stock_name, sector, closing_price from stock_view where stock_name like '%삼성%'\" \n",
    "spark.sql(sql_script).limit(5).show()"
   ]
  },
  {
   "cell_type": "code",
   "execution_count": 78,
   "metadata": {},
   "outputs": [
    {
     "name": "stdout",
     "output_type": "stream",
     "text": [
      "+----------+--------+-------------+\n",
      "|stock_name|  sector|closing_price|\n",
      "+----------+--------+-------------+\n",
      "|  삼성화재|     NaN|       309500|\n",
      "|삼성화재우|     NaN|       240000|\n",
      "|  삼성제약|건강관리|         1805|\n",
      "|  삼성전자|      IT|        72300|\n",
      "|삼성전자우|     NaN|        62000|\n",
      "+----------+--------+-------------+\n",
      "only showing top 5 rows\n",
      "\n"
     ]
    }
   ],
   "source": [
    "stock_sdf.filter(F.col('stock_name').like(\"%삼성%\")).select('stock_name', 'sector', 'closing_price').show(5)"
   ]
  },
  {
   "cell_type": "code",
   "execution_count": 81,
   "metadata": {
    "application/vnd.databricks.v1+cell": {
     "inputWidgets": {},
     "nuid": "217d0758-f76b-4e20-be77-4c63554d8220",
     "showTitle": false,
     "title": ""
    }
   },
   "outputs": [
    {
     "name": "stdout",
     "output_type": "stream",
     "text": [
      "+----------------+---------------+\n",
      "|      stock_name|     market_cap|\n",
      "+----------------+---------------+\n",
      "|        삼성전자|431615278365000|\n",
      "|      SK하이닉스|117353981238000|\n",
      "|  LG에너지솔루션| 93249000000000|\n",
      "|삼성바이오로직스| 58789724000000|\n",
      "|          현대차| 51507921711000|\n",
      "|      삼성전자우| 51018975400000|\n",
      "|            기아| 50255525375000|\n",
      "|        셀트리온| 39423396969600|\n",
      "|     POSCO홀딩스| 36788485050000|\n",
      "|          KB금융| 30747543686400|\n",
      "+----------------+---------------+\n",
      "\n"
     ]
    }
   ],
   "source": [
    "# order by 절로 정렬. market_cap로 내림차순 정렬 후 10건만 추출. \n",
    "    \n",
    "sql_script = \"select stock_name, market_cap from stock_view order by market_cap desc limit 10\"\n",
    "\n",
    "spark.sql(sql_script).show()"
   ]
  },
  {
   "cell_type": "code",
   "execution_count": 84,
   "metadata": {},
   "outputs": [
    {
     "name": "stdout",
     "output_type": "stream",
     "text": [
      "+----------------+---------------+\n",
      "|      stock_name|     market_cap|\n",
      "+----------------+---------------+\n",
      "|        삼성전자|431615278365000|\n",
      "|      SK하이닉스|117353981238000|\n",
      "|  LG에너지솔루션| 93249000000000|\n",
      "|삼성바이오로직스| 58789724000000|\n",
      "|          현대차| 51507921711000|\n",
      "|      삼성전자우| 51018975400000|\n",
      "|            기아| 50255525375000|\n",
      "|        셀트리온| 39423396969600|\n",
      "|     POSCO홀딩스| 36788485050000|\n",
      "|          KB금융| 30747543686400|\n",
      "+----------------+---------------+\n",
      "\n"
     ]
    }
   ],
   "source": [
    "stock_sdf.select('stock_name', 'market_cap').orderBy('market_cap', ascending=False).limit(10).show()"
   ]
  },
  {
   "cell_type": "code",
   "execution_count": 86,
   "metadata": {
    "application/vnd.databricks.v1+cell": {
     "inputWidgets": {},
     "nuid": "15343fe2-94ac-4acf-ae4f-f89aedcf53ba",
     "showTitle": false,
     "title": ""
    }
   },
   "outputs": [
    {
     "name": "stdout",
     "output_type": "stream",
     "text": [
      "+----+\n",
      "| cnt|\n",
      "+----+\n",
      "|2671|\n",
      "+----+\n",
      "\n"
     ]
    }
   ],
   "source": [
    "# view의 건수 추출 \n",
    "sql_script = 'select count(*) as cnt from stock_view'\n",
    "\n",
    "spark.sql(sql_script).show()"
   ]
  },
  {
   "cell_type": "code",
   "execution_count": 89,
   "metadata": {},
   "outputs": [
    {
     "data": {
      "text/plain": [
       "2671"
      ]
     },
     "execution_count": 89,
     "metadata": {},
     "output_type": "execute_result"
    }
   ],
   "source": [
    "stock_sdf.count()"
   ]
  },
  {
   "cell_type": "code",
   "execution_count": 91,
   "metadata": {
    "application/vnd.databricks.v1+cell": {
     "inputWidgets": {},
     "nuid": "b8db7044-5ec3-4501-a7eb-67e9e317322e",
     "showTitle": false,
     "title": ""
    }
   },
   "outputs": [
    {
     "name": "stdout",
     "output_type": "stream",
     "text": [
      "+---------------+------------------+-----------------+\n",
      "|max(market_cap)|min(closing_price)|         avg(per)|\n",
      "+---------------+------------------+-----------------+\n",
      "|431615278365000|                77|51.47689375000001|\n",
      "+---------------+------------------+-----------------+\n",
      "\n"
     ]
    }
   ],
   "source": [
    "# stock_view의 최대 market_cap, 최소 closing_price, 평균 per 값을 추출. \n",
    "sql_script = 'select max(market_cap), min(closing_price), avg(per) from stock_view'\n",
    "\n",
    "spark.sql(sql_script).show()"
   ]
  },
  {
   "cell_type": "code",
   "execution_count": 93,
   "metadata": {},
   "outputs": [
    {
     "name": "stdout",
     "output_type": "stream",
     "text": [
      "+---------------+------------------+-----------------+\n",
      "|max(market_cap)|min(closing_price)|         avg(per)|\n",
      "+---------------+------------------+-----------------+\n",
      "|431615278365000|                77|51.47689375000001|\n",
      "+---------------+------------------+-----------------+\n",
      "\n"
     ]
    }
   ],
   "source": [
    "stock_sdf.select(F.max(F.col(\"market_cap\")), F.min(F.col(\"closing_price\")), F.avg(F.col(\"per\"))).show()"
   ]
  },
  {
   "cell_type": "code",
   "execution_count": 96,
   "metadata": {
    "application/vnd.databricks.v1+cell": {
     "inputWidgets": {},
     "nuid": "4a7adb51-d629-4013-ae67-bb93704820ff",
     "showTitle": false,
     "title": ""
    }
   },
   "outputs": [
    {
     "name": "stdout",
     "output_type": "stream",
     "text": [
      "+--------------+---------------+-----------------+-----------------+\n",
      "|stock_division| max_market_cap|min_closing_price|          avg_per|\n",
      "+--------------+---------------+-----------------+-----------------+\n",
      "|        보통주|431615278365000|              171|51.47689375000001|\n",
      "|        우선주| 51018975400000|             1464|             null|\n",
      "|          기타|  5599790411750|               77|             null|\n",
      "|          스팩|    73651200000|             1976|             null|\n",
      "+--------------+---------------+-----------------+-----------------+\n",
      "\n"
     ]
    }
   ],
   "source": [
    "# stock_division으로 group by 하여 stock_division 레벨로 최대 market_cap, 최소 closing_price, 평균 per 값을 추출\n",
    "sql_script = 'select stock_division, max(market_cap) as max_market_cap, min(closing_price) as min_closing_price, avg(per) as avg_per from stock_view group by stock_division'\n",
    "\n",
    "spark.sql(sql_script).show()"
   ]
  },
  {
   "cell_type": "code",
   "execution_count": 107,
   "metadata": {},
   "outputs": [
    {
     "name": "stdout",
     "output_type": "stream",
     "text": [
      "+--------------+---------------+-----------------+-----------------+\n",
      "|stock_division| max_market_cap|min_closing_price|          avg_per|\n",
      "+--------------+---------------+-----------------+-----------------+\n",
      "|        보통주|431615278365000|              171|51.47689375000001|\n",
      "|        우선주| 51018975400000|             1464|             null|\n",
      "|          기타|  5599790411750|               77|             null|\n",
      "|          스팩|    73651200000|             1976|             null|\n",
      "+--------------+---------------+-----------------+-----------------+\n",
      "\n"
     ]
    }
   ],
   "source": [
    "# stock_sdf.groupBy('stock_division').agg(F.max(F.col('market_cap')).alias('max_market_cap'), \n",
    "#                                   F.min(F.col('closing_price')).alias('min_closing_price'), \n",
    "#                                   F.avg(F.col('per')).alias('avg_per')).show()"
   ]
  },
  {
   "cell_type": "code",
   "execution_count": 108,
   "metadata": {},
   "outputs": [
    {
     "name": "stdout",
     "output_type": "stream",
     "text": [
      "+--------------+---------------+-----------------+-----------------+\n",
      "|stock_division| max_market_cap|min_closing_price|          avg_per|\n",
      "+--------------+---------------+-----------------+-----------------+\n",
      "|        보통주|431615278365000|              171|51.47689375000001|\n",
      "|        우선주| 51018975400000|             1464|             null|\n",
      "|          스팩|    73651200000|             1976|             null|\n",
      "+--------------+---------------+-----------------+-----------------+\n",
      "\n"
     ]
    }
   ],
   "source": [
    "# stock_division으로 group by 하여 stock_division 레벨로 최대 market_cap, 최소 closing_price, 평균 per 값을 추출\n",
    "sql_script = 'select stock_division, max(market_cap) as max_market_cap, min(closing_price) as min_closing_price, avg(per) as avg_per from stock_view group by stock_division having min_closing_price > 100'\n",
    "\n",
    "spark.sql(sql_script).show()"
   ]
  },
  {
   "cell_type": "code",
   "execution_count": 109,
   "metadata": {
    "application/vnd.databricks.v1+cell": {
     "inputWidgets": {},
     "nuid": "613fe4e3-7c03-4a5a-b374-8d5d8c58e467",
     "showTitle": false,
     "title": ""
    }
   },
   "outputs": [
    {
     "name": "stdout",
     "output_type": "stream",
     "text": [
      "+--------------+---------------+-----------------+-----------------+\n",
      "|stock_division| max_market_cap|min_closing_price|          avg_per|\n",
      "+--------------+---------------+-----------------+-----------------+\n",
      "|        보통주|431615278365000|              171|51.47689375000001|\n",
      "|        우선주| 51018975400000|             1464|             null|\n",
      "|          스팩|    73651200000|             1976|             null|\n",
      "+--------------+---------------+-----------------+-----------------+\n",
      "\n"
     ]
    }
   ],
   "source": [
    "# stock_sdf.groupBy('stock_division').agg(F.max(F.col('market_cap')).alias('max_market_cap'), \n",
    "#                                   F.min(F.col('closing_price')).alias('min_closing_price'), \n",
    "#                                   F.avg(F.col('per')).alias('avg_per')).filter(F.col(\"min_closing_price\") > 100).show()"
   ]
  },
  {
   "cell_type": "code",
   "execution_count": null,
   "metadata": {
    "application/vnd.databricks.v1+cell": {
     "inputWidgets": {},
     "nuid": "1ee2225c-ab61-4fa4-bed5-95beb5e07c2d",
     "showTitle": false,
     "title": ""
    }
   },
   "outputs": [
    {
     "data": {
      "text/html": [
       "<style scoped>\n",
       "  .ansiout {\n",
       "    display: block;\n",
       "    unicode-bidi: embed;\n",
       "    white-space: pre-wrap;\n",
       "    word-wrap: break-word;\n",
       "    word-break: break-all;\n",
       "    font-family: \"Source Code Pro\", \"Menlo\", monospace;;\n",
       "    font-size: 13px;\n",
       "    color: #555;\n",
       "    margin-left: 4px;\n",
       "    line-height: 19px;\n",
       "  }\n",
       "</style>"
      ]
     },
     "metadata": {
      "application/vnd.databricks.v1+output": {
       "arguments": {},
       "data": "",
       "errorSummary": "",
       "errorTraceType": null,
       "metadata": {},
       "type": "ipynbError"
      }
     },
     "output_type": "display_data",
     "transient": null
    }
   ],
   "source": [
    "%sql\n",
    "-- 아래 update sql은 동작하지 않음. \n",
    "\n",
    "update titanic_view set fare=fare*10 -- titanic_sdf.withColumn('Fare', col('Fare')*10)"
   ]
  },
  {
   "cell_type": "code",
   "execution_count": null,
   "metadata": {
    "application/vnd.databricks.v1+cell": {
     "inputWidgets": {},
     "nuid": "8f604590-ffed-4fe4-a323-c49e9ee47c96",
     "showTitle": false,
     "title": ""
    }
   },
   "outputs": [
    {
     "data": {
      "text/html": [
       "<style scoped>\n",
       "  .ansiout {\n",
       "    display: block;\n",
       "    unicode-bidi: embed;\n",
       "    white-space: pre-wrap;\n",
       "    word-wrap: break-word;\n",
       "    word-break: break-all;\n",
       "    font-family: \"Source Code Pro\", \"Menlo\", monospace;;\n",
       "    font-size: 13px;\n",
       "    color: #555;\n",
       "    margin-left: 4px;\n",
       "    line-height: 19px;\n",
       "  }\n",
       "</style>"
      ]
     },
     "metadata": {
      "application/vnd.databricks.v1+output": {
       "arguments": {},
       "data": "",
       "errorSummary": "",
       "errorTraceType": null,
       "metadata": {},
       "type": "ipynbError"
      }
     },
     "output_type": "display_data",
     "transient": null
    }
   ],
   "source": [
    "%sql\n",
    "\n",
    "delete from titanic_view;"
   ]
  },
  {
   "cell_type": "code",
   "execution_count": 132,
   "metadata": {},
   "outputs": [
    {
     "name": "stdout",
     "output_type": "stream",
     "text": [
      "+------------+------+-----+-------------+\n",
      "|  stock_name|sector|  per|closing_price|\n",
      "+------------+------+-----+-------------+\n",
      "|한화손해보험|  null| 2.66|         4945|\n",
      "|    흥국화재|  null| 2.16|         4625|\n",
      "|    삼성화재|  null|10.28|       309500|\n",
      "|    만호제강|  null|15.18|        47150|\n",
      "|유진투자증권|  null| 25.0|         4200|\n",
      "|    부국증권|  null| 5.55|        26300|\n",
      "|  상상인증권|  null|22.14|          775|\n",
      "|    현대해상|  null| 4.86|        34500|\n",
      "|  현대차증권|  null|  3.6|         9550|\n",
      "|      SK증권|  null|26.96|          620|\n",
      "|    신영증권|  null| 5.78|        68800|\n",
      "|    한양증권|  null| 5.79|        10760|\n",
      "|    유화증권|  null|34.03|         2280|\n",
      "|  유안타증권|  null|13.06|         2730|\n",
      "|    대신증권|  null|10.24|        17920|\n",
      "|    코리안리|  null| 8.62|         8320|\n",
      "|  DB손해보험|  null| 6.22|       101900|\n",
      "|  NH투자증권|  null|14.63|        12890|\n",
      "|    제주은행|  null| 19.5|        12400|\n",
      "|미래에셋증권|  null| 7.76|         8020|\n",
      "+------------+------+-----+-------------+\n",
      "only showing top 20 rows\n",
      "\n"
     ]
    }
   ],
   "source": [
    "# null, not null 조회\n",
    "sql_script = 'select stock_name, sector, per, closing_price from stock_view where per is not null and sector is null'\n",
    "\n",
    "spark.sql(sql_script).show()"
   ]
  },
  {
   "cell_type": "code",
   "execution_count": 135,
   "metadata": {
    "application/vnd.databricks.v1+cell": {
     "inputWidgets": {},
     "nuid": "d4f5c5c8-af21-4733-b876-008c5c77be49",
     "showTitle": false,
     "title": ""
    }
   },
   "outputs": [
    {
     "name": "stdout",
     "output_type": "stream",
     "text": [
      "+------------+------+-----+-------------+\n",
      "|  stock_name|sector|  per|closing_price|\n",
      "+------------+------+-----+-------------+\n",
      "|한화손해보험|  null| 2.66|         4945|\n",
      "|    흥국화재|  null| 2.16|         4625|\n",
      "|    삼성화재|  null|10.28|       309500|\n",
      "|    만호제강|  null|15.18|        47150|\n",
      "|유진투자증권|  null| 25.0|         4200|\n",
      "|    부국증권|  null| 5.55|        26300|\n",
      "|  상상인증권|  null|22.14|          775|\n",
      "|    현대해상|  null| 4.86|        34500|\n",
      "|  현대차증권|  null|  3.6|         9550|\n",
      "|      SK증권|  null|26.96|          620|\n",
      "|    신영증권|  null| 5.78|        68800|\n",
      "|    한양증권|  null| 5.79|        10760|\n",
      "|    유화증권|  null|34.03|         2280|\n",
      "|  유안타증권|  null|13.06|         2730|\n",
      "|    대신증권|  null|10.24|        17920|\n",
      "|    코리안리|  null| 8.62|         8320|\n",
      "|  DB손해보험|  null| 6.22|       101900|\n",
      "|  NH투자증권|  null|14.63|        12890|\n",
      "|    제주은행|  null| 19.5|        12400|\n",
      "|미래에셋증권|  null| 7.76|         8020|\n",
      "+------------+------+-----+-------------+\n",
      "only showing top 20 rows\n",
      "\n"
     ]
    }
   ],
   "source": [
    "stock_sdf.filter((F.col('per').isNotNull()) & (F.col('sector').isNull())).select('stock_name', 'sector', 'per', 'closing_price').show()"
   ]
  },
  {
   "cell_type": "code",
   "execution_count": 139,
   "metadata": {
    "application/vnd.databricks.v1+cell": {
     "inputWidgets": {},
     "nuid": "f3a2f244-e171-4af1-8127-daafff1858c2",
     "showTitle": false,
     "title": ""
    }
   },
   "outputs": [
    {
     "name": "stdout",
     "output_type": "stream",
     "text": [
      "+------------------+--------------+---------------+-------------+-----------------+\n",
      "|        stock_name|stock_division|market_division|   market_cap|coporate_division|\n",
      "+------------------+--------------+---------------+-------------+-----------------+\n",
      "|          동화약품|        보통주|          KOSPI| 261159244500|         중소기업|\n",
      "|          KR모터스|        보통주|          KOSPI|  44704386225|         중소기업|\n",
      "|              경방|        보통주|          KOSPI| 232207336900|         중소기업|\n",
      "|        삼양홀딩스|        보통주|          KOSPI| 610632522300|         중견기업|\n",
      "|      삼양홀딩스우|        우선주|          KOSPI|  16692784200|         중소기업|\n",
      "|        하이트진로|        보통주|          KOSPI|1423712303300|         중견기업|\n",
      "|    하이트진로2우B|        우선주|          KOSPI|  17754467980|         중소기업|\n",
      "|          유한양행|        보통주|          KOSPI|5935470736000|         중견기업|\n",
      "|        유한양행우|        우선주|          KOSPI|  74871596000|         중소기업|\n",
      "|        CJ대한통운|        보통주|          KOSPI|2842418062400|         중견기업|\n",
      "|  하이트진로홀딩스|        보통주|          KOSPI| 208860885000|         중소기업|\n",
      "|하이트진로홀딩스우|        우선주|          KOSPI|   5649720000|         중소기업|\n",
      "|              두산|        보통주|          KOSPI|2395956075000|         중견기업|\n",
      "|            두산우|        우선주|          KOSPI| 259370383800|         중소기업|\n",
      "|          두산2우B|        우선주|          KOSPI|  70192786800|         중소기업|\n",
      "|      성창기업지주|        보통주|          KOSPI| 141246990000|         중소기업|\n",
      "|                DL|        보통주|          KOSPI| 939871397400|         중견기업|\n",
      "|              DL우|        우선주|          KOSPI|  41562734750|         중소기업|\n",
      "|          유유제약|        보통주|          KOSPI|  83458519900|         중소기업|\n",
      "|       유유제약1우|        우선주|          KOSPI|  12150744800|         중소기업|\n",
      "+------------------+--------------+---------------+-------------+-----------------+\n",
      "only showing top 20 rows\n",
      "\n"
     ]
    }
   ],
   "source": [
    "    \n",
    "sql_script = ''' Select stock_name, stock_division, market_division, market_cap, CASE WHEN market_cap <= 500000000000 THEN '중소기업'\n",
    "                 WHEN market_cap < 10000000000000 Then '중견기업'\n",
    "                 WHEN market_cap is Null THEN 'NA'\n",
    "                 ELSE '대기업' END as coporate_division from stock_view;\n",
    "'''\n",
    "\n",
    "spark.sql(sql_script).show()"
   ]
  },
  {
   "cell_type": "code",
   "execution_count": 143,
   "metadata": {
    "application/vnd.databricks.v1+cell": {
     "inputWidgets": {},
     "nuid": "72ea7c46-f268-45ea-8e64-ad2bbba2ce2c",
     "showTitle": false,
     "title": ""
    }
   },
   "outputs": [
    {
     "name": "stdout",
     "output_type": "stream",
     "text": [
      "+------------------+--------------+---------------+-------------+-----------------+\n",
      "|        stock_name|stock_division|market_division|   market_cap|coporate_division|\n",
      "+------------------+--------------+---------------+-------------+-----------------+\n",
      "|          동화약품|        보통주|          KOSPI| 261159244500|         중소기업|\n",
      "|          KR모터스|        보통주|          KOSPI|  44704386225|         중소기업|\n",
      "|              경방|        보통주|          KOSPI| 232207336900|         중소기업|\n",
      "|        삼양홀딩스|        보통주|          KOSPI| 610632522300|         중견기업|\n",
      "|      삼양홀딩스우|        우선주|          KOSPI|  16692784200|         중소기업|\n",
      "|        하이트진로|        보통주|          KOSPI|1423712303300|         중견기업|\n",
      "|    하이트진로2우B|        우선주|          KOSPI|  17754467980|         중소기업|\n",
      "|          유한양행|        보통주|          KOSPI|5935470736000|         중견기업|\n",
      "|        유한양행우|        우선주|          KOSPI|  74871596000|         중소기업|\n",
      "|        CJ대한통운|        보통주|          KOSPI|2842418062400|         중견기업|\n",
      "|  하이트진로홀딩스|        보통주|          KOSPI| 208860885000|         중소기업|\n",
      "|하이트진로홀딩스우|        우선주|          KOSPI|   5649720000|         중소기업|\n",
      "|              두산|        보통주|          KOSPI|2395956075000|         중견기업|\n",
      "|            두산우|        우선주|          KOSPI| 259370383800|         중소기업|\n",
      "|          두산2우B|        우선주|          KOSPI|  70192786800|         중소기업|\n",
      "|      성창기업지주|        보통주|          KOSPI| 141246990000|         중소기업|\n",
      "|                DL|        보통주|          KOSPI| 939871397400|         중견기업|\n",
      "|              DL우|        우선주|          KOSPI|  41562734750|         중소기업|\n",
      "|          유유제약|        보통주|          KOSPI|  83458519900|         중소기업|\n",
      "|       유유제약1우|        우선주|          KOSPI|  12150744800|         중소기업|\n",
      "+------------------+--------------+---------------+-------------+-----------------+\n",
      "only showing top 20 rows\n",
      "\n"
     ]
    }
   ],
   "source": [
    "\n",
    "stock_sdf.withColumn('coporate_division', F.when(F.col('market_cap') <= 500000000000 , '중소기업')\n",
    "                                                                      .when(F.col('market_cap') < 10000000000000, '중견기업')\n",
    "                                                                      .when(F.col('market_cap').isNull(), 'NA')\n",
    "                                                                      .otherwise('대기업')).select(\"stock_name\", \"stock_division\", \"market_division\", \"market_cap\", \"coporate_division\").show()\n"
   ]
  },
  {
   "cell_type": "markdown",
   "metadata": {
    "application/vnd.databricks.v1+cell": {
     "inputWidgets": {},
     "nuid": "4936c211-a48b-47ab-bb5e-56b1edf807d5",
     "showTitle": false,
     "title": ""
    }
   },
   "source": [
    "### Databricks의 내장된 Graph 시각화 기능 사용하기. \n",
    "* 일반적으로 spark의 경우 spark DataFrame을 pandas Dataframe으로 변환 후 matplotlib 이나 seaborn을 적용하여 시각화\n",
    "* Spark에서 Pandas API와 매우 유사하게 DataFrame을 사용할 수 있도록 해주는 Koalas 패키지가 있음. Spark 3.2 부터는 Pandas API로 Koalas 패키지가 통합됨. \n",
    "* Databricks는 Graph 시각화 기능이 내장되어 있음. 이를 이용하여 손쉽게 시각화 가능. \n",
    "* 시각화 기능을 적용할 때에는 클라이언트 레벨에서 너무 많은 데이터를 가공하지 않도록 유의(매우 많은 시간과 리소스 소모)"
   ]
  },
  {
   "cell_type": "code",
   "execution_count": null,
   "metadata": {
    "application/vnd.databricks.v1+cell": {
     "inputWidgets": {},
     "nuid": "f0da006c-6de9-4d4c-9cfe-dd7e942014b9",
     "showTitle": false,
     "title": ""
    }
   },
   "outputs": [
    {
     "data": {
      "text/html": [
       "<style scoped>\n",
       "  .ansiout {\n",
       "    display: block;\n",
       "    unicode-bidi: embed;\n",
       "    white-space: pre-wrap;\n",
       "    word-wrap: break-word;\n",
       "    word-break: break-all;\n",
       "    font-family: \"Source Code Pro\", \"Menlo\", monospace;;\n",
       "    font-size: 13px;\n",
       "    color: #555;\n",
       "    margin-left: 4px;\n",
       "    line-height: 19px;\n",
       "  }\n",
       "</style>"
      ]
     },
     "metadata": {
      "application/vnd.databricks.v1+output": {
       "arguments": {},
       "data": "",
       "errorSummary": "",
       "errorTraceType": null,
       "metadata": {},
       "type": "ipynbError"
      }
     },
     "output_type": "display_data",
     "transient": null
    }
   ],
   "source": [
    "%sql\n",
    "--bar chart\n",
    "select pclass, count(*) from titanic_view group by pclass"
   ]
  },
  {
   "cell_type": "code",
   "execution_count": null,
   "metadata": {
    "application/vnd.databricks.v1+cell": {
     "inputWidgets": {},
     "nuid": "2a19bc1a-2985-444f-90d3-04fb95a09304",
     "showTitle": false,
     "title": ""
    }
   },
   "outputs": [
    {
     "data": {
      "text/html": [
       "<style scoped>\n",
       "  .ansiout {\n",
       "    display: block;\n",
       "    unicode-bidi: embed;\n",
       "    white-space: pre-wrap;\n",
       "    word-wrap: break-word;\n",
       "    word-break: break-all;\n",
       "    font-family: \"Source Code Pro\", \"Menlo\", monospace;;\n",
       "    font-size: 13px;\n",
       "    color: #555;\n",
       "    margin-left: 4px;\n",
       "    line-height: 19px;\n",
       "  }\n",
       "</style>"
      ]
     },
     "metadata": {
      "application/vnd.databricks.v1+output": {
       "arguments": {},
       "data": "",
       "errorSummary": "",
       "errorTraceType": null,
       "metadata": {},
       "type": "ipynbError"
      }
     },
     "output_type": "display_data",
     "transient": null
    }
   ],
   "source": [
    "## SQL뿐만 아니라 DataFrame도 display() 적용 시 Databricks 시각화 기능 적용 가능. \n",
    "display(titanic_sdf.groupBy('Pclass').count())"
   ]
  },
  {
   "cell_type": "code",
   "execution_count": null,
   "metadata": {
    "application/vnd.databricks.v1+cell": {
     "inputWidgets": {},
     "nuid": "0a63f973-ac18-49df-99b2-88f4c41b7b5d",
     "showTitle": false,
     "title": ""
    }
   },
   "outputs": [
    {
     "data": {
      "text/html": [
       "<style scoped>\n",
       "  .ansiout {\n",
       "    display: block;\n",
       "    unicode-bidi: embed;\n",
       "    white-space: pre-wrap;\n",
       "    word-wrap: break-word;\n",
       "    word-break: break-all;\n",
       "    font-family: \"Source Code Pro\", \"Menlo\", monospace;;\n",
       "    font-size: 13px;\n",
       "    color: #555;\n",
       "    margin-left: 4px;\n",
       "    line-height: 19px;\n",
       "  }\n",
       "</style>"
      ]
     },
     "metadata": {
      "application/vnd.databricks.v1+output": {
       "arguments": {},
       "data": "",
       "errorSummary": "",
       "errorTraceType": null,
       "metadata": {},
       "type": "ipynbError"
      }
     },
     "output_type": "display_data",
     "transient": null
    }
   ],
   "source": [
    "%sql\n",
    "-- histogram\n",
    "select survived from titanic_view"
   ]
  },
  {
   "cell_type": "code",
   "execution_count": null,
   "metadata": {
    "application/vnd.databricks.v1+cell": {
     "inputWidgets": {},
     "nuid": "fe6acb69-3b0b-45d9-babc-d2c5f6c8d93f",
     "showTitle": false,
     "title": ""
    }
   },
   "outputs": [
    {
     "data": {
      "text/html": [
       "<style scoped>\n",
       "  .ansiout {\n",
       "    display: block;\n",
       "    unicode-bidi: embed;\n",
       "    white-space: pre-wrap;\n",
       "    word-wrap: break-word;\n",
       "    word-break: break-all;\n",
       "    font-family: \"Source Code Pro\", \"Menlo\", monospace;;\n",
       "    font-size: 13px;\n",
       "    color: #555;\n",
       "    margin-left: 4px;\n",
       "    line-height: 19px;\n",
       "  }\n",
       "</style>"
      ]
     },
     "metadata": {
      "application/vnd.databricks.v1+output": {
       "arguments": {},
       "data": "",
       "errorSummary": "",
       "errorTraceType": null,
       "metadata": {},
       "type": "ipynbError"
      }
     },
     "output_type": "display_data",
     "transient": null
    }
   ],
   "source": [
    "%sql\n",
    "-- bar chart\n",
    "select Survived, count(*) from titanic_view group by Survived order by 2 desc"
   ]
  },
  {
   "cell_type": "code",
   "execution_count": null,
   "metadata": {
    "application/vnd.databricks.v1+cell": {
     "inputWidgets": {},
     "nuid": "7d685429-4b57-4e3c-a2ff-655eda73df8c",
     "showTitle": false,
     "title": ""
    }
   },
   "outputs": [
    {
     "data": {
      "text/html": [
       "<style scoped>\n",
       "  .ansiout {\n",
       "    display: block;\n",
       "    unicode-bidi: embed;\n",
       "    white-space: pre-wrap;\n",
       "    word-wrap: break-word;\n",
       "    word-break: break-all;\n",
       "    font-family: \"Source Code Pro\", \"Menlo\", monospace;;\n",
       "    font-size: 13px;\n",
       "    color: #555;\n",
       "    margin-left: 4px;\n",
       "    line-height: 19px;\n",
       "  }\n",
       "</style>"
      ]
     },
     "metadata": {
      "application/vnd.databricks.v1+output": {
       "arguments": {},
       "data": "",
       "errorSummary": "",
       "errorTraceType": null,
       "metadata": {},
       "type": "ipynbError"
      }
     },
     "output_type": "display_data",
     "transient": null
    }
   ],
   "source": [
    "%sql \n",
    "-- Sex 별로 생존/사망 건수를 비교하여 보여 주기. \n",
    "select Survived, Sex, count(*) from titanic_view group by survived, sex;"
   ]
  },
  {
   "cell_type": "code",
   "execution_count": null,
   "metadata": {
    "application/vnd.databricks.v1+cell": {
     "inputWidgets": {},
     "nuid": "e4f65a3d-80f9-4bfe-979d-f1bfe6a9f821",
     "showTitle": false,
     "title": ""
    }
   },
   "outputs": [
    {
     "data": {
      "text/html": [
       "<style scoped>\n",
       "  .ansiout {\n",
       "    display: block;\n",
       "    unicode-bidi: embed;\n",
       "    white-space: pre-wrap;\n",
       "    word-wrap: break-word;\n",
       "    word-break: break-all;\n",
       "    font-family: \"Source Code Pro\", \"Menlo\", monospace;;\n",
       "    font-size: 13px;\n",
       "    color: #555;\n",
       "    margin-left: 4px;\n",
       "    line-height: 19px;\n",
       "  }\n",
       "</style>"
      ]
     },
     "metadata": {
      "application/vnd.databricks.v1+output": {
       "arguments": {},
       "data": "",
       "errorSummary": "",
       "errorTraceType": null,
       "metadata": {},
       "type": "ipynbError"
      }
     },
     "output_type": "display_data",
     "transient": null
    }
   ],
   "source": [
    "%sql\n",
    "-- pclass와 sex 별로 생존/사망 건수를 비교하여 보여 주기 \n",
    "select Survived, Sex, Pclass, count(*) cnt from titanic_view group by survived, sex, pclass;"
   ]
  },
  {
   "cell_type": "code",
   "execution_count": null,
   "metadata": {
    "application/vnd.databricks.v1+cell": {
     "inputWidgets": {},
     "nuid": "5de32b7a-43c7-4f15-97aa-8263336bf749",
     "showTitle": false,
     "title": ""
    }
   },
   "outputs": [
    {
     "data": {
      "text/html": [
       "<style scoped>\n",
       "  .ansiout {\n",
       "    display: block;\n",
       "    unicode-bidi: embed;\n",
       "    white-space: pre-wrap;\n",
       "    word-wrap: break-word;\n",
       "    word-break: break-all;\n",
       "    font-family: \"Source Code Pro\", \"Menlo\", monospace;;\n",
       "    font-size: 13px;\n",
       "    color: #555;\n",
       "    margin-left: 4px;\n",
       "    line-height: 19px;\n",
       "  }\n",
       "</style>"
      ]
     },
     "metadata": {
      "application/vnd.databricks.v1+output": {
       "arguments": {},
       "data": "",
       "errorSummary": "",
       "errorTraceType": null,
       "metadata": {},
       "type": "ipynbError"
      }
     },
     "output_type": "display_data",
     "transient": null
    }
   ],
   "source": [
    "%sql\n",
    "-- scatter plot\n",
    "select fare, age from titanic_view"
   ]
  },
  {
   "cell_type": "code",
   "execution_count": null,
   "metadata": {
    "application/vnd.databricks.v1+cell": {
     "inputWidgets": {},
     "nuid": "5ca234ee-16e8-4efb-9cf2-743ce703c1d5",
     "showTitle": false,
     "title": ""
    }
   },
   "outputs": [
    {
     "data": {
      "text/html": [
       "<style scoped>\n",
       "  .ansiout {\n",
       "    display: block;\n",
       "    unicode-bidi: embed;\n",
       "    white-space: pre-wrap;\n",
       "    word-wrap: break-word;\n",
       "    word-break: break-all;\n",
       "    font-family: \"Source Code Pro\", \"Menlo\", monospace;;\n",
       "    font-size: 13px;\n",
       "    color: #555;\n",
       "    margin-left: 4px;\n",
       "    line-height: 19px;\n",
       "  }\n",
       "</style>"
      ]
     },
     "metadata": {
      "application/vnd.databricks.v1+output": {
       "arguments": {},
       "data": "",
       "errorSummary": "",
       "errorTraceType": null,
       "metadata": {},
       "type": "ipynbError"
      }
     },
     "output_type": "display_data",
     "transient": null
    }
   ],
   "source": [
    "%sql\n",
    "-- boxplot\n",
    "select age from titanic_view"
   ]
  },
  {
   "cell_type": "code",
   "execution_count": null,
   "metadata": {
    "application/vnd.databricks.v1+cell": {
     "inputWidgets": {},
     "nuid": "50c3264f-35b1-45d5-b743-627b04982918",
     "showTitle": false,
     "title": ""
    }
   },
   "outputs": [
    {
     "data": {
      "text/html": [
       "<style scoped>\n",
       "  .ansiout {\n",
       "    display: block;\n",
       "    unicode-bidi: embed;\n",
       "    white-space: pre-wrap;\n",
       "    word-wrap: break-word;\n",
       "    word-break: break-all;\n",
       "    font-family: \"Source Code Pro\", \"Menlo\", monospace;;\n",
       "    font-size: 13px;\n",
       "    color: #555;\n",
       "    margin-left: 4px;\n",
       "    line-height: 19px;\n",
       "  }\n",
       "</style>"
      ]
     },
     "metadata": {
      "application/vnd.databricks.v1+output": {
       "arguments": {},
       "data": "",
       "errorSummary": "",
       "errorTraceType": null,
       "metadata": {},
       "type": "ipynbError"
      }
     },
     "output_type": "display_data",
     "transient": null
    }
   ],
   "source": []
  }
 ],
 "metadata": {
  "application/vnd.databricks.v1+notebook": {
   "dashboards": [
    {
     "elements": [
      {
       "elementNUID": "f0da006c-6de9-4d4c-9cfe-dd7e942014b9",
       "elementType": "command",
       "guid": "5e7c0e98-c979-4f19-9eb9-f5cef83e7181",
       "options": null,
       "position": {
        "height": 6,
        "width": 12,
        "x": 0,
        "y": 0,
        "z": null
       }
      }
     ],
     "globalVars": {},
     "guid": "3a7cf3fd-f784-4f0a-b9b2-c86c63576688",
     "layoutOption": {
      "grid": true,
      "stack": true
     },
     "nuid": "851516b5-72cf-4f8c-8860-60dbd390a5fe",
     "origId": 63825981225268,
     "title": "Untitled",
     "version": "DashboardViewV1",
     "width": 1024
    },
    {
     "elements": [
      {
       "elementNUID": "f0da006c-6de9-4d4c-9cfe-dd7e942014b9",
       "elementType": "command",
       "guid": "4f80cee7-d3a5-4492-93e8-1199217e64e9",
       "options": null,
       "position": {
        "height": 6,
        "width": 12,
        "x": 0,
        "y": 0,
        "z": null
       }
      }
     ],
     "globalVars": {},
     "guid": "43aca801-a21a-4f7d-9dc3-daf9f21b73f9",
     "layoutOption": {
      "grid": true,
      "stack": true
     },
     "nuid": "729d180e-0c87-4f2e-a97f-f67e117a9938",
     "origId": 63825981225269,
     "title": "Untitled",
     "version": "DashboardViewV1",
     "width": 1024
    },
    {
     "elements": [
      {
       "elementNUID": "f0da006c-6de9-4d4c-9cfe-dd7e942014b9",
       "elementType": "command",
       "guid": "7a58cb24-19a1-4994-9fc2-88f70ffcc5d3",
       "options": null,
       "position": {
        "height": 6,
        "width": 12,
        "x": 0,
        "y": 0,
        "z": null
       }
      }
     ],
     "globalVars": {},
     "guid": "6f2c8736-6f92-411f-8232-2083b59a09ad",
     "layoutOption": {
      "grid": true,
      "stack": true
     },
     "nuid": "a2c065a5-dfa8-4ae3-8a8d-7648e03b14a3",
     "origId": 63825981225278,
     "title": "Untitled",
     "version": "DashboardViewV1",
     "width": 1024
    }
   ],
   "language": "python",
   "notebookMetadata": {
    "pythonIndentUnit": 4
   },
   "notebookName": "spark_sql_n_dataframe_exercise",
   "notebookOrigID": 2530590967125859,
   "widgets": {}
  },
  "kernelspec": {
   "display_name": "Python 3 (ipykernel)",
   "language": "python",
   "name": "python3"
  },
  "language_info": {
   "codemirror_mode": {
    "name": "ipython",
    "version": 3
   },
   "file_extension": ".py",
   "mimetype": "text/x-python",
   "name": "python",
   "nbconvert_exporter": "python",
   "pygments_lexer": "ipython3",
   "version": "3.11.4"
  }
 },
 "nbformat": 4,
 "nbformat_minor": 4
}
